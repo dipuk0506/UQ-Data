{
 "cells": [
  {
   "cell_type": "code",
   "execution_count": 1,
   "id": "skilled-exhibition",
   "metadata": {
    "_cell_guid": "b1076dfc-b9ad-4769-8c92-a6c4dae69d19",
    "_uuid": "8f2839f25d086af736a60e9eeb907d3b93b6e0e5",
    "execution": {
     "iopub.execute_input": "2021-04-26T02:32:10.145170Z",
     "iopub.status.busy": "2021-04-26T02:32:10.144505Z",
     "iopub.status.idle": "2021-04-26T02:32:10.223341Z",
     "shell.execute_reply": "2021-04-26T02:32:10.222122Z"
    },
    "papermill": {
     "duration": 0.091797,
     "end_time": "2021-04-26T02:32:10.223537",
     "exception": false,
     "start_time": "2021-04-26T02:32:10.131740",
     "status": "completed"
    },
    "tags": []
   },
   "outputs": [
    {
     "data": {
      "text/html": [
       "<div>\n",
       "<style scoped>\n",
       "    .dataframe tbody tr th:only-of-type {\n",
       "        vertical-align: middle;\n",
       "    }\n",
       "\n",
       "    .dataframe tbody tr th {\n",
       "        vertical-align: top;\n",
       "    }\n",
       "\n",
       "    .dataframe thead th {\n",
       "        text-align: right;\n",
       "    }\n",
       "</style>\n",
       "<table border=\"1\" class=\"dataframe\">\n",
       "  <thead>\n",
       "    <tr style=\"text-align: right;\">\n",
       "      <th></th>\n",
       "      <th>Input1</th>\n",
       "      <th>Output</th>\n",
       "    </tr>\n",
       "  </thead>\n",
       "  <tbody>\n",
       "    <tr>\n",
       "      <th>0</th>\n",
       "      <td>-1.000</td>\n",
       "      <td>-0.198589</td>\n",
       "    </tr>\n",
       "    <tr>\n",
       "      <th>1</th>\n",
       "      <td>-0.991</td>\n",
       "      <td>-0.108559</td>\n",
       "    </tr>\n",
       "    <tr>\n",
       "      <th>2</th>\n",
       "      <td>-0.982</td>\n",
       "      <td>-0.027084</td>\n",
       "    </tr>\n",
       "    <tr>\n",
       "      <th>3</th>\n",
       "      <td>-0.973</td>\n",
       "      <td>0.023096</td>\n",
       "    </tr>\n",
       "    <tr>\n",
       "      <th>4</th>\n",
       "      <td>-0.964</td>\n",
       "      <td>0.231983</td>\n",
       "    </tr>\n",
       "  </tbody>\n",
       "</table>\n",
       "</div>"
      ],
      "text/plain": [
       "   Input1    Output\n",
       "0  -1.000 -0.198589\n",
       "1  -0.991 -0.108559\n",
       "2  -0.982 -0.027084\n",
       "3  -0.973  0.023096\n",
       "4  -0.964  0.231983"
      ]
     },
     "execution_count": 1,
     "metadata": {},
     "output_type": "execute_result"
    }
   ],
   "source": [
    "train_csv_path = '../input/toy-dataset-for-regression-and-uq/Data9_Train.csv'\n",
    "test_csv_path = '../input/toy-dataset-for-regression-and-uq/Data9_Test.csv'\n",
    "val_csv_path = '../input/toy-dataset-for-regression-and-uq/Data9_Val.csv'\n",
    "\n",
    "\n",
    "\n",
    "import pandas as pd\n",
    "train_df = pd.read_csv(train_csv_path)\n",
    "val_df = pd.read_csv(val_csv_path)\n",
    "train_df.head()"
   ]
  },
  {
   "cell_type": "code",
   "execution_count": 2,
   "id": "civic-progressive",
   "metadata": {
    "execution": {
     "iopub.execute_input": "2021-04-26T02:32:10.339477Z",
     "iopub.status.busy": "2021-04-26T02:32:10.255906Z",
     "iopub.status.idle": "2021-04-26T02:32:11.690298Z",
     "shell.execute_reply": "2021-04-26T02:32:11.690840Z"
    },
    "papermill": {
     "duration": 1.460237,
     "end_time": "2021-04-26T02:32:11.691042",
     "exception": false,
     "start_time": "2021-04-26T02:32:10.230805",
     "status": "completed"
    },
    "tags": []
   },
   "outputs": [
    {
     "name": "stdout",
     "output_type": "stream",
     "text": [
      "1\n",
      "tensor(1.0430) tensor(-1.0908) tensor([0.9910]) tensor([-1.])\n",
      "tensor([1.9910]) tensor(2.1338)\n"
     ]
    }
   ],
   "source": [
    "input_=[]\n",
    "output_=[]\n",
    "for row in train_df.iloc:\n",
    "    input_.append((row[0:len(row)-1]).astype(float))\n",
    "    output_.append(row[-1])\n",
    "    \n",
    "i_val=[]\n",
    "o_val=[]\n",
    "for row in val_df.iloc:\n",
    "    i_val.append((row[0:len(row)-1]).astype(float))\n",
    "    o_val.append(row[-1])\n",
    "    \n",
    "num_input = len(row)-1;\n",
    "print(num_input)\n",
    "\n",
    "####################################################\n",
    "#\n",
    "# This code is written with the help of the demo:\n",
    "# https://medium.com/@benjamin.phillips22/simple-regression-with-neural-networks-in-pytorch-313f06910379\n",
    "#\n",
    "####################################################\n",
    "import torch\n",
    "from torch.autograd import Variable\n",
    "import torch.nn.functional as F\n",
    "import torch.utils.data as Data\n",
    "\n",
    "import matplotlib.pyplot as plt\n",
    "%matplotlib inline\n",
    "\n",
    "import numpy as np\n",
    "import imageio\n",
    "\n",
    "\n",
    "torch.manual_seed(1)    # reproducible\n",
    "\n",
    "x = torch.tensor(input_).float()  \n",
    "y = torch.tensor(output_).float()   \n",
    "new_shape = (len(y), 1)\n",
    "y = y.view(new_shape)\n",
    "\n",
    "\n",
    "i_val = torch.tensor(i_val).float()  \n",
    "o_val = torch.tensor(o_val).float()   \n",
    "new_shape = (len(o_val), 1)\n",
    "o_val = o_val.view(new_shape)\n",
    "\n",
    "\n",
    "\n",
    "max_y = torch.max(y[:,0])\n",
    "min_y =torch.min(y[:,0])\n",
    "\n",
    "max_x = torch.max(x,dim=0)\n",
    "min_x = torch.min(x,dim=0)\n",
    "\n",
    "print(max_y, min_y, max_x.values, min_x.values)\n",
    "\n",
    "range_y = max_y - min_y\n",
    "range_x = max_x.values - min_x.values\n",
    "\n",
    "print(range_x, range_y)\n",
    "\n",
    "    #Normalizing\n",
    "x = (x - min_x.values)/range_x\n",
    "y = (y - min_y)/range_y\n",
    "\n",
    "    #Normalizing\n",
    "i_val = (i_val - min_x.values)/range_x\n",
    "o_val = (o_val - min_y)/range_y"
   ]
  },
  {
   "cell_type": "code",
   "execution_count": 3,
   "id": "hispanic-direction",
   "metadata": {
    "execution": {
     "iopub.execute_input": "2021-04-26T02:32:11.708938Z",
     "iopub.status.busy": "2021-04-26T02:32:11.707986Z",
     "iopub.status.idle": "2021-04-26T02:33:00.438726Z",
     "shell.execute_reply": "2021-04-26T02:33:00.439195Z"
    },
    "papermill": {
     "duration": 48.741314,
     "end_time": "2021-04-26T02:33:00.439375",
     "exception": false,
     "start_time": "2021-04-26T02:32:11.698061",
     "status": "completed"
    },
    "tags": []
   },
   "outputs": [
    {
     "name": "stdout",
     "output_type": "stream",
     "text": [
      "Net(\n",
      "  (hidden): Linear(in_features=1, out_features=1000, bias=True)\n",
      "  (hidden2): Linear(in_features=1000, out_features=1000, bias=True)\n",
      "  (predict): Linear(in_features=1000, out_features=1, bias=True)\n",
      ")\n",
      "Epoch [200/2000], Loss: 0.0746, Minimum Loss 0.074553, Val Loss 0.094784  \n",
      "Epoch [400/2000], Loss: 0.0671, Minimum Loss 0.067136, Val Loss 0.094784  \n",
      "Epoch [600/2000], Loss: 0.0638, Minimum Loss 0.063785, Val Loss 0.094784  \n",
      "Epoch [800/2000], Loss: 0.0592, Minimum Loss 0.059179, Val Loss 0.091049  \n",
      "Epoch [1000/2000], Loss: 0.0509, Minimum Loss 0.050910, Val Loss 0.080026  \n",
      "Epoch [1200/2000], Loss: 0.0370, Minimum Loss 0.037000, Val Loss 0.058331  \n",
      "Epoch [1400/2000], Loss: 0.0229, Minimum Loss 0.022934, Val Loss 0.033489  \n",
      "Epoch [1600/2000], Loss: 0.0144, Minimum Loss 0.014415, Val Loss 0.018661  \n",
      "Epoch [1800/2000], Loss: 0.0084, Minimum Loss 0.008412, Val Loss 0.010194  \n",
      "Epoch [2000/2000], Loss: 0.0061, Minimum Loss 0.004988, Val Loss 0.006157  \n"
     ]
    }
   ],
   "source": [
    "# torch can only train on Variable, so convert them to Variable\n",
    "x, y = Variable(x), Variable(y)\n",
    " \n",
    "class Net(torch.nn.Module):\n",
    "    def __init__(self, n_feature, n_hidden, n_output):\n",
    "        super(Net, self).__init__()\n",
    "        self.hidden = torch.nn.Linear(n_feature, n_hidden)   # hidden layer\n",
    "        self.hidden2 = torch.nn.Linear(n_hidden, n_hidden)   # hidden layer\n",
    "        self.predict = torch.nn.Linear(n_hidden, n_output)   # output layer\n",
    "\n",
    "    def forward(self, x):\n",
    "        x = F.relu(self.hidden(x))      # activation function for hidden layer\n",
    "        x = F.relu(self.hidden2(x))\n",
    "        x = self.predict(x)             # linear output\n",
    "        return x\n",
    "\n",
    "# use the same net as before      \n",
    "net = Net(n_feature=num_input, n_hidden=1000, n_output=1)     # define the network\n",
    "print(net)  # net architecture\n",
    "optimizer = torch.optim.Adam(net.parameters(), lr=0.05)\n",
    "loss_func = torch.nn.MSELoss()  # this is for regression mean squared loss\n",
    "\n",
    "\n",
    "minimum_train_loss = 1e5\n",
    "minimum_val_loss = 1e5\n",
    "EPOCH = 2000\n",
    "\n",
    "# start training\n",
    "for epoch in range(EPOCH):\n",
    "  \n",
    "    prediction = net(x)     # input x and predict based on x\n",
    "\n",
    "    loss = loss_func(prediction, y)     # must be (1. nn output, 2. target)\n",
    "\n",
    "    optimizer.zero_grad()   # clear gradients for next train\n",
    "    loss.backward()         # backpropagation, compute gradients\n",
    "    optimizer.step()        # apply gradients\n",
    "    \n",
    "    if loss<minimum_train_loss:\n",
    "        minimum_train_loss =loss\n",
    "        net_opt = net\n",
    "    \n",
    "    if epoch%200 == 199:\n",
    "      prediction = net_opt(i_val)\n",
    "      loss_val = loss_func(prediction, o_val)\n",
    "      if loss_val<minimum_val_loss:\n",
    "        minimum_val_loss = loss_val\n",
    "        net_opt_val = net_opt\n",
    "      print (\"Epoch [{}/{}], Loss: {:.4f}, Minimum Loss {:.6f}, Val Loss {:.6f}  \"  .format(epoch+1, EPOCH, loss, minimum_train_loss, minimum_val_loss))"
   ]
  },
  {
   "cell_type": "code",
   "execution_count": 4,
   "id": "built-closing",
   "metadata": {
    "execution": {
     "iopub.execute_input": "2021-04-26T02:33:00.469147Z",
     "iopub.status.busy": "2021-04-26T02:33:00.468430Z",
     "iopub.status.idle": "2021-04-26T02:33:00.540391Z",
     "shell.execute_reply": "2021-04-26T02:33:00.539752Z"
    },
    "papermill": {
     "duration": 0.090471,
     "end_time": "2021-04-26T02:33:00.540542",
     "exception": false,
     "start_time": "2021-04-26T02:33:00.450071",
     "status": "completed"
    },
    "tags": []
   },
   "outputs": [
    {
     "name": "stdout",
     "output_type": "stream",
     "text": [
      "Normalized Test Loss 0.0061570406\n",
      "Test Loss 0.0280336\n"
     ]
    }
   ],
   "source": [
    "test_df = pd.read_csv(test_csv_path)\n",
    "\n",
    "i_test=[]\n",
    "o_test=[]\n",
    "for row in val_df.iloc:\n",
    "    i_test.append((row[0:len(row)-1]).astype(float))\n",
    "    o_test.append(row[-1])\n",
    "\n",
    "\n",
    "   \n",
    "i_test, o_test = Variable(torch.tensor(i_test)).float(), Variable(torch.tensor(o_test).float())\n",
    "new_shape = (len(o_test), 1)\n",
    "o_test = o_test.view(new_shape)\n",
    "\n",
    "    #Normalizing\n",
    "i_test = (i_test - min_x.values)/range_x\n",
    "o_test = (o_test - min_y)/range_y\n",
    "\n",
    "prediction = net_opt_val(i_test)\n",
    "loss_test = loss_func(prediction, o_test)\n",
    "\n",
    "print(\"Normalized Test Loss\",loss_test.detach().numpy())\n",
    "\n",
    "loss_test = loss_test*range_y*range_y # As the loss function returns MSE\n",
    "\n",
    "print(\"Test Loss\",loss_test.detach().numpy())\n",
    "\n"
   ]
  },
  {
   "cell_type": "code",
   "execution_count": 5,
   "id": "finite-plane",
   "metadata": {
    "execution": {
     "iopub.execute_input": "2021-04-26T02:33:00.572190Z",
     "iopub.status.busy": "2021-04-26T02:33:00.571394Z",
     "iopub.status.idle": "2021-04-26T02:33:00.574917Z",
     "shell.execute_reply": "2021-04-26T02:33:00.575495Z"
    },
    "papermill": {
     "duration": 0.023818,
     "end_time": "2021-04-26T02:33:00.575673",
     "exception": false,
     "start_time": "2021-04-26T02:33:00.551855",
     "status": "completed"
    },
    "tags": []
   },
   "outputs": [],
   "source": [
    "import math\n",
    "standard_deviation = math.sqrt(minimum_val_loss)\n",
    "z_95 = 1.96*standard_deviation\n",
    "LB = prediction.detach().numpy() - z_95\n",
    "UB = prediction.detach().numpy() + z_95\n",
    "o_test = o_test.detach().numpy()\n",
    "\n",
    "\n",
    "#Denormalization\n",
    "i_test = i_test*range_x + min_x.values\n",
    "o_test = o_test*range_y.detach().numpy() + min_y.detach().numpy()\n",
    "LB = LB*range_y.detach().numpy() + min_y.detach().numpy()\n",
    "UB = UB*range_y.detach().numpy() + min_y.detach().numpy()\n",
    "prediction = prediction*range_y + min_y"
   ]
  },
  {
   "cell_type": "code",
   "execution_count": 6,
   "id": "atomic-corner",
   "metadata": {
    "execution": {
     "iopub.execute_input": "2021-04-26T02:33:00.628009Z",
     "iopub.status.busy": "2021-04-26T02:33:00.627200Z",
     "iopub.status.idle": "2021-04-26T02:33:00.868880Z",
     "shell.execute_reply": "2021-04-26T02:33:00.868329Z"
    },
    "papermill": {
     "duration": 0.281833,
     "end_time": "2021-04-26T02:33:00.869053",
     "exception": false,
     "start_time": "2021-04-26T02:33:00.587220",
     "status": "completed"
    },
    "tags": []
   },
   "outputs": [
    {
     "name": "stdout",
     "output_type": "stream",
     "text": [
      "PINAW: 0.30372913430724036   PINC: 0.96   PINAFD:  0.0010452568206627813\n"
     ]
    },
    {
     "data": {
      "image/png": "[encoded data removed]",
      "text/plain": [
       "<Figure size 432x288 with 1 Axes>"
      ]
     },
     "metadata": {
      "needs_background": "light"
     },
     "output_type": "display_data"
    }
   ],
   "source": [
    "\n",
    "fig, (ax1) = plt.subplots(1, 1)\n",
    "\n",
    "ax1.set(xlabel=\"Input (X1, Arbitrary Unit)\", ylabel=\"Target and Predictions (Arbitrary Unit)\" , ylim = (-1.5, 1.7), xlim = (-1,1))\n",
    "plt.rcParams[\"figure.figsize\"] = (6,5)\n",
    "\n",
    "ax1.plot(i_test[:,0], prediction.detach().numpy(), color='r', linewidth=2, label='Point Prediction')\n",
    "ax1.plot(i_test[:,0], LB, color='g', linewidth=2, label='Prediction Interval')\n",
    "ax1.scatter(i_test[:,0], o_test, color='b',s=.5, label='Target')\n",
    "ax1.plot(i_test[:,0], UB, linewidth=2, color='g')\n",
    "\n",
    "leg = ax1.legend(frameon=False, loc='lower left', bbox_to_anchor=(0.55,0.8));\n",
    "\n",
    "fig.show()\n",
    "\n",
    "\n",
    "\n",
    "\n",
    "PINAW = np.sum(UB-LB)/len(UB)/(np.max(o_test)-np.min(o_test)) \n",
    "# here PINAW= 2*z_95\n",
    "\n",
    "\n",
    "PINC = 0\n",
    "PINAFD =0\n",
    "for iter1 in range(len(UB)):\n",
    "    if UB[iter1]>=o_test[iter1] and LB[iter1]<=o_test[iter1]:\n",
    "        PINC = PINC+1\n",
    "    else:\n",
    "        PINAFD = PINAFD + np.min([np.abs(UB[iter1]-o_test[iter1]), np.abs(LB[iter1]<o_test[iter1])]) \n",
    "        # PINAFD distance from the nearest interval\n",
    "\n",
    "\n",
    "if PINAFD>0:\n",
    "    PINAFD = PINAFD/(len(UB) - PINC)/(np.max(o_test)-np.min(o_test))         \n",
    "\n",
    "PINC = PINC/len(UB)\n",
    "\n",
    "print(\"PINAW:\",PINAW, \"  PINC:\", PINC, \"  PINAFD: \", PINAFD) \n"
   ]
  }
 ],
 "metadata": {
  "kernelspec": {
   "display_name": "Python 3",
   "language": "python",
   "name": "python3"
  },
  "language_info": {
   "codemirror_mode": {
    "name": "ipython",
    "version": 3
   },
   "file_extension": ".py",
   "mimetype": "text/x-python",
   "name": "python",
   "nbconvert_exporter": "python",
   "pygments_lexer": "ipython3",
   "version": "3.7.9"
  },
  "papermill": {
   "default_parameters": {},
   "duration": 57.656518,
   "end_time": "2021-04-26T02:33:01.592730",
   "environment_variables": {},
   "exception": null,
   "input_path": "__notebook__.ipynb",
   "output_path": "__notebook__.ipynb",
   "parameters": {},
   "start_time": "2021-04-26T02:32:03.936212",
   "version": "2.3.2"
  }
 },
 "nbformat": 4,
 "nbformat_minor": 5
}
