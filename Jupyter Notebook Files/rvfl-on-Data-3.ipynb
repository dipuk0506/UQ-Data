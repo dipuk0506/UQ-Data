{
 "cells": [
  {
   "cell_type": "markdown",
   "id": "f01cffcd",
   "metadata": {
    "papermill": {
     "duration": 0.012179,
     "end_time": "2021-07-26T02:48:53.715639",
     "exception": false,
     "start_time": "2021-07-26T02:48:53.703460",
     "status": "completed"
    },
    "tags": []
   },
   "source": [
    "# Random Vector Functional Link (RVFL)"
   ]
  },
  {
   "cell_type": "markdown",
   "id": "1fdd3182",
   "metadata": {
    "papermill": {
     "duration": 0.010709,
     "end_time": "2021-07-26T02:48:53.738093",
     "exception": false,
     "start_time": "2021-07-26T02:48:53.727384",
     "status": "completed"
    },
    "tags": []
   },
   "source": [
    "## Loading CSV files"
   ]
  },
  {
   "cell_type": "code",
   "execution_count": 1,
   "id": "0299745c",
   "metadata": {
    "execution": {
     "iopub.execute_input": "2021-07-26T02:48:53.774146Z",
     "iopub.status.busy": "2021-07-26T02:48:53.768478Z",
     "iopub.status.idle": "2021-07-26T02:48:55.182130Z",
     "shell.execute_reply": "2021-07-26T02:48:55.181376Z",
     "shell.execute_reply.started": "2021-07-26T02:48:14.258408Z"
    },
    "papermill": {
     "duration": 1.433231,
     "end_time": "2021-07-26T02:48:55.182287",
     "exception": false,
     "start_time": "2021-07-26T02:48:53.749056",
     "status": "completed"
    },
    "tags": []
   },
   "outputs": [
    {
     "data": {
      "text/html": [
       "<div>\n",
       "<style scoped>\n",
       "    .dataframe tbody tr th:only-of-type {\n",
       "        vertical-align: middle;\n",
       "    }\n",
       "\n",
       "    .dataframe tbody tr th {\n",
       "        vertical-align: top;\n",
       "    }\n",
       "\n",
       "    .dataframe thead th {\n",
       "        text-align: right;\n",
       "    }\n",
       "</style>\n",
       "<table border=\"1\" class=\"dataframe\">\n",
       "  <thead>\n",
       "    <tr style=\"text-align: right;\">\n",
       "      <th></th>\n",
       "      <th>Input1</th>\n",
       "      <th>Input2</th>\n",
       "      <th>Input3</th>\n",
       "      <th>Output</th>\n",
       "    </tr>\n",
       "  </thead>\n",
       "  <tbody>\n",
       "    <tr>\n",
       "      <th>0</th>\n",
       "      <td>2.659116</td>\n",
       "      <td>4.673695</td>\n",
       "      <td>1.231898</td>\n",
       "      <td>-1.010633</td>\n",
       "    </tr>\n",
       "    <tr>\n",
       "      <th>1</th>\n",
       "      <td>6.172297</td>\n",
       "      <td>0.308095</td>\n",
       "      <td>6.197296</td>\n",
       "      <td>0.140169</td>\n",
       "    </tr>\n",
       "    <tr>\n",
       "      <th>2</th>\n",
       "      <td>1.620350</td>\n",
       "      <td>3.752477</td>\n",
       "      <td>3.010036</td>\n",
       "      <td>0.014108</td>\n",
       "    </tr>\n",
       "    <tr>\n",
       "      <th>3</th>\n",
       "      <td>6.269573</td>\n",
       "      <td>3.173038</td>\n",
       "      <td>6.019555</td>\n",
       "      <td>-0.016590</td>\n",
       "    </tr>\n",
       "    <tr>\n",
       "      <th>4</th>\n",
       "      <td>3.946378</td>\n",
       "      <td>3.264015</td>\n",
       "      <td>2.245954</td>\n",
       "      <td>1.222183</td>\n",
       "    </tr>\n",
       "  </tbody>\n",
       "</table>\n",
       "</div>"
      ],
      "text/plain": [
       "     Input1    Input2    Input3    Output\n",
       "0  2.659116  4.673695  1.231898 -1.010633\n",
       "1  6.172297  0.308095  6.197296  0.140169\n",
       "2  1.620350  3.752477  3.010036  0.014108\n",
       "3  6.269573  3.173038  6.019555 -0.016590\n",
       "4  3.946378  3.264015  2.245954  1.222183"
      ]
     },
     "execution_count": 1,
     "metadata": {},
     "output_type": "execute_result"
    }
   ],
   "source": [
    "train_csv_path = '../input/toy-dataset-for-regression-and-uq/Data3_Train.csv'\n",
    "test_csv_path = '../input/toy-dataset-for-regression-and-uq/Data3_Test.csv'\n",
    "val_csv_path = '../input/toy-dataset-for-regression-and-uq/Data3_Val.csv'\n",
    "\n",
    "\n",
    "import pandas as pd\n",
    "import torch\n",
    "from torch.autograd import Variable\n",
    "import torch.nn.functional as F\n",
    "import torch.utils.data as Data\n",
    "\n",
    "import matplotlib.pyplot as plt\n",
    "%matplotlib inline\n",
    "\n",
    "import numpy as np\n",
    "import imageio\n",
    "import math\n",
    "\n",
    "\n",
    "train_df = pd.read_csv(train_csv_path)\n",
    "val_df = pd.read_csv(val_csv_path)\n",
    "train_df.head()"
   ]
  },
  {
   "cell_type": "markdown",
   "id": "27560e0c",
   "metadata": {
    "papermill": {
     "duration": 0.011126,
     "end_time": "2021-07-26T02:48:55.205239",
     "exception": false,
     "start_time": "2021-07-26T02:48:55.194113",
     "status": "completed"
    },
    "tags": []
   },
   "source": [
    "## Normalizing training and validation data"
   ]
  },
  {
   "cell_type": "code",
   "execution_count": 2,
   "id": "de96e036",
   "metadata": {
    "execution": {
     "iopub.execute_input": "2021-07-26T02:48:56.805146Z",
     "iopub.status.busy": "2021-07-26T02:48:55.480565Z",
     "iopub.status.idle": "2021-07-26T02:48:57.079479Z",
     "shell.execute_reply": "2021-07-26T02:48:57.078553Z",
     "shell.execute_reply.started": "2021-07-26T02:48:14.292339Z"
    },
    "papermill": {
     "duration": 1.862975,
     "end_time": "2021-07-26T02:48:57.079661",
     "exception": false,
     "start_time": "2021-07-26T02:48:55.216686",
     "status": "completed"
    },
    "tags": []
   },
   "outputs": [
    {
     "name": "stdout",
     "output_type": "stream",
     "text": [
      "3\n",
      "tensor(1.4626) tensor(-1.4431) tensor([6.2822, 6.2817, 6.2823]) tensor([4.0563e-04, 6.2234e-05, 9.0123e-04])\n",
      "tensor([6.2818, 6.2816, 6.2814]) tensor(2.9057)\n"
     ]
    }
   ],
   "source": [
    "input_=[]\n",
    "output_=[]\n",
    "for row in train_df.iloc:\n",
    "    input_.append((row[0:len(row)-1]).astype(float))\n",
    "    output_.append(row[-1])\n",
    "    \n",
    "i_val=[]\n",
    "o_val=[]\n",
    "for row in val_df.iloc:\n",
    "    i_val.append((row[0:len(row)-1]).astype(float))\n",
    "    o_val.append(row[-1])\n",
    "    \n",
    "num_input = len(row)-1;\n",
    "print(num_input)\n",
    "\n",
    "\n",
    "torch.manual_seed(1)    # reproducible\n",
    "\n",
    "x = torch.tensor(input_).float()  \n",
    "y = torch.tensor(output_).float()   \n",
    "new_shape = (len(y), 1)\n",
    "y = y.view(new_shape)\n",
    "\n",
    "\n",
    "i_val = torch.tensor(i_val).float()  \n",
    "o_val = torch.tensor(o_val).float()   \n",
    "new_shape = (len(o_val), 1)\n",
    "o_val = o_val.view(new_shape)\n",
    "\n",
    "\n",
    "\n",
    "max_y = torch.max(y[:,0])\n",
    "min_y =torch.min(y[:,0])\n",
    "\n",
    "max_x = torch.max(x,dim=0)\n",
    "min_x = torch.min(x,dim=0)\n",
    "\n",
    "print(max_y, min_y, max_x.values, min_x.values)\n",
    "\n",
    "range_y = max_y - min_y\n",
    "range_x = max_x.values - min_x.values\n",
    "\n",
    "print(range_x, range_y)\n",
    "\n",
    "    #Normalizing\n",
    "x = (x - min_x.values)/range_x\n",
    "y = (y - min_y)/range_y\n",
    "\n",
    "    #Normalizing\n",
    "i_val = (i_val - min_x.values)/range_x\n",
    "o_val = (o_val - min_y)/range_y"
   ]
  },
  {
   "cell_type": "markdown",
   "id": "efb43290",
   "metadata": {
    "papermill": {
     "duration": 0.012156,
     "end_time": "2021-07-26T02:48:57.104512",
     "exception": false,
     "start_time": "2021-07-26T02:48:57.092356",
     "status": "completed"
    },
    "tags": []
   },
   "source": [
    "## RVFL Network"
   ]
  },
  {
   "cell_type": "code",
   "execution_count": 3,
   "id": "c84a8215",
   "metadata": {
    "execution": {
     "iopub.execute_input": "2021-07-26T02:48:57.140073Z",
     "iopub.status.busy": "2021-07-26T02:48:57.139364Z",
     "iopub.status.idle": "2021-07-26T02:48:57.263967Z",
     "shell.execute_reply": "2021-07-26T02:48:57.263134Z",
     "shell.execute_reply.started": "2021-07-26T02:48:16.014769Z"
    },
    "papermill": {
     "duration": 0.146958,
     "end_time": "2021-07-26T02:48:57.264121",
     "exception": false,
     "start_time": "2021-07-26T02:48:57.117163",
     "status": "completed"
    },
    "tags": []
   },
   "outputs": [
    {
     "name": "stdout",
     "output_type": "stream",
     "text": [
      "torch.Size([3, 1000])\n",
      "torch.Size([5000, 3])\n",
      "torch.Size([5000, 1000])\n",
      "torch.Size([5000, 1003])\n",
      "Linear(in_features=1003, out_features=1, bias=True)\n"
     ]
    }
   ],
   "source": [
    "# torch can only train on Variable, so convert them to Variable\n",
    "x, y = Variable(x), Variable(y)\n",
    "\n",
    "# Make RVFL code Here\n",
    "num_RVFL_HL = 1000\n",
    "# num_input by num_RVFL_HL sized weight matrix\n",
    "Const_Weight_RVFL = torch.rand((num_input,num_RVFL_HL))-.5\n",
    "print(Const_Weight_RVFL.shape)\n",
    "# num_RVFL_HL by 1 sized hidden bias\n",
    "Const_bias_RVFL = torch.rand((1,num_RVFL_HL))-.5\n",
    "\n",
    "print(x.shape)\n",
    "x2=F.relu(torch.matmul(x,Const_Weight_RVFL) + Const_bias_RVFL)\n",
    "print(x2.shape)\n",
    "x_RVFL = torch.cat([x,x2],1)\n",
    "print(x_RVFL.shape)\n",
    "\n",
    "\n",
    "i_val2 = F.relu(torch.matmul(i_val,Const_Weight_RVFL) + Const_bias_RVFL)\n",
    "i_val_RVFL = torch.cat([i_val,i_val2],1)\n",
    "\n",
    "\n",
    "#Connection to output layer\n",
    "NN_out = torch.nn.Linear(num_input+num_RVFL_HL, 1)\n",
    "\n",
    "\n",
    "# use the same net as before      \n",
    "net = NN_out     # define the network\n",
    "print(net)  # net architecture\n",
    "optimizer = torch.optim.Adam(net.parameters(), lr=0.05)\n",
    "loss_func = torch.nn.MSELoss()  # this is for regression mean squared loss"
   ]
  },
  {
   "cell_type": "markdown",
   "id": "e8321ceb",
   "metadata": {
    "papermill": {
     "duration": 0.012641,
     "end_time": "2021-07-26T02:48:57.289911",
     "exception": false,
     "start_time": "2021-07-26T02:48:57.277270",
     "status": "completed"
    },
    "tags": []
   },
   "source": [
    "## Network Training"
   ]
  },
  {
   "cell_type": "code",
   "execution_count": 4,
   "id": "fef5c800",
   "metadata": {
    "execution": {
     "iopub.execute_input": "2021-07-26T02:48:57.323685Z",
     "iopub.status.busy": "2021-07-26T02:48:57.322910Z",
     "iopub.status.idle": "2021-07-26T02:49:01.580591Z",
     "shell.execute_reply": "2021-07-26T02:49:01.580055Z",
     "shell.execute_reply.started": "2021-07-26T02:48:16.068674Z"
    },
    "papermill": {
     "duration": 4.277649,
     "end_time": "2021-07-26T02:49:01.580789",
     "exception": false,
     "start_time": "2021-07-26T02:48:57.303140",
     "status": "completed"
    },
    "tags": []
   },
   "outputs": [
    {
     "name": "stdout",
     "output_type": "stream",
     "text": [
      "Epoch [200/2000], Loss: 0.0467, Minimum Loss 0.046720, Val Loss 0.049703  \n",
      "Epoch [400/2000], Loss: 0.0410, Minimum Loss 0.040960, Val Loss 0.043905  \n",
      "Epoch [600/2000], Loss: 0.0373, Minimum Loss 0.037333, Val Loss 0.040162  \n",
      "Epoch [800/2000], Loss: 0.0347, Minimum Loss 0.034743, Val Loss 0.037481  \n",
      "Epoch [1000/2000], Loss: 0.0325, Minimum Loss 0.032542, Val Loss 0.035200  \n",
      "Epoch [1200/2000], Loss: 0.0305, Minimum Loss 0.030510, Val Loss 0.033085  \n",
      "Epoch [1400/2000], Loss: 0.0286, Minimum Loss 0.028586, Val Loss 0.031071  \n",
      "Epoch [1600/2000], Loss: 0.0268, Minimum Loss 0.026754, Val Loss 0.029143  \n",
      "Epoch [1800/2000], Loss: 0.0250, Minimum Loss 0.025010, Val Loss 0.027297  \n",
      "Epoch [2000/2000], Loss: 0.0240, Minimum Loss 0.023513, Val Loss 0.025937  \n"
     ]
    }
   ],
   "source": [
    "#initial values. These values will be replaced with smaller values\n",
    "minimum_train_loss = 1e5\n",
    "minimum_val_loss = 1e5\n",
    "EPOCH = 2000\n",
    "\n",
    "# start training\n",
    "for epoch in range(EPOCH):\n",
    "  \n",
    "    prediction = net(x_RVFL)     # input x and predict based on x\n",
    "\n",
    "    loss = loss_func(prediction, y)     # must be (1. nn output, 2. target)\n",
    "\n",
    "    optimizer.zero_grad()   # clear gradients for next train\n",
    "    loss.backward()         # backpropagation, compute gradients\n",
    "    optimizer.step()        # apply gradients\n",
    "    \n",
    "    if loss<minimum_train_loss:\n",
    "        minimum_train_loss =loss\n",
    "        net_opt = net\n",
    "    \n",
    "    if epoch%200 == 199:\n",
    "      prediction = net_opt(i_val_RVFL)\n",
    "      loss_val = loss_func(prediction, o_val)\n",
    "      if loss_val<minimum_val_loss:\n",
    "        minimum_val_loss = loss_val\n",
    "        net_opt_val = net_opt\n",
    "      print (\"Epoch [{}/{}], Loss: {:.4f}, Minimum Loss {:.6f}, Val Loss {:.6f}  \"  .format(epoch+1, EPOCH, loss, minimum_train_loss, minimum_val_loss))"
   ]
  },
  {
   "cell_type": "markdown",
   "id": "0083ac4b",
   "metadata": {
    "papermill": {
     "duration": 0.015714,
     "end_time": "2021-07-26T02:49:01.613041",
     "exception": false,
     "start_time": "2021-07-26T02:49:01.597327",
     "status": "completed"
    },
    "tags": []
   },
   "source": [
    "## Network on Test Data"
   ]
  },
  {
   "cell_type": "code",
   "execution_count": 5,
   "id": "448c02ae",
   "metadata": {
    "execution": {
     "iopub.execute_input": "2021-07-26T02:49:01.653687Z",
     "iopub.status.busy": "2021-07-26T02:49:01.652966Z",
     "iopub.status.idle": "2021-07-26T02:49:02.257785Z",
     "shell.execute_reply": "2021-07-26T02:49:02.258311Z",
     "shell.execute_reply.started": "2021-07-26T02:48:19.238864Z"
    },
    "papermill": {
     "duration": 0.629853,
     "end_time": "2021-07-26T02:49:02.258487",
     "exception": false,
     "start_time": "2021-07-26T02:49:01.628634",
     "status": "completed"
    },
    "tags": []
   },
   "outputs": [
    {
     "name": "stdout",
     "output_type": "stream",
     "text": [
      "Normalized Test Loss 0.025937354\n",
      "Test Loss 0.21899109\n"
     ]
    }
   ],
   "source": [
    "test_df = pd.read_csv(test_csv_path)\n",
    "\n",
    "i_test=[]\n",
    "o_test=[]\n",
    "for row in val_df.iloc:\n",
    "    i_test.append((row[0:len(row)-1]).astype(float))\n",
    "    o_test.append(row[-1])\n",
    "\n",
    "\n",
    "   \n",
    "i_test, o_test = Variable(torch.tensor(i_test)).float(), Variable(torch.tensor(o_test).float())\n",
    "new_shape = (len(o_test), 1)\n",
    "o_test = o_test.view(new_shape)\n",
    "\n",
    "    #Normalizing\n",
    "i_test = (i_test - min_x.values)/range_x\n",
    "o_test = (o_test - min_y)/range_y\n",
    "\n",
    "i_test2 = F.relu(torch.matmul(i_test,Const_Weight_RVFL) + Const_bias_RVFL)\n",
    "i_test_RVFL = torch.cat([i_test,i_test2],1)\n",
    "prediction = net_opt_val(i_test_RVFL)\n",
    "\n",
    "loss_test = loss_func(prediction, o_test)\n",
    "\n",
    "print(\"Normalized Test Loss\",loss_test.detach().numpy())\n",
    "\n",
    "loss_test = loss_test*range_y*range_y # As the loss function returns MSE\n",
    "\n",
    "print(\"Test Loss\",loss_test.detach().numpy())"
   ]
  },
  {
   "cell_type": "markdown",
   "id": "76dcd247",
   "metadata": {
    "papermill": {
     "duration": 0.015692,
     "end_time": "2021-07-26T02:49:02.289823",
     "exception": false,
     "start_time": "2021-07-26T02:49:02.274131",
     "status": "completed"
    },
    "tags": []
   },
   "source": [
    "## Denormalization"
   ]
  },
  {
   "cell_type": "code",
   "execution_count": 6,
   "id": "49519e28",
   "metadata": {
    "execution": {
     "iopub.execute_input": "2021-07-26T02:49:02.325772Z",
     "iopub.status.busy": "2021-07-26T02:49:02.324788Z",
     "iopub.status.idle": "2021-07-26T02:49:02.332497Z",
     "shell.execute_reply": "2021-07-26T02:49:02.333003Z",
     "shell.execute_reply.started": "2021-07-26T02:48:19.689741Z"
    },
    "papermill": {
     "duration": 0.027253,
     "end_time": "2021-07-26T02:49:02.333191",
     "exception": false,
     "start_time": "2021-07-26T02:49:02.305938",
     "status": "completed"
    },
    "tags": []
   },
   "outputs": [],
   "source": [
    "standard_deviation = math.sqrt(minimum_val_loss)\n",
    "z_95 = 1.96*standard_deviation\n",
    "LB = prediction.detach().numpy() - z_95\n",
    "UB = prediction.detach().numpy() + z_95\n",
    "o_test = o_test.detach().numpy()\n",
    "\n",
    "\n",
    "#Denormalization\n",
    "i_test = i_test*range_x + min_x.values\n",
    "o_test = o_test*range_y.detach().numpy() + min_y.detach().numpy()\n",
    "LB = LB*range_y.detach().numpy() + min_y.detach().numpy()\n",
    "UB = UB*range_y.detach().numpy() + min_y.detach().numpy()\n",
    "prediction = prediction*range_y + min_y"
   ]
  },
  {
   "cell_type": "markdown",
   "id": "5196dfc9",
   "metadata": {
    "papermill": {
     "duration": 0.016063,
     "end_time": "2021-07-26T02:49:02.365152",
     "exception": false,
     "start_time": "2021-07-26T02:49:02.349089",
     "status": "completed"
    },
    "tags": []
   },
   "source": [
    "## Plotting"
   ]
  },
  {
   "cell_type": "code",
   "execution_count": 7,
   "id": "6f806d87",
   "metadata": {
    "execution": {
     "iopub.execute_input": "2021-07-26T02:49:02.401570Z",
     "iopub.status.busy": "2021-07-26T02:49:02.400557Z",
     "iopub.status.idle": "2021-07-26T02:49:02.850374Z",
     "shell.execute_reply": "2021-07-26T02:49:02.849793Z",
     "shell.execute_reply.started": "2021-07-26T02:48:19.699126Z"
    },
    "papermill": {
     "duration": 0.469046,
     "end_time": "2021-07-26T02:49:02.850525",
     "exception": false,
     "start_time": "2021-07-26T02:49:02.381479",
     "status": "completed"
    },
    "tags": []
   },
   "outputs": [
    {
     "name": "stdout",
     "output_type": "stream",
     "text": [
      "PINAW: 0.6186760635725642   PINC: 0.971   PINAFD: 0.024617290643349016\n"
     ]
    },
    {
     "data": {
      "image/png": "[encoded data removed]",
      "text/plain": [
       "<Figure size 432x288 with 1 Axes>"
      ]
     },
     "metadata": {
      "needs_background": "light"
     },
     "output_type": "display_data"
    }
   ],
   "source": [
    "fig, (ax1) = plt.subplots(1, 1)\n",
    "\n",
    "ax1.set(xlabel=\"Input (X1, Arbitrary Unit)\", ylabel=\"Target and Predictions (Arbitrary Unit)\", ylim = (-1.75, 2.75), xlim = (0, 6))\n",
    "plt.rcParams[\"figure.figsize\"] = (6,5)\n",
    "\n",
    "ax1.scatter(i_test[:,0], prediction.detach().numpy(), color='r', s=.5, label='Point Prediction')\n",
    "ax1.scatter(i_test[:,0], LB, color='g', s=.5, label='Prediction Interval')\n",
    "ax1.scatter(i_test[:,0], o_test, color='b',s=.5, label='Target')\n",
    "ax1.scatter(i_test[:,0], UB, s=.5, color='g')\n",
    "\n",
    "leg = ax1.legend(frameon=False, loc='lower left', bbox_to_anchor=(0.2,.75));\n",
    "\n",
    "fig.show()\n",
    "\n",
    "\n",
    "\n",
    "\n",
    "PINAW = np.sum(UB-LB)/len(UB)/(np.max(o_test)-np.min(o_test)) \n",
    "# here PINAW= 2*z_95\n",
    "\n",
    "\n",
    "PINC = 0\n",
    "PINAFD =0\n",
    "for iter1 in range(len(UB)):\n",
    "    if UB[iter1]>o_test[iter1] and LB[iter1]<o_test[iter1]:\n",
    "        PINC = PINC+1\n",
    "    else:\n",
    "        PINAFD = PINAFD + np.min([np.abs(UB[iter1]-o_test[iter1]), np.abs(LB[iter1]<o_test[iter1])]) \n",
    "        # PINAFD distance from the nearest interval\n",
    "\n",
    "\n",
    "if PINAFD>0:\n",
    "    PINAFD = PINAFD/(len(UB) - PINC)/(np.max(o_test)-np.min(o_test))         \n",
    "\n",
    "PINC = PINC/len(UB)\n",
    "\n",
    "print(\"PINAW:\",PINAW, \"  PINC:\", PINC, \"  PINAFD:\", PINAFD) "
   ]
  }
 ],
 "metadata": {
  "kernelspec": {
   "display_name": "Python 3",
   "language": "python",
   "name": "python3"
  },
  "language_info": {
   "codemirror_mode": {
    "name": "ipython",
    "version": 3
   },
   "file_extension": ".py",
   "mimetype": "text/x-python",
   "name": "python",
   "nbconvert_exporter": "python",
   "pygments_lexer": "ipython3",
   "version": "3.7.10"
  },
  "papermill": {
   "default_parameters": {},
   "duration": 18.629166,
   "end_time": "2021-07-26T02:49:03.679306",
   "environment_variables": {},
   "exception": null,
   "input_path": "__notebook__.ipynb",
   "output_path": "__notebook__.ipynb",
   "parameters": {},
   "start_time": "2021-07-26T02:48:45.050140",
   "version": "2.3.3"
  }
 },
 "nbformat": 4,
 "nbformat_minor": 5
}
