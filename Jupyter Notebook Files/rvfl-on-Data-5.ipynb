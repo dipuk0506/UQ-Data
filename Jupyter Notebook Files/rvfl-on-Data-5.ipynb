{
 "cells": [
  {
   "cell_type": "markdown",
   "id": "ab70d3d7",
   "metadata": {
    "papermill": {
     "duration": 0.011812,
     "end_time": "2021-07-26T02:57:41.920645",
     "exception": false,
     "start_time": "2021-07-26T02:57:41.908833",
     "status": "completed"
    },
    "tags": []
   },
   "source": [
    "# Random Vector Functional Link (RVFL)\n",
    "\n",
    "The dataset is also available at: https://github.com/dipuk0506/UQ-Data"
   ]
  },
  {
   "cell_type": "markdown",
   "id": "b37e2dbc",
   "metadata": {
    "papermill": {
     "duration": 0.01051,
     "end_time": "2021-07-26T02:57:41.942325",
     "exception": false,
     "start_time": "2021-07-26T02:57:41.931815",
     "status": "completed"
    },
    "tags": []
   },
   "source": [
    "## Loading CSV files"
   ]
  },
  {
   "cell_type": "code",
   "execution_count": 1,
   "id": "06f8980c",
   "metadata": {
    "execution": {
     "iopub.execute_input": "2021-07-26T02:57:41.979988Z",
     "iopub.status.busy": "2021-07-26T02:57:41.979262Z",
     "iopub.status.idle": "2021-07-26T02:57:43.373856Z",
     "shell.execute_reply": "2021-07-26T02:57:43.373060Z",
     "shell.execute_reply.started": "2021-07-26T02:56:25.422977Z"
    },
    "papermill": {
     "duration": 1.421022,
     "end_time": "2021-07-26T02:57:43.374050",
     "exception": false,
     "start_time": "2021-07-26T02:57:41.953028",
     "status": "completed"
    },
    "tags": []
   },
   "outputs": [
    {
     "data": {
      "text/html": [
       "<div>\n",
       "<style scoped>\n",
       "    .dataframe tbody tr th:only-of-type {\n",
       "        vertical-align: middle;\n",
       "    }\n",
       "\n",
       "    .dataframe tbody tr th {\n",
       "        vertical-align: top;\n",
       "    }\n",
       "\n",
       "    .dataframe thead th {\n",
       "        text-align: right;\n",
       "    }\n",
       "</style>\n",
       "<table border=\"1\" class=\"dataframe\">\n",
       "  <thead>\n",
       "    <tr style=\"text-align: right;\">\n",
       "      <th></th>\n",
       "      <th>Input1</th>\n",
       "      <th>Input2</th>\n",
       "      <th>Input3</th>\n",
       "      <th>Output</th>\n",
       "    </tr>\n",
       "  </thead>\n",
       "  <tbody>\n",
       "    <tr>\n",
       "      <th>0</th>\n",
       "      <td>2.006329</td>\n",
       "      <td>3.630961</td>\n",
       "      <td>1.641932</td>\n",
       "      <td>0.006329</td>\n",
       "    </tr>\n",
       "    <tr>\n",
       "      <th>1</th>\n",
       "      <td>1.870451</td>\n",
       "      <td>0.909980</td>\n",
       "      <td>1.831040</td>\n",
       "      <td>0.129549</td>\n",
       "    </tr>\n",
       "    <tr>\n",
       "      <th>2</th>\n",
       "      <td>0.095940</td>\n",
       "      <td>2.247507</td>\n",
       "      <td>1.954916</td>\n",
       "      <td>0.214289</td>\n",
       "    </tr>\n",
       "    <tr>\n",
       "      <th>3</th>\n",
       "      <td>0.228630</td>\n",
       "      <td>2.545430</td>\n",
       "      <td>0.829244</td>\n",
       "      <td>0.228630</td>\n",
       "    </tr>\n",
       "    <tr>\n",
       "      <th>4</th>\n",
       "      <td>0.159893</td>\n",
       "      <td>0.744155</td>\n",
       "      <td>1.786343</td>\n",
       "      <td>0.159893</td>\n",
       "    </tr>\n",
       "  </tbody>\n",
       "</table>\n",
       "</div>"
      ],
      "text/plain": [
       "     Input1    Input2    Input3    Output\n",
       "0  2.006329  3.630961  1.641932  0.006329\n",
       "1  1.870451  0.909980  1.831040  0.129549\n",
       "2  0.095940  2.247507  1.954916  0.214289\n",
       "3  0.228630  2.545430  0.829244  0.228630\n",
       "4  0.159893  0.744155  1.786343  0.159893"
      ]
     },
     "execution_count": 1,
     "metadata": {},
     "output_type": "execute_result"
    }
   ],
   "source": [
    "train_csv_path = '../input/toy-dataset-for-regression-and-uq/Data5_Train.csv'\n",
    "test_csv_path = '../input/toy-dataset-for-regression-and-uq/Data5_Test.csv'\n",
    "val_csv_path = '../input/toy-dataset-for-regression-and-uq/Data5_Val.csv'\n",
    "\n",
    "\n",
    "import pandas as pd\n",
    "import torch\n",
    "from torch.autograd import Variable\n",
    "import torch.nn.functional as F\n",
    "import torch.utils.data as Data\n",
    "\n",
    "import matplotlib.pyplot as plt\n",
    "%matplotlib inline\n",
    "\n",
    "import numpy as np\n",
    "import imageio\n",
    "import math\n",
    "\n",
    "\n",
    "train_df = pd.read_csv(train_csv_path)\n",
    "val_df = pd.read_csv(val_csv_path)\n",
    "train_df.head()"
   ]
  },
  {
   "cell_type": "markdown",
   "id": "19ce9f93",
   "metadata": {
    "papermill": {
     "duration": 0.011864,
     "end_time": "2021-07-26T02:57:43.398128",
     "exception": false,
     "start_time": "2021-07-26T02:57:43.386264",
     "status": "completed"
    },
    "tags": []
   },
   "source": [
    "## Normalizing training and validation data"
   ]
  },
  {
   "cell_type": "code",
   "execution_count": 2,
   "id": "0d6f8382",
   "metadata": {
    "execution": {
     "iopub.execute_input": "2021-07-26T02:57:44.897156Z",
     "iopub.status.busy": "2021-07-26T02:57:44.210321Z",
     "iopub.status.idle": "2021-07-26T02:57:45.229900Z",
     "shell.execute_reply": "2021-07-26T02:57:45.229320Z",
     "shell.execute_reply.started": "2021-07-26T02:56:26.807980Z"
    },
    "papermill": {
     "duration": 1.820318,
     "end_time": "2021-07-26T02:57:45.230050",
     "exception": false,
     "start_time": "2021-07-26T02:57:43.409732",
     "status": "completed"
    },
    "tags": []
   },
   "outputs": [
    {
     "name": "stdout",
     "output_type": "stream",
     "text": [
      "3\n",
      "tensor(4.4512) tensor(0.0005) tensor([2.9994, 4.9996, 1.9994]) tensor([0.0002, 0.0012, 0.0009])\n",
      "tensor([2.9993, 4.9984, 1.9985]) tensor(4.4507)\n"
     ]
    }
   ],
   "source": [
    "input_=[]\n",
    "output_=[]\n",
    "for row in train_df.iloc:\n",
    "    input_.append((row[0:len(row)-1]).astype(float))\n",
    "    output_.append(row[-1])\n",
    "    \n",
    "i_val=[]\n",
    "o_val=[]\n",
    "for row in val_df.iloc:\n",
    "    i_val.append((row[0:len(row)-1]).astype(float))\n",
    "    o_val.append(row[-1])\n",
    "    \n",
    "num_input = len(row)-1;\n",
    "print(num_input)\n",
    "\n",
    "\n",
    "torch.manual_seed(1)    # reproducible\n",
    "\n",
    "x = torch.tensor(input_).float()  \n",
    "y = torch.tensor(output_).float()   \n",
    "new_shape = (len(y), 1)\n",
    "y = y.view(new_shape)\n",
    "\n",
    "\n",
    "i_val = torch.tensor(i_val).float()  \n",
    "o_val = torch.tensor(o_val).float()   \n",
    "new_shape = (len(o_val), 1)\n",
    "o_val = o_val.view(new_shape)\n",
    "\n",
    "\n",
    "\n",
    "max_y = torch.max(y[:,0])\n",
    "min_y =torch.min(y[:,0])\n",
    "\n",
    "max_x = torch.max(x,dim=0)\n",
    "min_x = torch.min(x,dim=0)\n",
    "\n",
    "print(max_y, min_y, max_x.values, min_x.values)\n",
    "\n",
    "range_y = max_y - min_y\n",
    "range_x = max_x.values - min_x.values\n",
    "\n",
    "print(range_x, range_y)\n",
    "\n",
    "    #Normalizing\n",
    "x = (x - min_x.values)/range_x\n",
    "y = (y - min_y)/range_y\n",
    "\n",
    "    #Normalizing\n",
    "i_val = (i_val - min_x.values)/range_x\n",
    "o_val = (o_val - min_y)/range_y"
   ]
  },
  {
   "cell_type": "markdown",
   "id": "f7df3b81",
   "metadata": {
    "papermill": {
     "duration": 0.011818,
     "end_time": "2021-07-26T02:57:45.254149",
     "exception": false,
     "start_time": "2021-07-26T02:57:45.242331",
     "status": "completed"
    },
    "tags": []
   },
   "source": [
    "## RVFL Network"
   ]
  },
  {
   "cell_type": "code",
   "execution_count": 3,
   "id": "fb8b398d",
   "metadata": {
    "execution": {
     "iopub.execute_input": "2021-07-26T02:57:45.289733Z",
     "iopub.status.busy": "2021-07-26T02:57:45.288924Z",
     "iopub.status.idle": "2021-07-26T02:57:45.467684Z",
     "shell.execute_reply": "2021-07-26T02:57:45.468252Z",
     "shell.execute_reply.started": "2021-07-26T02:56:28.533886Z"
    },
    "papermill": {
     "duration": 0.201432,
     "end_time": "2021-07-26T02:57:45.468486",
     "exception": false,
     "start_time": "2021-07-26T02:57:45.267054",
     "status": "completed"
    },
    "tags": []
   },
   "outputs": [
    {
     "name": "stdout",
     "output_type": "stream",
     "text": [
      "torch.Size([3, 2000])\n",
      "torch.Size([5000, 3])\n",
      "torch.Size([5000, 2000])\n",
      "torch.Size([5000, 2003])\n",
      "Linear(in_features=2003, out_features=1, bias=True)\n"
     ]
    }
   ],
   "source": [
    "# torch can only train on Variable, so convert them to Variable\n",
    "x, y = Variable(x), Variable(y)\n",
    "\n",
    "# Make RVFL code Here\n",
    "num_RVFL_HL = 2000\n",
    "# num_input by num_RVFL_HL sized weight matrix\n",
    "Const_Weight_RVFL = torch.rand((num_input,num_RVFL_HL))-.5\n",
    "print(Const_Weight_RVFL.shape)\n",
    "# num_RVFL_HL by 1 sized hidden bias\n",
    "Const_bias_RVFL = torch.rand((1,num_RVFL_HL))-.5\n",
    "\n",
    "print(x.shape)\n",
    "x2=F.relu(torch.matmul(x,Const_Weight_RVFL) + Const_bias_RVFL)\n",
    "print(x2.shape)\n",
    "x_RVFL = torch.cat([x,x2],1)\n",
    "print(x_RVFL.shape)\n",
    "\n",
    "\n",
    "i_val2 = F.relu(torch.matmul(i_val,Const_Weight_RVFL) + Const_bias_RVFL)\n",
    "i_val_RVFL = torch.cat([i_val,i_val2],1)\n",
    "\n",
    "\n",
    "#Connection to output layer\n",
    "NN_out = torch.nn.Linear(num_input+num_RVFL_HL, 1)\n",
    "\n",
    "\n",
    "# use the same net as before      \n",
    "net = NN_out     # define the network\n",
    "print(net)  # net architecture\n",
    "optimizer = torch.optim.Adam(net.parameters(), lr=0.05)\n",
    "loss_func = torch.nn.MSELoss()  # this is for regression mean squared loss"
   ]
  },
  {
   "cell_type": "markdown",
   "id": "0d9dd4a0",
   "metadata": {
    "papermill": {
     "duration": 0.012641,
     "end_time": "2021-07-26T02:57:45.496078",
     "exception": false,
     "start_time": "2021-07-26T02:57:45.483437",
     "status": "completed"
    },
    "tags": []
   },
   "source": [
    "## Network Training"
   ]
  },
  {
   "cell_type": "code",
   "execution_count": 4,
   "id": "315b672c",
   "metadata": {
    "execution": {
     "iopub.execute_input": "2021-07-26T02:57:45.526806Z",
     "iopub.status.busy": "2021-07-26T02:57:45.525893Z",
     "iopub.status.idle": "2021-07-26T02:57:54.122359Z",
     "shell.execute_reply": "2021-07-26T02:57:54.122910Z",
     "shell.execute_reply.started": "2021-07-26T02:56:28.737034Z"
    },
    "papermill": {
     "duration": 8.613436,
     "end_time": "2021-07-26T02:57:54.123087",
     "exception": false,
     "start_time": "2021-07-26T02:57:45.509651",
     "status": "completed"
    },
    "tags": []
   },
   "outputs": [
    {
     "name": "stdout",
     "output_type": "stream",
     "text": [
      "Epoch [200/2000], Loss: 0.0586, Minimum Loss 0.058634, Val Loss 0.057565  \n",
      "Epoch [400/2000], Loss: 0.0579, Minimum Loss 0.057855, Val Loss 0.057002  \n",
      "Epoch [600/2000], Loss: 0.0574, Minimum Loss 0.057362, Val Loss 0.056681  \n",
      "Epoch [800/2000], Loss: 0.0570, Minimum Loss 0.056999, Val Loss 0.056483  \n",
      "Epoch [1000/2000], Loss: 0.0567, Minimum Loss 0.056685, Val Loss 0.056346  \n",
      "Epoch [1200/2000], Loss: 0.0564, Minimum Loss 0.056392, Val Loss 0.056243  \n",
      "Epoch [1400/2000], Loss: 0.0561, Minimum Loss 0.056111, Val Loss 0.056164  \n",
      "Epoch [1600/2000], Loss: 0.0558, Minimum Loss 0.055839, Val Loss 0.056102  \n",
      "Epoch [1800/2000], Loss: 0.0556, Minimum Loss 0.055574, Val Loss 0.056056  \n",
      "Epoch [2000/2000], Loss: 0.0554, Minimum Loss 0.055324, Val Loss 0.056056  \n"
     ]
    }
   ],
   "source": [
    "#initial values. These values will be replaced with smaller values\n",
    "minimum_train_loss = 1e5\n",
    "minimum_val_loss = 1e5\n",
    "EPOCH = 2000\n",
    "\n",
    "# start training\n",
    "for epoch in range(EPOCH):\n",
    "  \n",
    "    prediction = net(x_RVFL)     # input x and predict based on x\n",
    "\n",
    "    loss = loss_func(prediction, y)     # must be (1. nn output, 2. target)\n",
    "\n",
    "    optimizer.zero_grad()   # clear gradients for next train\n",
    "    loss.backward()         # backpropagation, compute gradients\n",
    "    optimizer.step()        # apply gradients\n",
    "    \n",
    "    if loss<minimum_train_loss:\n",
    "        minimum_train_loss =loss\n",
    "        net_opt = net\n",
    "    \n",
    "    if epoch%200 == 199:\n",
    "      prediction = net_opt(i_val_RVFL)\n",
    "      loss_val = loss_func(prediction, o_val)\n",
    "      if loss_val<minimum_val_loss:\n",
    "        minimum_val_loss = loss_val\n",
    "        net_opt_val = net_opt\n",
    "      print (\"Epoch [{}/{}], Loss: {:.4f}, Minimum Loss {:.6f}, Val Loss {:.6f}  \"  .format(epoch+1, EPOCH, loss, minimum_train_loss, minimum_val_loss))"
   ]
  },
  {
   "cell_type": "markdown",
   "id": "7973e0d3",
   "metadata": {
    "papermill": {
     "duration": 0.015511,
     "end_time": "2021-07-26T02:57:54.154724",
     "exception": false,
     "start_time": "2021-07-26T02:57:54.139213",
     "status": "completed"
    },
    "tags": []
   },
   "source": [
    "## Network on Test Data"
   ]
  },
  {
   "cell_type": "code",
   "execution_count": 5,
   "id": "0a3d06aa",
   "metadata": {
    "execution": {
     "iopub.execute_input": "2021-07-26T02:57:54.191511Z",
     "iopub.status.busy": "2021-07-26T02:57:54.190540Z",
     "iopub.status.idle": "2021-07-26T02:57:54.851132Z",
     "shell.execute_reply": "2021-07-26T02:57:54.851910Z",
     "shell.execute_reply.started": "2021-07-26T02:56:39.039253Z"
    },
    "papermill": {
     "duration": 0.680533,
     "end_time": "2021-07-26T02:57:54.852149",
     "exception": false,
     "start_time": "2021-07-26T02:57:54.171616",
     "status": "completed"
    },
    "tags": []
   },
   "outputs": [
    {
     "name": "stdout",
     "output_type": "stream",
     "text": [
      "Normalized Test Loss 0.05621705\n",
      "Test Loss 1.1135883\n"
     ]
    }
   ],
   "source": [
    "test_df = pd.read_csv(test_csv_path)\n",
    "\n",
    "i_test=[]\n",
    "o_test=[]\n",
    "for row in val_df.iloc:\n",
    "    i_test.append((row[0:len(row)-1]).astype(float))\n",
    "    o_test.append(row[-1])\n",
    "\n",
    "\n",
    "   \n",
    "i_test, o_test = Variable(torch.tensor(i_test)).float(), Variable(torch.tensor(o_test).float())\n",
    "new_shape = (len(o_test), 1)\n",
    "o_test = o_test.view(new_shape)\n",
    "\n",
    "    #Normalizing\n",
    "i_test = (i_test - min_x.values)/range_x\n",
    "o_test = (o_test - min_y)/range_y\n",
    "\n",
    "i_test2 = F.relu(torch.matmul(i_test,Const_Weight_RVFL) + Const_bias_RVFL)\n",
    "i_test_RVFL = torch.cat([i_test,i_test2],1)\n",
    "prediction = net_opt_val(i_test_RVFL)\n",
    "\n",
    "loss_test = loss_func(prediction, o_test)\n",
    "\n",
    "print(\"Normalized Test Loss\",loss_test.detach().numpy())\n",
    "\n",
    "loss_test = loss_test*range_y*range_y # As the loss function returns MSE\n",
    "\n",
    "print(\"Test Loss\",loss_test.detach().numpy())"
   ]
  },
  {
   "cell_type": "markdown",
   "id": "f008ac70",
   "metadata": {
    "papermill": {
     "duration": 0.015821,
     "end_time": "2021-07-26T02:57:54.884727",
     "exception": false,
     "start_time": "2021-07-26T02:57:54.868906",
     "status": "completed"
    },
    "tags": []
   },
   "source": [
    "## Denormalization"
   ]
  },
  {
   "cell_type": "code",
   "execution_count": 6,
   "id": "19e1a6f0",
   "metadata": {
    "execution": {
     "iopub.execute_input": "2021-07-26T02:57:54.925382Z",
     "iopub.status.busy": "2021-07-26T02:57:54.924404Z",
     "iopub.status.idle": "2021-07-26T02:57:54.928446Z",
     "shell.execute_reply": "2021-07-26T02:57:54.927915Z",
     "shell.execute_reply.started": "2021-07-26T02:56:39.676995Z"
    },
    "papermill": {
     "duration": 0.027717,
     "end_time": "2021-07-26T02:57:54.928592",
     "exception": false,
     "start_time": "2021-07-26T02:57:54.900875",
     "status": "completed"
    },
    "tags": []
   },
   "outputs": [],
   "source": [
    "standard_deviation = math.sqrt(minimum_val_loss)\n",
    "z_95 = 1.96*standard_deviation\n",
    "LB = prediction.detach().numpy() - z_95\n",
    "UB = prediction.detach().numpy() + z_95\n",
    "o_test = o_test.detach().numpy()\n",
    "\n",
    "\n",
    "#Denormalization\n",
    "i_test = i_test*range_x + min_x.values\n",
    "o_test = o_test*range_y.detach().numpy() + min_y.detach().numpy()\n",
    "LB = LB*range_y.detach().numpy() + min_y.detach().numpy()\n",
    "UB = UB*range_y.detach().numpy() + min_y.detach().numpy()\n",
    "prediction = prediction*range_y + min_y"
   ]
  },
  {
   "cell_type": "markdown",
   "id": "71dc3f9e",
   "metadata": {
    "papermill": {
     "duration": 0.015929,
     "end_time": "2021-07-26T02:57:54.960705",
     "exception": false,
     "start_time": "2021-07-26T02:57:54.944776",
     "status": "completed"
    },
    "tags": []
   },
   "source": [
    "## Plotting"
   ]
  },
  {
   "cell_type": "code",
   "execution_count": 7,
   "id": "b6a67d72",
   "metadata": {
    "execution": {
     "iopub.execute_input": "2021-07-26T02:57:55.023147Z",
     "iopub.status.busy": "2021-07-26T02:57:55.019060Z",
     "iopub.status.idle": "2021-07-26T02:57:55.438991Z",
     "shell.execute_reply": "2021-07-26T02:57:55.438456Z",
     "shell.execute_reply.started": "2021-07-26T02:56:39.685609Z"
    },
    "papermill": {
     "duration": 0.461915,
     "end_time": "2021-07-26T02:57:55.439134",
     "exception": false,
     "start_time": "2021-07-26T02:57:54.977219",
     "status": "completed"
    },
    "tags": []
   },
   "outputs": [
    {
     "name": "stdout",
     "output_type": "stream",
     "text": [
      "PINAW: 0.9315165881832742   PINC: 0.9265   PINAFD: 0.12352592221365521\n"
     ]
    },
    {
     "data": {
      "image/png": "[encoded data removed]",
      "text/plain": [
       "<Figure size 432x288 with 1 Axes>"
      ]
     },
     "metadata": {
      "needs_background": "light"
     },
     "output_type": "display_data"
    }
   ],
   "source": [
    "fig, (ax1) = plt.subplots(1, 1)\n",
    "\n",
    "ax1.set(xlabel=\"Input (X1, Arbitrary Unit)\", ylabel=\"Target and Predictions (Arbitrary Unit)\" , ylim = (-4, 6), xlim = (0, 3))\n",
    "plt.rcParams[\"figure.figsize\"] = (6,5)\n",
    "\n",
    "ax1.scatter(i_test[:,0], prediction.detach().numpy(), color='r', s=.5, label='Point Prediction')\n",
    "ax1.scatter(i_test[:,0], LB, color='g', s=.5, label='Prediction Interval')\n",
    "ax1.scatter(i_test[:,0], o_test, color='b',s=.5, label='Target')\n",
    "ax1.scatter(i_test[:,0], UB, s=.5, color='g')\n",
    "\n",
    "leg = ax1.legend(frameon=False, loc='lower left', bbox_to_anchor=(0.3,0));\n",
    "\n",
    "fig.show()\n",
    "\n",
    "\n",
    "\n",
    "\n",
    "PINAW = np.sum(UB-LB)/len(UB)/(np.max(o_test)-np.min(o_test)) \n",
    "# here PINAW= 2*z_95\n",
    "\n",
    "\n",
    "PINC = 0\n",
    "PINAFD =0\n",
    "for iter1 in range(len(UB)):\n",
    "    if UB[iter1]>o_test[iter1] and LB[iter1]<o_test[iter1]:\n",
    "        PINC = PINC+1\n",
    "    else:\n",
    "        PINAFD = PINAFD + np.min([np.abs(UB[iter1]-o_test[iter1]), np.abs(LB[iter1]<o_test[iter1])]) \n",
    "        # PINAFD distance from the nearest interval\n",
    "\n",
    "\n",
    "if PINAFD>0:\n",
    "    PINAFD = PINAFD/(len(UB) - PINC)/(np.max(o_test)-np.min(o_test))         \n",
    "\n",
    "PINC = PINC/len(UB)\n",
    "\n",
    "print(\"PINAW:\",PINAW, \"  PINC:\", PINC, \"  PINAFD:\", PINAFD) "
   ]
  }
 ],
 "metadata": {
  "kernelspec": {
   "display_name": "Python 3",
   "language": "python",
   "name": "python3"
  },
  "language_info": {
   "codemirror_mode": {
    "name": "ipython",
    "version": 3
   },
   "file_extension": ".py",
   "mimetype": "text/x-python",
   "name": "python",
   "nbconvert_exporter": "python",
   "pygments_lexer": "ipython3",
   "version": "3.7.10"
  },
  "papermill": {
   "default_parameters": {},
   "duration": 22.608846,
   "end_time": "2021-07-26T02:57:56.270416",
   "environment_variables": {},
   "exception": null,
   "input_path": "__notebook__.ipynb",
   "output_path": "__notebook__.ipynb",
   "parameters": {},
   "start_time": "2021-07-26T02:57:33.661570",
   "version": "2.3.3"
  }
 },
 "nbformat": 4,
 "nbformat_minor": 5
}
