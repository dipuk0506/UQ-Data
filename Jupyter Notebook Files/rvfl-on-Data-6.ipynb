{
 "cells": [
  {
   "cell_type": "markdown",
   "id": "0610b9cd",
   "metadata": {
    "papermill": {
     "duration": 0.011832,
     "end_time": "2021-07-26T02:59:38.306865",
     "exception": false,
     "start_time": "2021-07-26T02:59:38.295033",
     "status": "completed"
    },
    "tags": []
   },
   "source": [
    "# Random Vector Functional Link (RVFL)\n",
    "\n",
    "The dataset is also available at: https://github.com/dipuk0506/UQ-Data"
   ]
  },
  {
   "cell_type": "markdown",
   "id": "cac02020",
   "metadata": {
    "papermill": {
     "duration": 0.010357,
     "end_time": "2021-07-26T02:59:38.328384",
     "exception": false,
     "start_time": "2021-07-26T02:59:38.318027",
     "status": "completed"
    },
    "tags": []
   },
   "source": [
    "## Loading CSV files"
   ]
  },
  {
   "cell_type": "code",
   "execution_count": 1,
   "id": "892f21ea",
   "metadata": {
    "execution": {
     "iopub.execute_input": "2021-07-26T02:59:38.353562Z",
     "iopub.status.busy": "2021-07-26T02:59:38.352438Z",
     "iopub.status.idle": "2021-07-26T02:59:39.706719Z",
     "shell.execute_reply": "2021-07-26T02:59:39.707267Z",
     "shell.execute_reply.started": "2021-07-26T02:58:36.037675Z"
    },
    "papermill": {
     "duration": 1.368625,
     "end_time": "2021-07-26T02:59:39.707533",
     "exception": false,
     "start_time": "2021-07-26T02:59:38.338908",
     "status": "completed"
    },
    "tags": []
   },
   "outputs": [
    {
     "data": {
      "text/html": [
       "<div>\n",
       "<style scoped>\n",
       "    .dataframe tbody tr th:only-of-type {\n",
       "        vertical-align: middle;\n",
       "    }\n",
       "\n",
       "    .dataframe tbody tr th {\n",
       "        vertical-align: top;\n",
       "    }\n",
       "\n",
       "    .dataframe thead th {\n",
       "        text-align: right;\n",
       "    }\n",
       "</style>\n",
       "<table border=\"1\" class=\"dataframe\">\n",
       "  <thead>\n",
       "    <tr style=\"text-align: right;\">\n",
       "      <th></th>\n",
       "      <th>Input1</th>\n",
       "      <th>Output</th>\n",
       "    </tr>\n",
       "  </thead>\n",
       "  <tbody>\n",
       "    <tr>\n",
       "      <th>0</th>\n",
       "      <td>0.000000e+00</td>\n",
       "      <td>1.039095</td>\n",
       "    </tr>\n",
       "    <tr>\n",
       "      <th>1</th>\n",
       "      <td>3.200000e-19</td>\n",
       "      <td>1.073097</td>\n",
       "    </tr>\n",
       "    <tr>\n",
       "      <th>2</th>\n",
       "      <td>1.024000e-17</td>\n",
       "      <td>0.945986</td>\n",
       "    </tr>\n",
       "    <tr>\n",
       "      <th>3</th>\n",
       "      <td>7.776000e-17</td>\n",
       "      <td>0.877684</td>\n",
       "    </tr>\n",
       "    <tr>\n",
       "      <th>4</th>\n",
       "      <td>3.276800e-16</td>\n",
       "      <td>1.071571</td>\n",
       "    </tr>\n",
       "  </tbody>\n",
       "</table>\n",
       "</div>"
      ],
      "text/plain": [
       "         Input1    Output\n",
       "0  0.000000e+00  1.039095\n",
       "1  3.200000e-19  1.073097\n",
       "2  1.024000e-17  0.945986\n",
       "3  7.776000e-17  0.877684\n",
       "4  3.276800e-16  1.071571"
      ]
     },
     "execution_count": 1,
     "metadata": {},
     "output_type": "execute_result"
    }
   ],
   "source": [
    "train_csv_path = '../input/toy-dataset-for-regression-and-uq/Data6_Train.csv'\n",
    "test_csv_path = '../input/toy-dataset-for-regression-and-uq/Data6_Test.csv'\n",
    "val_csv_path = '../input/toy-dataset-for-regression-and-uq/Data6_Val.csv'\n",
    "\n",
    "\n",
    "import pandas as pd\n",
    "import torch\n",
    "from torch.autograd import Variable\n",
    "import torch.nn.functional as F\n",
    "import torch.utils.data as Data\n",
    "\n",
    "import matplotlib.pyplot as plt\n",
    "%matplotlib inline\n",
    "\n",
    "import numpy as np\n",
    "import imageio\n",
    "import math\n",
    "\n",
    "\n",
    "train_df = pd.read_csv(train_csv_path)\n",
    "val_df = pd.read_csv(val_csv_path)\n",
    "train_df.head()"
   ]
  },
  {
   "cell_type": "markdown",
   "id": "51595925",
   "metadata": {
    "papermill": {
     "duration": 0.011035,
     "end_time": "2021-07-26T02:59:39.730569",
     "exception": false,
     "start_time": "2021-07-26T02:59:39.719534",
     "status": "completed"
    },
    "tags": []
   },
   "source": [
    "## Normalizing training and validation data"
   ]
  },
  {
   "cell_type": "code",
   "execution_count": 2,
   "id": "5fef4ccf",
   "metadata": {
    "execution": {
     "iopub.execute_input": "2021-07-26T02:59:39.756128Z",
     "iopub.status.busy": "2021-07-26T02:59:39.755494Z",
     "iopub.status.idle": "2021-07-26T02:59:41.402189Z",
     "shell.execute_reply": "2021-07-26T02:59:41.401597Z",
     "shell.execute_reply.started": "2021-07-26T02:58:36.074591Z"
    },
    "papermill": {
     "duration": 1.66054,
     "end_time": "2021-07-26T02:59:41.402346",
     "exception": false,
     "start_time": "2021-07-26T02:59:39.741806",
     "status": "completed"
    },
    "tags": []
   },
   "outputs": [
    {
     "name": "stdout",
     "output_type": "stream",
     "text": [
      "1\n",
      "tensor(1.2497) tensor(-1.2318) tensor([0.9990]) tensor([0.])\n",
      "tensor([0.9990]) tensor(2.4815)\n"
     ]
    }
   ],
   "source": [
    "input_=[]\n",
    "output_=[]\n",
    "for row in train_df.iloc:\n",
    "    input_.append((row[0:len(row)-1]).astype(float))\n",
    "    output_.append(row[-1])\n",
    "    \n",
    "i_val=[]\n",
    "o_val=[]\n",
    "for row in val_df.iloc:\n",
    "    i_val.append((row[0:len(row)-1]).astype(float))\n",
    "    o_val.append(row[-1])\n",
    "    \n",
    "num_input = len(row)-1;\n",
    "print(num_input)\n",
    "\n",
    "\n",
    "torch.manual_seed(1)    # reproducible\n",
    "\n",
    "x = torch.tensor(input_).float()  \n",
    "y = torch.tensor(output_).float()   \n",
    "new_shape = (len(y), 1)\n",
    "y = y.view(new_shape)\n",
    "\n",
    "\n",
    "i_val = torch.tensor(i_val).float()  \n",
    "o_val = torch.tensor(o_val).float()   \n",
    "new_shape = (len(o_val), 1)\n",
    "o_val = o_val.view(new_shape)\n",
    "\n",
    "\n",
    "\n",
    "max_y = torch.max(y[:,0])\n",
    "min_y =torch.min(y[:,0])\n",
    "\n",
    "max_x = torch.max(x,dim=0)\n",
    "min_x = torch.min(x,dim=0)\n",
    "\n",
    "print(max_y, min_y, max_x.values, min_x.values)\n",
    "\n",
    "range_y = max_y - min_y\n",
    "range_x = max_x.values - min_x.values\n",
    "\n",
    "print(range_x, range_y)\n",
    "\n",
    "    #Normalizing\n",
    "x = (x - min_x.values)/range_x\n",
    "y = (y - min_y)/range_y\n",
    "\n",
    "    #Normalizing\n",
    "i_val = (i_val - min_x.values)/range_x\n",
    "o_val = (o_val - min_y)/range_y"
   ]
  },
  {
   "cell_type": "markdown",
   "id": "5a717831",
   "metadata": {
    "papermill": {
     "duration": 0.011719,
     "end_time": "2021-07-26T02:59:41.426222",
     "exception": false,
     "start_time": "2021-07-26T02:59:41.414503",
     "status": "completed"
    },
    "tags": []
   },
   "source": [
    "## RVFL Network"
   ]
  },
  {
   "cell_type": "code",
   "execution_count": 3,
   "id": "d9c32bd1",
   "metadata": {
    "execution": {
     "iopub.execute_input": "2021-07-26T02:59:41.461586Z",
     "iopub.status.busy": "2021-07-26T02:59:41.460804Z",
     "iopub.status.idle": "2021-07-26T02:59:41.575786Z",
     "shell.execute_reply": "2021-07-26T02:59:41.574580Z",
     "shell.execute_reply.started": "2021-07-26T02:58:37.849180Z"
    },
    "papermill": {
     "duration": 0.137009,
     "end_time": "2021-07-26T02:59:41.575937",
     "exception": false,
     "start_time": "2021-07-26T02:59:41.438928",
     "status": "completed"
    },
    "tags": []
   },
   "outputs": [
    {
     "name": "stdout",
     "output_type": "stream",
     "text": [
      "torch.Size([1, 1000])\n",
      "torch.Size([5000, 1])\n",
      "torch.Size([5000, 1000])\n",
      "torch.Size([5000, 1001])\n",
      "Linear(in_features=1001, out_features=1, bias=True)\n"
     ]
    }
   ],
   "source": [
    "# torch can only train on Variable, so convert them to Variable\n",
    "x, y = Variable(x), Variable(y)\n",
    "\n",
    "# Make RVFL code Here\n",
    "num_RVFL_HL = 1000\n",
    "# num_input by num_RVFL_HL sized weight matrix\n",
    "Const_Weight_RVFL = torch.rand((num_input,num_RVFL_HL))-.5\n",
    "print(Const_Weight_RVFL.shape)\n",
    "# num_RVFL_HL by 1 sized hidden bias\n",
    "Const_bias_RVFL = torch.rand((1,num_RVFL_HL))-.5\n",
    "\n",
    "print(x.shape)\n",
    "x2=F.relu(torch.matmul(x,Const_Weight_RVFL) + Const_bias_RVFL)\n",
    "print(x2.shape)\n",
    "x_RVFL = torch.cat([x,x2],1)\n",
    "print(x_RVFL.shape)\n",
    "\n",
    "\n",
    "i_val2 = F.relu(torch.matmul(i_val,Const_Weight_RVFL) + Const_bias_RVFL)\n",
    "i_val_RVFL = torch.cat([i_val,i_val2],1)\n",
    "\n",
    "\n",
    "#Connection to output layer\n",
    "NN_out = torch.nn.Linear(num_input+num_RVFL_HL, 1)\n",
    "\n",
    "\n",
    "# use the same net as before      \n",
    "net = NN_out     # define the network\n",
    "print(net)  # net architecture\n",
    "optimizer = torch.optim.Adam(net.parameters(), lr=0.05)\n",
    "loss_func = torch.nn.MSELoss()  # this is for regression mean squared loss"
   ]
  },
  {
   "cell_type": "markdown",
   "id": "002af50e",
   "metadata": {
    "papermill": {
     "duration": 0.012266,
     "end_time": "2021-07-26T02:59:41.600587",
     "exception": false,
     "start_time": "2021-07-26T02:59:41.588321",
     "status": "completed"
    },
    "tags": []
   },
   "source": [
    "## Network Training"
   ]
  },
  {
   "cell_type": "code",
   "execution_count": 4,
   "id": "3fdd39a5",
   "metadata": {
    "execution": {
     "iopub.execute_input": "2021-07-26T02:59:41.634286Z",
     "iopub.status.busy": "2021-07-26T02:59:41.633605Z",
     "iopub.status.idle": "2021-07-26T02:59:45.467937Z",
     "shell.execute_reply": "2021-07-26T02:59:45.467179Z",
     "shell.execute_reply.started": "2021-07-26T02:58:37.925825Z"
    },
    "papermill": {
     "duration": 3.855496,
     "end_time": "2021-07-26T02:59:45.468130",
     "exception": false,
     "start_time": "2021-07-26T02:59:41.612634",
     "status": "completed"
    },
    "tags": []
   },
   "outputs": [
    {
     "name": "stdout",
     "output_type": "stream",
     "text": [
      "Epoch [200/2000], Loss: 0.0059, Minimum Loss 0.005906, Val Loss 0.007733  \n",
      "Epoch [400/2000], Loss: 0.0039, Minimum Loss 0.003867, Val Loss 0.004351  \n",
      "Epoch [600/2000], Loss: 0.0034, Minimum Loss 0.003423, Val Loss 0.003635  \n",
      "Epoch [800/2000], Loss: 0.0034, Minimum Loss 0.003355, Val Loss 0.003546  \n",
      "Epoch [1000/2000], Loss: 0.0033, Minimum Loss 0.003342, Val Loss 0.003524  \n",
      "Epoch [1200/2000], Loss: 0.0033, Minimum Loss 0.003338, Val Loss 0.003512  \n",
      "Epoch [1400/2000], Loss: 0.0033, Minimum Loss 0.003336, Val Loss 0.003507  \n",
      "Epoch [1600/2000], Loss: 0.0033, Minimum Loss 0.003334, Val Loss 0.003506  \n",
      "Epoch [1800/2000], Loss: 0.0146, Minimum Loss 0.003333, Val Loss 0.003506  \n",
      "Epoch [2000/2000], Loss: 0.0033, Minimum Loss 0.003332, Val Loss 0.003506  \n"
     ]
    }
   ],
   "source": [
    "#initial values. These values will be replaced with smaller values\n",
    "minimum_train_loss = 1e5\n",
    "minimum_val_loss = 1e5\n",
    "EPOCH = 2000\n",
    "\n",
    "# start training\n",
    "for epoch in range(EPOCH):\n",
    "  \n",
    "    prediction = net(x_RVFL)     # input x and predict based on x\n",
    "\n",
    "    loss = loss_func(prediction, y)     # must be (1. nn output, 2. target)\n",
    "\n",
    "    optimizer.zero_grad()   # clear gradients for next train\n",
    "    loss.backward()         # backpropagation, compute gradients\n",
    "    optimizer.step()        # apply gradients\n",
    "    \n",
    "    if loss<minimum_train_loss:\n",
    "        minimum_train_loss =loss\n",
    "        net_opt = net\n",
    "    \n",
    "    if epoch%200 == 199:\n",
    "      prediction = net_opt(i_val_RVFL)\n",
    "      loss_val = loss_func(prediction, o_val)\n",
    "      if loss_val<minimum_val_loss:\n",
    "        minimum_val_loss = loss_val\n",
    "        net_opt_val = net_opt\n",
    "      print (\"Epoch [{}/{}], Loss: {:.4f}, Minimum Loss {:.6f}, Val Loss {:.6f}  \"  .format(epoch+1, EPOCH, loss, minimum_train_loss, minimum_val_loss))"
   ]
  },
  {
   "cell_type": "markdown",
   "id": "dbeb3dcf",
   "metadata": {
    "papermill": {
     "duration": 0.014913,
     "end_time": "2021-07-26T02:59:45.498830",
     "exception": false,
     "start_time": "2021-07-26T02:59:45.483917",
     "status": "completed"
    },
    "tags": []
   },
   "source": [
    "## Network on Test Data"
   ]
  },
  {
   "cell_type": "code",
   "execution_count": 5,
   "id": "ebeeecf6",
   "metadata": {
    "execution": {
     "iopub.execute_input": "2021-07-26T02:59:45.538386Z",
     "iopub.status.busy": "2021-07-26T02:59:45.537723Z",
     "iopub.status.idle": "2021-07-26T02:59:46.109433Z",
     "shell.execute_reply": "2021-07-26T02:59:46.108794Z",
     "shell.execute_reply.started": "2021-07-26T02:58:41.975893Z"
    },
    "papermill": {
     "duration": 0.595613,
     "end_time": "2021-07-26T02:59:46.109605",
     "exception": false,
     "start_time": "2021-07-26T02:59:45.513992",
     "status": "completed"
    },
    "tags": []
   },
   "outputs": [
    {
     "name": "stdout",
     "output_type": "stream",
     "text": [
      "Normalized Test Loss 0.003506323\n",
      "Test Loss 0.021591755\n"
     ]
    }
   ],
   "source": [
    "test_df = pd.read_csv(test_csv_path)\n",
    "\n",
    "i_test=[]\n",
    "o_test=[]\n",
    "for row in val_df.iloc:\n",
    "    i_test.append((row[0:len(row)-1]).astype(float))\n",
    "    o_test.append(row[-1])\n",
    "\n",
    "\n",
    "   \n",
    "i_test, o_test = Variable(torch.tensor(i_test)).float(), Variable(torch.tensor(o_test).float())\n",
    "new_shape = (len(o_test), 1)\n",
    "o_test = o_test.view(new_shape)\n",
    "\n",
    "    #Normalizing\n",
    "i_test = (i_test - min_x.values)/range_x\n",
    "o_test = (o_test - min_y)/range_y\n",
    "\n",
    "i_test2 = F.relu(torch.matmul(i_test,Const_Weight_RVFL) + Const_bias_RVFL)\n",
    "i_test_RVFL = torch.cat([i_test,i_test2],1)\n",
    "prediction = net_opt_val(i_test_RVFL)\n",
    "\n",
    "loss_test = loss_func(prediction, o_test)\n",
    "\n",
    "print(\"Normalized Test Loss\",loss_test.detach().numpy())\n",
    "\n",
    "loss_test = loss_test*range_y*range_y # As the loss function returns MSE\n",
    "\n",
    "print(\"Test Loss\",loss_test.detach().numpy())"
   ]
  },
  {
   "cell_type": "markdown",
   "id": "53a98cbc",
   "metadata": {
    "papermill": {
     "duration": 0.015301,
     "end_time": "2021-07-26T02:59:46.142307",
     "exception": false,
     "start_time": "2021-07-26T02:59:46.127006",
     "status": "completed"
    },
    "tags": []
   },
   "source": [
    "## Denormalization"
   ]
  },
  {
   "cell_type": "code",
   "execution_count": 6,
   "id": "79b6d898",
   "metadata": {
    "execution": {
     "iopub.execute_input": "2021-07-26T02:59:46.181349Z",
     "iopub.status.busy": "2021-07-26T02:59:46.180642Z",
     "iopub.status.idle": "2021-07-26T02:59:46.183570Z",
     "shell.execute_reply": "2021-07-26T02:59:46.184067Z",
     "shell.execute_reply.started": "2021-07-26T02:58:42.575950Z"
    },
    "papermill": {
     "duration": 0.026152,
     "end_time": "2021-07-26T02:59:46.184234",
     "exception": false,
     "start_time": "2021-07-26T02:59:46.158082",
     "status": "completed"
    },
    "tags": []
   },
   "outputs": [],
   "source": [
    "standard_deviation = math.sqrt(minimum_val_loss)\n",
    "z_95 = 1.96*standard_deviation\n",
    "LB = prediction.detach().numpy() - z_95\n",
    "UB = prediction.detach().numpy() + z_95\n",
    "o_test = o_test.detach().numpy()\n",
    "\n",
    "\n",
    "#Denormalization\n",
    "i_test = i_test*range_x + min_x.values\n",
    "o_test = o_test*range_y.detach().numpy() + min_y.detach().numpy()\n",
    "LB = LB*range_y.detach().numpy() + min_y.detach().numpy()\n",
    "UB = UB*range_y.detach().numpy() + min_y.detach().numpy()\n",
    "prediction = prediction*range_y + min_y"
   ]
  },
  {
   "cell_type": "markdown",
   "id": "45e9f682",
   "metadata": {
    "papermill": {
     "duration": 0.015384,
     "end_time": "2021-07-26T02:59:46.215605",
     "exception": false,
     "start_time": "2021-07-26T02:59:46.200221",
     "status": "completed"
    },
    "tags": []
   },
   "source": [
    "## Plotting"
   ]
  },
  {
   "cell_type": "code",
   "execution_count": 7,
   "id": "e55bd8a7",
   "metadata": {
    "execution": {
     "iopub.execute_input": "2021-07-26T02:59:46.274403Z",
     "iopub.status.busy": "2021-07-26T02:59:46.273580Z",
     "iopub.status.idle": "2021-07-26T02:59:46.570065Z",
     "shell.execute_reply": "2021-07-26T02:59:46.570588Z",
     "shell.execute_reply.started": "2021-07-26T02:58:42.587206Z"
    },
    "papermill": {
     "duration": 0.339395,
     "end_time": "2021-07-26T02:59:46.570756",
     "exception": false,
     "start_time": "2021-07-26T02:59:46.231361",
     "status": "completed"
    },
    "tags": []
   },
   "outputs": [
    {
     "name": "stdout",
     "output_type": "stream",
     "text": [
      "PINAW: 0.23051765838605034   PINC: 1.0   PINAFD:  0\n"
     ]
    },
    {
     "data": {
      "image/png": "[encoded data removed]",
      "text/plain": [
       "<Figure size 432x288 with 1 Axes>"
      ]
     },
     "metadata": {
      "needs_background": "light"
     },
     "output_type": "display_data"
    }
   ],
   "source": [
    "fig, (ax1) = plt.subplots(1, 1)\n",
    "\n",
    "ax1.set(xlabel=\"Input (X1, Arbitrary Unit)\", ylabel=\"Target and Predictions (Arbitrary Unit)\" , ylim = (-1.5, 1.5), xlim = (0, 1))\n",
    "plt.rcParams[\"figure.figsize\"] = (6,5)\n",
    "\n",
    "ax1.plot(i_test[:,0], prediction.detach().numpy(), color='r', linewidth=2, label='Point Prediction')\n",
    "ax1.plot(i_test[:,0], LB, color='g', linewidth=2, label='Prediction Interval')\n",
    "ax1.scatter(i_test[:,0], o_test, color='b',s=.5, label='Target')\n",
    "ax1.plot(i_test[:,0], UB, linewidth=2, color='g')\n",
    "\n",
    "leg = ax1.legend(frameon=False, loc='lower left', bbox_to_anchor=(0.55,0));\n",
    "\n",
    "fig.show()\n",
    "\n",
    "\n",
    "\n",
    "\n",
    "PINAW = np.sum(UB-LB)/len(UB)/(np.max(o_test)-np.min(o_test)) \n",
    "# here PINAW= 2*z_95\n",
    "\n",
    "\n",
    "PINC = 0\n",
    "PINAFD =0\n",
    "for iter1 in range(len(UB)):\n",
    "    if UB[iter1]>=o_test[iter1] and LB[iter1]<=o_test[iter1]:\n",
    "        PINC = PINC+1\n",
    "    else:\n",
    "        PINAFD = PINAFD + np.min([np.abs(UB[iter1]-o_test[iter1]), np.abs(LB[iter1]<o_test[iter1])]) \n",
    "        # PINAFD distance from the nearest interval\n",
    "\n",
    "\n",
    "if PINAFD>0:\n",
    "    PINAFD = PINAFD/(len(UB) - PINC)/(np.max(o_test)-np.min(o_test))         \n",
    "\n",
    "PINC = PINC/len(UB)\n",
    "\n",
    "print(\"PINAW:\",PINAW, \"  PINC:\", PINC, \"  PINAFD: \", PINAFD) "
   ]
  }
 ],
 "metadata": {
  "kernelspec": {
   "display_name": "Python 3",
   "language": "python",
   "name": "python3"
  },
  "language_info": {
   "codemirror_mode": {
    "name": "ipython",
    "version": 3
   },
   "file_extension": ".py",
   "mimetype": "text/x-python",
   "name": "python",
   "nbconvert_exporter": "python",
   "pygments_lexer": "ipython3",
   "version": "3.7.10"
  },
  "papermill": {
   "default_parameters": {},
   "duration": 17.81612,
   "end_time": "2021-07-26T02:59:47.952746",
   "environment_variables": {},
   "exception": null,
   "input_path": "__notebook__.ipynb",
   "output_path": "__notebook__.ipynb",
   "parameters": {},
   "start_time": "2021-07-26T02:59:30.136626",
   "version": "2.3.3"
  }
 },
 "nbformat": 4,
 "nbformat_minor": 5
}
