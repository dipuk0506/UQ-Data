{
 "cells": [
  {
   "cell_type": "markdown",
   "id": "9877e74d",
   "metadata": {
    "papermill": {
     "duration": 0.012743,
     "end_time": "2021-07-26T02:50:20.312656",
     "exception": false,
     "start_time": "2021-07-26T02:50:20.299913",
     "status": "completed"
    },
    "tags": []
   },
   "source": [
    "# Random Vector Functional Link (RVFL)"
   ]
  },
  {
   "cell_type": "markdown",
   "id": "1f5a2188",
   "metadata": {
    "papermill": {
     "duration": 0.01061,
     "end_time": "2021-07-26T02:50:20.334961",
     "exception": false,
     "start_time": "2021-07-26T02:50:20.324351",
     "status": "completed"
    },
    "tags": []
   },
   "source": [
    "## Loading CSV files"
   ]
  },
  {
   "cell_type": "code",
   "execution_count": 1,
   "id": "8f3e9d07",
   "metadata": {
    "execution": {
     "iopub.execute_input": "2021-07-26T02:50:20.373980Z",
     "iopub.status.busy": "2021-07-26T02:50:20.373274Z",
     "iopub.status.idle": "2021-07-26T02:50:21.833202Z",
     "shell.execute_reply": "2021-07-26T02:50:21.833734Z",
     "shell.execute_reply.started": "2021-07-26T02:49:19.910083Z"
    },
    "papermill": {
     "duration": 1.487912,
     "end_time": "2021-07-26T02:50:21.834060",
     "exception": false,
     "start_time": "2021-07-26T02:50:20.346148",
     "status": "completed"
    },
    "tags": []
   },
   "outputs": [
    {
     "data": {
      "text/html": [
       "<div>\n",
       "<style scoped>\n",
       "    .dataframe tbody tr th:only-of-type {\n",
       "        vertical-align: middle;\n",
       "    }\n",
       "\n",
       "    .dataframe tbody tr th {\n",
       "        vertical-align: top;\n",
       "    }\n",
       "\n",
       "    .dataframe thead th {\n",
       "        text-align: right;\n",
       "    }\n",
       "</style>\n",
       "<table border=\"1\" class=\"dataframe\">\n",
       "  <thead>\n",
       "    <tr style=\"text-align: right;\">\n",
       "      <th></th>\n",
       "      <th>Input1</th>\n",
       "      <th>Input2</th>\n",
       "      <th>Input3</th>\n",
       "      <th>Output</th>\n",
       "    </tr>\n",
       "  </thead>\n",
       "  <tbody>\n",
       "    <tr>\n",
       "      <th>0</th>\n",
       "      <td>3.711367</td>\n",
       "      <td>0.535668</td>\n",
       "      <td>4.276316</td>\n",
       "      <td>34.717091</td>\n",
       "    </tr>\n",
       "    <tr>\n",
       "      <th>1</th>\n",
       "      <td>5.152339</td>\n",
       "      <td>0.261720</td>\n",
       "      <td>4.220678</td>\n",
       "      <td>25.090022</td>\n",
       "    </tr>\n",
       "    <tr>\n",
       "      <th>2</th>\n",
       "      <td>6.721850</td>\n",
       "      <td>0.723462</td>\n",
       "      <td>5.707892</td>\n",
       "      <td>22.038826</td>\n",
       "    </tr>\n",
       "    <tr>\n",
       "      <th>3</th>\n",
       "      <td>4.957375</td>\n",
       "      <td>0.606124</td>\n",
       "      <td>1.153642</td>\n",
       "      <td>25.440498</td>\n",
       "    </tr>\n",
       "    <tr>\n",
       "      <th>4</th>\n",
       "      <td>0.856404</td>\n",
       "      <td>0.730655</td>\n",
       "      <td>1.317854</td>\n",
       "      <td>12.121563</td>\n",
       "    </tr>\n",
       "  </tbody>\n",
       "</table>\n",
       "</div>"
      ],
      "text/plain": [
       "     Input1    Input2    Input3     Output\n",
       "0  3.711367  0.535668  4.276316  34.717091\n",
       "1  5.152339  0.261720  4.220678  25.090022\n",
       "2  6.721850  0.723462  5.707892  22.038826\n",
       "3  4.957375  0.606124  1.153642  25.440498\n",
       "4  0.856404  0.730655  1.317854  12.121563"
      ]
     },
     "execution_count": 1,
     "metadata": {},
     "output_type": "execute_result"
    }
   ],
   "source": [
    "train_csv_path = '../input/toy-dataset-for-regression-and-uq/Data4_Train.csv'\n",
    "test_csv_path = '../input/toy-dataset-for-regression-and-uq/Data4_Test.csv'\n",
    "val_csv_path = '../input/toy-dataset-for-regression-and-uq/Data4_Val.csv'\n",
    "\n",
    "\n",
    "import pandas as pd\n",
    "import torch\n",
    "from torch.autograd import Variable\n",
    "import torch.nn.functional as F\n",
    "import torch.utils.data as Data\n",
    "\n",
    "import matplotlib.pyplot as plt\n",
    "%matplotlib inline\n",
    "\n",
    "import numpy as np\n",
    "import imageio\n",
    "import math\n",
    "\n",
    "\n",
    "train_df = pd.read_csv(train_csv_path)\n",
    "val_df = pd.read_csv(val_csv_path)\n",
    "train_df.head()"
   ]
  },
  {
   "cell_type": "markdown",
   "id": "c3b07285",
   "metadata": {
    "papermill": {
     "duration": 0.011171,
     "end_time": "2021-07-26T02:50:21.857017",
     "exception": false,
     "start_time": "2021-07-26T02:50:21.845846",
     "status": "completed"
    },
    "tags": []
   },
   "source": [
    "## Normalizing training and validation data"
   ]
  },
  {
   "cell_type": "code",
   "execution_count": 2,
   "id": "2d67f963",
   "metadata": {
    "execution": {
     "iopub.execute_input": "2021-07-26T02:50:22.510731Z",
     "iopub.status.busy": "2021-07-26T02:50:22.509789Z",
     "iopub.status.idle": "2021-07-26T02:50:23.758215Z",
     "shell.execute_reply": "2021-07-26T02:50:23.757366Z",
     "shell.execute_reply.started": "2021-07-26T02:49:19.981900Z"
    },
    "papermill": {
     "duration": 1.890015,
     "end_time": "2021-07-26T02:50:23.758440",
     "exception": false,
     "start_time": "2021-07-26T02:50:21.868425",
     "status": "completed"
    },
    "tags": []
   },
   "outputs": [
    {
     "name": "stdout",
     "output_type": "stream",
     "text": [
      "3\n",
      "tensor(43.5668) tensor(0.0219) tensor([9.9987, 0.9998, 6.2827]) tensor([0.0031, 0.0002, 0.0004])\n",
      "tensor([9.9955, 0.9996, 6.2823]) tensor(43.5449)\n"
     ]
    }
   ],
   "source": [
    "input_=[]\n",
    "output_=[]\n",
    "for row in train_df.iloc:\n",
    "    input_.append((row[0:len(row)-1]).astype(float))\n",
    "    output_.append(row[-1])\n",
    "    \n",
    "i_val=[]\n",
    "o_val=[]\n",
    "for row in val_df.iloc:\n",
    "    i_val.append((row[0:len(row)-1]).astype(float))\n",
    "    o_val.append(row[-1])\n",
    "    \n",
    "num_input = len(row)-1;\n",
    "print(num_input)\n",
    "\n",
    "\n",
    "torch.manual_seed(1)    # reproducible\n",
    "\n",
    "x = torch.tensor(input_).float()  \n",
    "y = torch.tensor(output_).float()   \n",
    "new_shape = (len(y), 1)\n",
    "y = y.view(new_shape)\n",
    "\n",
    "\n",
    "i_val = torch.tensor(i_val).float()  \n",
    "o_val = torch.tensor(o_val).float()   \n",
    "new_shape = (len(o_val), 1)\n",
    "o_val = o_val.view(new_shape)\n",
    "\n",
    "\n",
    "\n",
    "max_y = torch.max(y[:,0])\n",
    "min_y =torch.min(y[:,0])\n",
    "\n",
    "max_x = torch.max(x,dim=0)\n",
    "min_x = torch.min(x,dim=0)\n",
    "\n",
    "print(max_y, min_y, max_x.values, min_x.values)\n",
    "\n",
    "range_y = max_y - min_y\n",
    "range_x = max_x.values - min_x.values\n",
    "\n",
    "print(range_x, range_y)\n",
    "\n",
    "    #Normalizing\n",
    "x = (x - min_x.values)/range_x\n",
    "y = (y - min_y)/range_y\n",
    "\n",
    "    #Normalizing\n",
    "i_val = (i_val - min_x.values)/range_x\n",
    "o_val = (o_val - min_y)/range_y"
   ]
  },
  {
   "cell_type": "markdown",
   "id": "e6cffd8c",
   "metadata": {
    "papermill": {
     "duration": 0.011721,
     "end_time": "2021-07-26T02:50:23.783135",
     "exception": false,
     "start_time": "2021-07-26T02:50:23.771414",
     "status": "completed"
    },
    "tags": []
   },
   "source": [
    "## RVFL Network"
   ]
  },
  {
   "cell_type": "code",
   "execution_count": 3,
   "id": "30e6de16",
   "metadata": {
    "execution": {
     "iopub.execute_input": "2021-07-26T02:50:23.819308Z",
     "iopub.status.busy": "2021-07-26T02:50:23.818592Z",
     "iopub.status.idle": "2021-07-26T02:50:23.962588Z",
     "shell.execute_reply": "2021-07-26T02:50:23.963147Z",
     "shell.execute_reply.started": "2021-07-26T02:49:21.533423Z"
    },
    "papermill": {
     "duration": 0.16807,
     "end_time": "2021-07-26T02:50:23.963380",
     "exception": false,
     "start_time": "2021-07-26T02:50:23.795310",
     "status": "completed"
    },
    "tags": []
   },
   "outputs": [
    {
     "name": "stdout",
     "output_type": "stream",
     "text": [
      "torch.Size([3, 1000])\n",
      "torch.Size([5000, 3])\n",
      "torch.Size([5000, 1000])\n",
      "torch.Size([5000, 1003])\n",
      "Linear(in_features=1003, out_features=1, bias=True)\n"
     ]
    }
   ],
   "source": [
    "# torch can only train on Variable, so convert them to Variable\n",
    "x, y = Variable(x), Variable(y)\n",
    "\n",
    "# Make RVFL code Here\n",
    "num_RVFL_HL = 1000\n",
    "# num_input by num_RVFL_HL sized weight matrix\n",
    "Const_Weight_RVFL = torch.rand((num_input,num_RVFL_HL))-.5\n",
    "print(Const_Weight_RVFL.shape)\n",
    "# num_RVFL_HL by 1 sized hidden bias\n",
    "Const_bias_RVFL = torch.rand((1,num_RVFL_HL))-.5\n",
    "\n",
    "print(x.shape)\n",
    "x2=F.relu(torch.matmul(x,Const_Weight_RVFL) + Const_bias_RVFL)\n",
    "print(x2.shape)\n",
    "x_RVFL = torch.cat([x,x2],1)\n",
    "print(x_RVFL.shape)\n",
    "\n",
    "\n",
    "i_val2 = F.relu(torch.matmul(i_val,Const_Weight_RVFL) + Const_bias_RVFL)\n",
    "i_val_RVFL = torch.cat([i_val,i_val2],1)\n",
    "\n",
    "\n",
    "#Connection to output layer\n",
    "NN_out = torch.nn.Linear(num_input+num_RVFL_HL, 1)\n",
    "\n",
    "\n",
    "# use the same net as before      \n",
    "net = NN_out     # define the network\n",
    "print(net)  # net architecture\n",
    "optimizer = torch.optim.Adam(net.parameters(), lr=0.05)\n",
    "loss_func = torch.nn.MSELoss()  # this is for regression mean squared loss"
   ]
  },
  {
   "cell_type": "markdown",
   "id": "1d486673",
   "metadata": {
    "papermill": {
     "duration": 0.012503,
     "end_time": "2021-07-26T02:50:23.990969",
     "exception": false,
     "start_time": "2021-07-26T02:50:23.978466",
     "status": "completed"
    },
    "tags": []
   },
   "source": [
    "## Network Training"
   ]
  },
  {
   "cell_type": "code",
   "execution_count": 4,
   "id": "435e621a",
   "metadata": {
    "execution": {
     "iopub.execute_input": "2021-07-26T02:50:24.027101Z",
     "iopub.status.busy": "2021-07-26T02:50:24.026377Z",
     "iopub.status.idle": "2021-07-26T02:50:28.220931Z",
     "shell.execute_reply": "2021-07-26T02:50:28.220316Z",
     "shell.execute_reply.started": "2021-07-26T02:49:21.586962Z"
    },
    "papermill": {
     "duration": 4.217068,
     "end_time": "2021-07-26T02:50:28.221114",
     "exception": false,
     "start_time": "2021-07-26T02:50:24.004046",
     "status": "completed"
    },
    "tags": []
   },
   "outputs": [
    {
     "name": "stdout",
     "output_type": "stream",
     "text": [
      "Epoch [200/2000], Loss: 0.0054, Minimum Loss 0.005417, Val Loss 0.005088  \n",
      "Epoch [400/2000], Loss: 0.0051, Minimum Loss 0.005100, Val Loss 0.004770  \n",
      "Epoch [600/2000], Loss: 0.0050, Minimum Loss 0.005036, Val Loss 0.004712  \n",
      "Epoch [800/2000], Loss: 0.0050, Minimum Loss 0.005000, Val Loss 0.004689  \n",
      "Epoch [1000/2000], Loss: 0.0050, Minimum Loss 0.004973, Val Loss 0.004679  \n",
      "Epoch [1200/2000], Loss: 0.0050, Minimum Loss 0.004951, Val Loss 0.004675  \n",
      "Epoch [1400/2000], Loss: 0.0049, Minimum Loss 0.004931, Val Loss 0.004675  \n",
      "Epoch [1600/2000], Loss: 0.0049, Minimum Loss 0.004913, Val Loss 0.004675  \n",
      "Epoch [1800/2000], Loss: 0.0049, Minimum Loss 0.004897, Val Loss 0.004675  \n",
      "Epoch [2000/2000], Loss: 0.0068, Minimum Loss 0.004889, Val Loss 0.004675  \n"
     ]
    }
   ],
   "source": [
    "#initial values. These values will be replaced with smaller values\n",
    "minimum_train_loss = 1e5\n",
    "minimum_val_loss = 1e5\n",
    "EPOCH = 2000\n",
    "\n",
    "# start training\n",
    "for epoch in range(EPOCH):\n",
    "  \n",
    "    prediction = net(x_RVFL)     # input x and predict based on x\n",
    "\n",
    "    loss = loss_func(prediction, y)     # must be (1. nn output, 2. target)\n",
    "\n",
    "    optimizer.zero_grad()   # clear gradients for next train\n",
    "    loss.backward()         # backpropagation, compute gradients\n",
    "    optimizer.step()        # apply gradients\n",
    "    \n",
    "    if loss<minimum_train_loss:\n",
    "        minimum_train_loss =loss\n",
    "        net_opt = net\n",
    "    \n",
    "    if epoch%200 == 199:\n",
    "      prediction = net_opt(i_val_RVFL)\n",
    "      loss_val = loss_func(prediction, o_val)\n",
    "      if loss_val<minimum_val_loss:\n",
    "        minimum_val_loss = loss_val\n",
    "        net_opt_val = net_opt\n",
    "      print (\"Epoch [{}/{}], Loss: {:.4f}, Minimum Loss {:.6f}, Val Loss {:.6f}  \"  .format(epoch+1, EPOCH, loss, minimum_train_loss, minimum_val_loss))"
   ]
  },
  {
   "cell_type": "markdown",
   "id": "e4680a2e",
   "metadata": {
    "papermill": {
     "duration": 0.0156,
     "end_time": "2021-07-26T02:50:28.253060",
     "exception": false,
     "start_time": "2021-07-26T02:50:28.237460",
     "status": "completed"
    },
    "tags": []
   },
   "source": [
    "## Network on Test Data"
   ]
  },
  {
   "cell_type": "code",
   "execution_count": 5,
   "id": "797fbe1b",
   "metadata": {
    "execution": {
     "iopub.execute_input": "2021-07-26T02:50:28.296035Z",
     "iopub.status.busy": "2021-07-26T02:50:28.295281Z",
     "iopub.status.idle": "2021-07-26T02:50:28.948811Z",
     "shell.execute_reply": "2021-07-26T02:50:28.948143Z",
     "shell.execute_reply.started": "2021-07-26T02:49:24.715375Z"
    },
    "papermill": {
     "duration": 0.679901,
     "end_time": "2021-07-26T02:50:28.949001",
     "exception": false,
     "start_time": "2021-07-26T02:50:28.269100",
     "status": "completed"
    },
    "tags": []
   },
   "outputs": [
    {
     "name": "stdout",
     "output_type": "stream",
     "text": [
      "Normalized Test Loss 0.0074795047\n",
      "Test Loss 14.18232\n"
     ]
    }
   ],
   "source": [
    "test_df = pd.read_csv(test_csv_path)\n",
    "\n",
    "i_test=[]\n",
    "o_test=[]\n",
    "for row in val_df.iloc:\n",
    "    i_test.append((row[0:len(row)-1]).astype(float))\n",
    "    o_test.append(row[-1])\n",
    "\n",
    "\n",
    "   \n",
    "i_test, o_test = Variable(torch.tensor(i_test)).float(), Variable(torch.tensor(o_test).float())\n",
    "new_shape = (len(o_test), 1)\n",
    "o_test = o_test.view(new_shape)\n",
    "\n",
    "    #Normalizing\n",
    "i_test = (i_test - min_x.values)/range_x\n",
    "o_test = (o_test - min_y)/range_y\n",
    "\n",
    "i_test2 = F.relu(torch.matmul(i_test,Const_Weight_RVFL) + Const_bias_RVFL)\n",
    "i_test_RVFL = torch.cat([i_test,i_test2],1)\n",
    "prediction = net_opt_val(i_test_RVFL)\n",
    "\n",
    "loss_test = loss_func(prediction, o_test)\n",
    "\n",
    "print(\"Normalized Test Loss\",loss_test.detach().numpy())\n",
    "\n",
    "loss_test = loss_test*range_y*range_y # As the loss function returns MSE\n",
    "\n",
    "print(\"Test Loss\",loss_test.detach().numpy())"
   ]
  },
  {
   "cell_type": "markdown",
   "id": "81522620",
   "metadata": {
    "papermill": {
     "duration": 0.015885,
     "end_time": "2021-07-26T02:50:28.983482",
     "exception": false,
     "start_time": "2021-07-26T02:50:28.967597",
     "status": "completed"
    },
    "tags": []
   },
   "source": [
    "## Denormalization"
   ]
  },
  {
   "cell_type": "code",
   "execution_count": 6,
   "id": "c3740250",
   "metadata": {
    "execution": {
     "iopub.execute_input": "2021-07-26T02:50:29.025839Z",
     "iopub.status.busy": "2021-07-26T02:50:29.025071Z",
     "iopub.status.idle": "2021-07-26T02:50:29.029703Z",
     "shell.execute_reply": "2021-07-26T02:50:29.029098Z",
     "shell.execute_reply.started": "2021-07-26T02:49:25.178688Z"
    },
    "papermill": {
     "duration": 0.029923,
     "end_time": "2021-07-26T02:50:29.029859",
     "exception": false,
     "start_time": "2021-07-26T02:50:28.999936",
     "status": "completed"
    },
    "tags": []
   },
   "outputs": [],
   "source": [
    "standard_deviation = math.sqrt(minimum_val_loss)\n",
    "z_95 = 1.96*standard_deviation\n",
    "LB = prediction.detach().numpy() - z_95\n",
    "UB = prediction.detach().numpy() + z_95\n",
    "o_test = o_test.detach().numpy()\n",
    "\n",
    "\n",
    "#Denormalization\n",
    "i_test = i_test*range_x + min_x.values\n",
    "o_test = o_test*range_y.detach().numpy() + min_y.detach().numpy()\n",
    "LB = LB*range_y.detach().numpy() + min_y.detach().numpy()\n",
    "UB = UB*range_y.detach().numpy() + min_y.detach().numpy()\n",
    "prediction = prediction*range_y + min_y"
   ]
  },
  {
   "cell_type": "markdown",
   "id": "f1871c6d",
   "metadata": {
    "papermill": {
     "duration": 0.016036,
     "end_time": "2021-07-26T02:50:29.062835",
     "exception": false,
     "start_time": "2021-07-26T02:50:29.046799",
     "status": "completed"
    },
    "tags": []
   },
   "source": [
    "## Plotting"
   ]
  },
  {
   "cell_type": "code",
   "execution_count": 7,
   "id": "1da9c6db",
   "metadata": {
    "execution": {
     "iopub.execute_input": "2021-07-26T02:50:29.099656Z",
     "iopub.status.busy": "2021-07-26T02:50:29.098653Z",
     "iopub.status.idle": "2021-07-26T02:50:29.482585Z",
     "shell.execute_reply": "2021-07-26T02:50:29.483102Z",
     "shell.execute_reply.started": "2021-07-26T02:49:25.187881Z"
    },
    "papermill": {
     "duration": 0.40419,
     "end_time": "2021-07-26T02:50:29.483300",
     "exception": false,
     "start_time": "2021-07-26T02:50:29.079110",
     "status": "completed"
    },
    "tags": []
   },
   "outputs": [
    {
     "name": "stdout",
     "output_type": "stream",
     "text": [
      "PINAW: 0.2731018016157071   PINC: 0.8895   PINAFD: 0.020058901941873056\n"
     ]
    },
    {
     "data": {
      "image/png": "[encoded data removed]",
      "text/plain": [
       "<Figure size 432x288 with 1 Axes>"
      ]
     },
     "metadata": {
      "needs_background": "light"
     },
     "output_type": "display_data"
    }
   ],
   "source": [
    "fig, (ax1) = plt.subplots(1, 1)\n",
    "\n",
    "ax1.set(xlabel=\"Input (X1, Arbitrary Unit)\", ylabel=\"Target and Predictions (Arbitrary Unit)\" , ylim = (-10, 50), xlim = (0, 10))\n",
    "plt.rcParams[\"figure.figsize\"] = (6,5)\n",
    "\n",
    "ax1.scatter(i_test[:,0], prediction.detach().numpy(), color='r', s=.5, label='Point Prediction')\n",
    "ax1.scatter(i_test[:,0], LB, color='g', s=.5, label='Prediction Interval')\n",
    "ax1.scatter(i_test[:,0], o_test, color='b',s=.5, label='Target')\n",
    "ax1.scatter(i_test[:,0], UB, s=.5, color='g')\n",
    "\n",
    "leg = ax1.legend(frameon=False, loc='lower left', bbox_to_anchor=(0.3,0));\n",
    "\n",
    "fig.show()\n",
    "\n",
    "\n",
    "\n",
    "\n",
    "PINAW = np.sum(UB-LB)/len(UB)/(np.max(o_test)-np.min(o_test)) \n",
    "# here PINAW= 2*z_95\n",
    "\n",
    "\n",
    "PINC = 0\n",
    "PINAFD =0\n",
    "for iter1 in range(len(UB)):\n",
    "    if UB[iter1]>o_test[iter1] and LB[iter1]<o_test[iter1]:\n",
    "        PINC = PINC+1\n",
    "    else:\n",
    "        PINAFD = PINAFD + np.min([np.abs(UB[iter1]-o_test[iter1]), np.abs(LB[iter1]<o_test[iter1])]) \n",
    "        # PINAFD distance from the nearest interval\n",
    "\n",
    "\n",
    "if PINAFD>0:\n",
    "    PINAFD = PINAFD/(len(UB) - PINC)/(np.max(o_test)-np.min(o_test))         \n",
    "\n",
    "PINC = PINC/len(UB)\n",
    "\n",
    "print(\"PINAW:\",PINAW, \"  PINC:\", PINC, \"  PINAFD:\", PINAFD) "
   ]
  }
 ],
 "metadata": {
  "kernelspec": {
   "display_name": "Python 3",
   "language": "python",
   "name": "python3"
  },
  "language_info": {
   "codemirror_mode": {
    "name": "ipython",
    "version": 3
   },
   "file_extension": ".py",
   "mimetype": "text/x-python",
   "name": "python",
   "nbconvert_exporter": "python",
   "pygments_lexer": "ipython3",
   "version": "3.7.10"
  },
  "papermill": {
   "default_parameters": {},
   "duration": 19.86723,
   "end_time": "2021-07-26T02:50:31.450598",
   "environment_variables": {},
   "exception": null,
   "input_path": "__notebook__.ipynb",
   "output_path": "__notebook__.ipynb",
   "parameters": {},
   "start_time": "2021-07-26T02:50:11.583368",
   "version": "2.3.3"
  }
 },
 "nbformat": 4,
 "nbformat_minor": 5
}
