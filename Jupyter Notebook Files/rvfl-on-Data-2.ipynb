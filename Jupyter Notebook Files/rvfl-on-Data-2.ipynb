{
 "cells": [
  {
   "cell_type": "markdown",
   "id": "a2d0caf8",
   "metadata": {
    "papermill": {
     "duration": 0.011746,
     "end_time": "2021-07-26T02:42:39.782787",
     "exception": false,
     "start_time": "2021-07-26T02:42:39.771041",
     "status": "completed"
    },
    "tags": []
   },
   "source": [
    "# Random Vector Functional Link (RVFL)"
   ]
  },
  {
   "cell_type": "markdown",
   "id": "962d1505",
   "metadata": {
    "papermill": {
     "duration": 0.01104,
     "end_time": "2021-07-26T02:42:39.804944",
     "exception": false,
     "start_time": "2021-07-26T02:42:39.793904",
     "status": "completed"
    },
    "tags": []
   },
   "source": [
    "## Loading CSV files"
   ]
  },
  {
   "cell_type": "code",
   "execution_count": 1,
   "id": "2243db93",
   "metadata": {
    "execution": {
     "iopub.execute_input": "2021-07-26T02:42:39.830933Z",
     "iopub.status.busy": "2021-07-26T02:42:39.829796Z",
     "iopub.status.idle": "2021-07-26T02:42:41.125751Z",
     "shell.execute_reply": "2021-07-26T02:42:41.126264Z",
     "shell.execute_reply.started": "2021-07-26T02:42:03.892511Z"
    },
    "papermill": {
     "duration": 1.310818,
     "end_time": "2021-07-26T02:42:41.126532",
     "exception": false,
     "start_time": "2021-07-26T02:42:39.815714",
     "status": "completed"
    },
    "tags": []
   },
   "outputs": [
    {
     "data": {
      "text/html": [
       "<div>\n",
       "<style scoped>\n",
       "    .dataframe tbody tr th:only-of-type {\n",
       "        vertical-align: middle;\n",
       "    }\n",
       "\n",
       "    .dataframe tbody tr th {\n",
       "        vertical-align: top;\n",
       "    }\n",
       "\n",
       "    .dataframe thead th {\n",
       "        text-align: right;\n",
       "    }\n",
       "</style>\n",
       "<table border=\"1\" class=\"dataframe\">\n",
       "  <thead>\n",
       "    <tr style=\"text-align: right;\">\n",
       "      <th></th>\n",
       "      <th>Input1</th>\n",
       "      <th>Input2</th>\n",
       "      <th>Output</th>\n",
       "    </tr>\n",
       "  </thead>\n",
       "  <tbody>\n",
       "    <tr>\n",
       "      <th>0</th>\n",
       "      <td>0.000000</td>\n",
       "      <td>0.000000</td>\n",
       "      <td>0.242370</td>\n",
       "    </tr>\n",
       "    <tr>\n",
       "      <th>1</th>\n",
       "      <td>0.001257</td>\n",
       "      <td>0.003142</td>\n",
       "      <td>0.263871</td>\n",
       "    </tr>\n",
       "    <tr>\n",
       "      <th>2</th>\n",
       "      <td>0.002513</td>\n",
       "      <td>0.006283</td>\n",
       "      <td>0.252341</td>\n",
       "    </tr>\n",
       "    <tr>\n",
       "      <th>3</th>\n",
       "      <td>0.003770</td>\n",
       "      <td>0.009425</td>\n",
       "      <td>0.107681</td>\n",
       "    </tr>\n",
       "    <tr>\n",
       "      <th>4</th>\n",
       "      <td>0.005027</td>\n",
       "      <td>0.012566</td>\n",
       "      <td>0.113738</td>\n",
       "    </tr>\n",
       "  </tbody>\n",
       "</table>\n",
       "</div>"
      ],
      "text/plain": [
       "     Input1    Input2    Output\n",
       "0  0.000000  0.000000  0.242370\n",
       "1  0.001257  0.003142  0.263871\n",
       "2  0.002513  0.006283  0.252341\n",
       "3  0.003770  0.009425  0.107681\n",
       "4  0.005027  0.012566  0.113738"
      ]
     },
     "execution_count": 1,
     "metadata": {},
     "output_type": "execute_result"
    }
   ],
   "source": [
    "train_csv_path = '../input/toy-dataset-for-regression-and-uq/Data2_Train.csv'\n",
    "test_csv_path = '../input/toy-dataset-for-regression-and-uq/Data2_Test.csv'\n",
    "val_csv_path = '../input/toy-dataset-for-regression-and-uq/Data2_Val.csv'\n",
    "\n",
    "\n",
    "import pandas as pd\n",
    "import torch\n",
    "from torch.autograd import Variable\n",
    "import torch.nn.functional as F\n",
    "import torch.utils.data as Data\n",
    "\n",
    "import matplotlib.pyplot as plt\n",
    "%matplotlib inline\n",
    "\n",
    "import numpy as np\n",
    "import imageio\n",
    "import math\n",
    "\n",
    "\n",
    "train_df = pd.read_csv(train_csv_path)\n",
    "val_df = pd.read_csv(val_csv_path)\n",
    "train_df.head()"
   ]
  },
  {
   "cell_type": "markdown",
   "id": "69f65860",
   "metadata": {
    "papermill": {
     "duration": 0.011098,
     "end_time": "2021-07-26T02:42:41.149188",
     "exception": false,
     "start_time": "2021-07-26T02:42:41.138090",
     "status": "completed"
    },
    "tags": []
   },
   "source": [
    "## Normalizing training and validation data"
   ]
  },
  {
   "cell_type": "code",
   "execution_count": 2,
   "id": "3bf5e016",
   "metadata": {
    "execution": {
     "iopub.execute_input": "2021-07-26T02:42:41.174813Z",
     "iopub.status.busy": "2021-07-26T02:42:41.174182Z",
     "iopub.status.idle": "2021-07-26T02:42:42.825728Z",
     "shell.execute_reply": "2021-07-26T02:42:42.826263Z",
     "shell.execute_reply.started": "2021-07-26T02:42:03.924357Z"
    },
    "papermill": {
     "duration": 1.665867,
     "end_time": "2021-07-26T02:42:42.826438",
     "exception": false,
     "start_time": "2021-07-26T02:42:41.160571",
     "status": "completed"
    },
    "tags": []
   },
   "outputs": [
    {
     "name": "stdout",
     "output_type": "stream",
     "text": [
      "2\n",
      "tensor(1.4951) tensor(-1.3517) tensor([ 6.2819, 15.7048]) tensor([0., 0.])\n",
      "tensor([ 6.2819, 15.7048]) tensor(2.8468)\n"
     ]
    }
   ],
   "source": [
    "input_=[]\n",
    "output_=[]\n",
    "for row in train_df.iloc:\n",
    "    input_.append((row[0:len(row)-1]).astype(float))\n",
    "    output_.append(row[-1])\n",
    "    \n",
    "i_val=[]\n",
    "o_val=[]\n",
    "for row in val_df.iloc:\n",
    "    i_val.append((row[0:len(row)-1]).astype(float))\n",
    "    o_val.append(row[-1])\n",
    "    \n",
    "num_input = len(row)-1;\n",
    "print(num_input)\n",
    "\n",
    "\n",
    "torch.manual_seed(1)    # reproducible\n",
    "\n",
    "x = torch.tensor(input_).float()  \n",
    "y = torch.tensor(output_).float()   \n",
    "new_shape = (len(y), 1)\n",
    "y = y.view(new_shape)\n",
    "\n",
    "\n",
    "i_val = torch.tensor(i_val).float()  \n",
    "o_val = torch.tensor(o_val).float()   \n",
    "new_shape = (len(o_val), 1)\n",
    "o_val = o_val.view(new_shape)\n",
    "\n",
    "\n",
    "\n",
    "max_y = torch.max(y[:,0])\n",
    "min_y =torch.min(y[:,0])\n",
    "\n",
    "max_x = torch.max(x,dim=0)\n",
    "min_x = torch.min(x,dim=0)\n",
    "\n",
    "print(max_y, min_y, max_x.values, min_x.values)\n",
    "\n",
    "range_y = max_y - min_y\n",
    "range_x = max_x.values - min_x.values\n",
    "\n",
    "print(range_x, range_y)\n",
    "\n",
    "    #Normalizing\n",
    "x = (x - min_x.values)/range_x\n",
    "y = (y - min_y)/range_y\n",
    "\n",
    "    #Normalizing\n",
    "i_val = (i_val - min_x.values)/range_x\n",
    "o_val = (o_val - min_y)/range_y"
   ]
  },
  {
   "cell_type": "markdown",
   "id": "981090bc",
   "metadata": {
    "papermill": {
     "duration": 0.011479,
     "end_time": "2021-07-26T02:42:42.849803",
     "exception": false,
     "start_time": "2021-07-26T02:42:42.838324",
     "status": "completed"
    },
    "tags": []
   },
   "source": [
    "## RVFL Network"
   ]
  },
  {
   "cell_type": "code",
   "execution_count": 3,
   "id": "c905a915",
   "metadata": {
    "execution": {
     "iopub.execute_input": "2021-07-26T02:42:42.883642Z",
     "iopub.status.busy": "2021-07-26T02:42:42.882866Z",
     "iopub.status.idle": "2021-07-26T02:42:43.008999Z",
     "shell.execute_reply": "2021-07-26T02:42:43.009577Z",
     "shell.execute_reply.started": "2021-07-26T02:42:05.548373Z"
    },
    "papermill": {
     "duration": 0.148224,
     "end_time": "2021-07-26T02:42:43.009792",
     "exception": false,
     "start_time": "2021-07-26T02:42:42.861568",
     "status": "completed"
    },
    "tags": []
   },
   "outputs": [
    {
     "name": "stdout",
     "output_type": "stream",
     "text": [
      "torch.Size([2, 1000])\n",
      "torch.Size([5000, 2])\n",
      "torch.Size([5000, 1000])\n",
      "torch.Size([5000, 1002])\n",
      "Linear(in_features=1002, out_features=1, bias=True)\n"
     ]
    }
   ],
   "source": [
    "# torch can only train on Variable, so convert them to Variable\n",
    "x, y = Variable(x), Variable(y)\n",
    "\n",
    "# Make RVFL code Here\n",
    "num_RVFL_HL = 1000\n",
    "# num_input by num_RVFL_HL sized weight matrix\n",
    "Const_Weight_RVFL = torch.rand((num_input,num_RVFL_HL))-.5\n",
    "print(Const_Weight_RVFL.shape)\n",
    "# num_RVFL_HL by 1 sized hidden bias\n",
    "Const_bias_RVFL = torch.rand((1,num_RVFL_HL))-.5\n",
    "\n",
    "print(x.shape)\n",
    "x2=F.relu(torch.matmul(x,Const_Weight_RVFL) + Const_bias_RVFL)\n",
    "print(x2.shape)\n",
    "x_RVFL = torch.cat([x,x2],1)\n",
    "print(x_RVFL.shape)\n",
    "\n",
    "\n",
    "i_val2 = F.relu(torch.matmul(i_val,Const_Weight_RVFL) + Const_bias_RVFL)\n",
    "i_val_RVFL = torch.cat([i_val,i_val2],1)\n",
    "\n",
    "\n",
    "#Connection to output layer\n",
    "NN_out = torch.nn.Linear(num_input+num_RVFL_HL, 1)\n",
    "\n",
    "\n",
    "# use the same net as before      \n",
    "net = NN_out     # define the network\n",
    "print(net)  # net architecture\n",
    "optimizer = torch.optim.Adam(net.parameters(), lr=0.05)\n",
    "loss_func = torch.nn.MSELoss()  # this is for regression mean squared loss"
   ]
  },
  {
   "cell_type": "markdown",
   "id": "52b8b41e",
   "metadata": {
    "papermill": {
     "duration": 0.011991,
     "end_time": "2021-07-26T02:42:43.036080",
     "exception": false,
     "start_time": "2021-07-26T02:42:43.024089",
     "status": "completed"
    },
    "tags": []
   },
   "source": [
    "## Network Training"
   ]
  },
  {
   "cell_type": "code",
   "execution_count": 4,
   "id": "9c9c1c54",
   "metadata": {
    "execution": {
     "iopub.execute_input": "2021-07-26T02:42:43.068176Z",
     "iopub.status.busy": "2021-07-26T02:42:43.067501Z",
     "iopub.status.idle": "2021-07-26T02:42:46.762891Z",
     "shell.execute_reply": "2021-07-26T02:42:46.762306Z",
     "shell.execute_reply.started": "2021-07-26T02:42:05.588273Z"
    },
    "papermill": {
     "duration": 3.714657,
     "end_time": "2021-07-26T02:42:46.763050",
     "exception": false,
     "start_time": "2021-07-26T02:42:43.048393",
     "status": "completed"
    },
    "tags": []
   },
   "outputs": [
    {
     "name": "stdout",
     "output_type": "stream",
     "text": [
      "Epoch [200/2000], Loss: 0.0207, Minimum Loss 0.020656, Val Loss 0.020487  \n",
      "Epoch [400/2000], Loss: 0.0090, Minimum Loss 0.009028, Val Loss 0.009024  \n",
      "Epoch [600/2000], Loss: 0.0058, Minimum Loss 0.005785, Val Loss 0.005786  \n",
      "Epoch [800/2000], Loss: 0.0047, Minimum Loss 0.004707, Val Loss 0.004681  \n",
      "Epoch [1000/2000], Loss: 0.0042, Minimum Loss 0.004153, Val Loss 0.004109  \n",
      "Epoch [1200/2000], Loss: 0.0037, Minimum Loss 0.003748, Val Loss 0.003694  \n",
      "Epoch [1400/2000], Loss: 0.0034, Minimum Loss 0.003408, Val Loss 0.003350  \n",
      "Epoch [1600/2000], Loss: 0.0031, Minimum Loss 0.003105, Val Loss 0.003046  \n",
      "Epoch [1800/2000], Loss: 0.0028, Minimum Loss 0.002831, Val Loss 0.002774  \n",
      "Epoch [2000/2000], Loss: 0.0028, Minimum Loss 0.002607, Val Loss 0.002584  \n"
     ]
    }
   ],
   "source": [
    "#initial values. These values will be replaced with smaller values\n",
    "minimum_train_loss = 1e5\n",
    "minimum_val_loss = 1e5\n",
    "EPOCH = 2000\n",
    "\n",
    "# start training\n",
    "for epoch in range(EPOCH):\n",
    "  \n",
    "    prediction = net(x_RVFL)     # input x and predict based on x\n",
    "\n",
    "    loss = loss_func(prediction, y)     # must be (1. nn output, 2. target)\n",
    "\n",
    "    optimizer.zero_grad()   # clear gradients for next train\n",
    "    loss.backward()         # backpropagation, compute gradients\n",
    "    optimizer.step()        # apply gradients\n",
    "    \n",
    "    if loss<minimum_train_loss:\n",
    "        minimum_train_loss =loss\n",
    "        net_opt = net\n",
    "    \n",
    "    if epoch%200 == 199:\n",
    "      prediction = net_opt(i_val_RVFL)\n",
    "      loss_val = loss_func(prediction, o_val)\n",
    "      if loss_val<minimum_val_loss:\n",
    "        minimum_val_loss = loss_val\n",
    "        net_opt_val = net_opt\n",
    "      print (\"Epoch [{}/{}], Loss: {:.4f}, Minimum Loss {:.6f}, Val Loss {:.6f}  \"  .format(epoch+1, EPOCH, loss, minimum_train_loss, minimum_val_loss))"
   ]
  },
  {
   "cell_type": "markdown",
   "id": "2d079fb9",
   "metadata": {
    "papermill": {
     "duration": 0.015077,
     "end_time": "2021-07-26T02:42:46.795529",
     "exception": false,
     "start_time": "2021-07-26T02:42:46.780452",
     "status": "completed"
    },
    "tags": []
   },
   "source": [
    "## Network on Test Data"
   ]
  },
  {
   "cell_type": "code",
   "execution_count": 5,
   "id": "7a7c9487",
   "metadata": {
    "execution": {
     "iopub.execute_input": "2021-07-26T02:42:46.835176Z",
     "iopub.status.busy": "2021-07-26T02:42:46.834516Z",
     "iopub.status.idle": "2021-07-26T02:42:47.394786Z",
     "shell.execute_reply": "2021-07-26T02:42:47.394155Z",
     "shell.execute_reply.started": "2021-07-26T02:42:08.541317Z"
    },
    "papermill": {
     "duration": 0.584285,
     "end_time": "2021-07-26T02:42:47.394931",
     "exception": false,
     "start_time": "2021-07-26T02:42:46.810646",
     "status": "completed"
    },
    "tags": []
   },
   "outputs": [
    {
     "name": "stdout",
     "output_type": "stream",
     "text": [
      "Normalized Test Loss 0.0025840667\n",
      "Test Loss 0.020941513\n"
     ]
    }
   ],
   "source": [
    "test_df = pd.read_csv(test_csv_path)\n",
    "\n",
    "i_test=[]\n",
    "o_test=[]\n",
    "for row in val_df.iloc:\n",
    "    i_test.append((row[0:len(row)-1]).astype(float))\n",
    "    o_test.append(row[-1])\n",
    "\n",
    "\n",
    "   \n",
    "i_test, o_test = Variable(torch.tensor(i_test)).float(), Variable(torch.tensor(o_test).float())\n",
    "new_shape = (len(o_test), 1)\n",
    "o_test = o_test.view(new_shape)\n",
    "\n",
    "    #Normalizing\n",
    "i_test = (i_test - min_x.values)/range_x\n",
    "o_test = (o_test - min_y)/range_y\n",
    "\n",
    "i_test2 = F.relu(torch.matmul(i_test,Const_Weight_RVFL) + Const_bias_RVFL)\n",
    "i_test_RVFL = torch.cat([i_test,i_test2],1)\n",
    "prediction = net_opt_val(i_test_RVFL)\n",
    "\n",
    "loss_test = loss_func(prediction, o_test)\n",
    "\n",
    "print(\"Normalized Test Loss\",loss_test.detach().numpy())\n",
    "\n",
    "loss_test = loss_test*range_y*range_y # As the loss function returns MSE\n",
    "\n",
    "print(\"Test Loss\",loss_test.detach().numpy())"
   ]
  },
  {
   "cell_type": "markdown",
   "id": "27c81cd3",
   "metadata": {
    "papermill": {
     "duration": 0.015555,
     "end_time": "2021-07-26T02:42:47.426273",
     "exception": false,
     "start_time": "2021-07-26T02:42:47.410718",
     "status": "completed"
    },
    "tags": []
   },
   "source": [
    "## Denormalization"
   ]
  },
  {
   "cell_type": "code",
   "execution_count": 6,
   "id": "3612b126",
   "metadata": {
    "execution": {
     "iopub.execute_input": "2021-07-26T02:42:47.465609Z",
     "iopub.status.busy": "2021-07-26T02:42:47.464821Z",
     "iopub.status.idle": "2021-07-26T02:42:47.468685Z",
     "shell.execute_reply": "2021-07-26T02:42:47.468155Z",
     "shell.execute_reply.started": "2021-07-26T02:42:08.978312Z"
    },
    "papermill": {
     "duration": 0.026763,
     "end_time": "2021-07-26T02:42:47.468820",
     "exception": false,
     "start_time": "2021-07-26T02:42:47.442057",
     "status": "completed"
    },
    "tags": []
   },
   "outputs": [],
   "source": [
    "standard_deviation = math.sqrt(minimum_val_loss)\n",
    "z_95 = 1.96*standard_deviation\n",
    "LB = prediction.detach().numpy() - z_95\n",
    "UB = prediction.detach().numpy() + z_95\n",
    "o_test = o_test.detach().numpy()\n",
    "\n",
    "\n",
    "#Denormalization\n",
    "i_test = i_test*range_x + min_x.values\n",
    "o_test = o_test*range_y.detach().numpy() + min_y.detach().numpy()\n",
    "LB = LB*range_y.detach().numpy() + min_y.detach().numpy()\n",
    "UB = UB*range_y.detach().numpy() + min_y.detach().numpy()\n",
    "prediction = prediction*range_y + min_y"
   ]
  },
  {
   "cell_type": "markdown",
   "id": "8f54af14",
   "metadata": {
    "papermill": {
     "duration": 0.015729,
     "end_time": "2021-07-26T02:42:47.500280",
     "exception": false,
     "start_time": "2021-07-26T02:42:47.484551",
     "status": "completed"
    },
    "tags": []
   },
   "source": [
    "## Plotting"
   ]
  },
  {
   "cell_type": "code",
   "execution_count": 7,
   "id": "b896145d",
   "metadata": {
    "execution": {
     "iopub.execute_input": "2021-07-26T02:42:47.543236Z",
     "iopub.status.busy": "2021-07-26T02:42:47.542570Z",
     "iopub.status.idle": "2021-07-26T02:42:47.819117Z",
     "shell.execute_reply": "2021-07-26T02:42:47.820117Z",
     "shell.execute_reply.started": "2021-07-26T02:42:08.987784Z"
    },
    "papermill": {
     "duration": 0.304343,
     "end_time": "2021-07-26T02:42:47.820370",
     "exception": false,
     "start_time": "2021-07-26T02:42:47.516027",
     "status": "completed"
    },
    "tags": []
   },
   "outputs": [
    {
     "data": {
      "image/png": "[encoded data removed]",
      "text/plain": [
       "<Figure size 432x288 with 1 Axes>"
      ]
     },
     "metadata": {
      "needs_background": "light"
     },
     "output_type": "display_data"
    },
    {
     "name": "stdout",
     "output_type": "stream",
     "text": [
      "PINAW: 0.20091112369846684   PINC: 0.935   PINAFD: 0.009396534189727341\n"
     ]
    }
   ],
   "source": [
    "fig, (ax1) = plt.subplots(1, 1)\n",
    "\n",
    "ax1.set(xlabel=\"Input (X1, Arbitrary Unit)\", ylabel=\"Target and Predictions (Arbitrary Unit)\", ylim = (-1.5, 1.5), xlim = (0, 6))\n",
    "plt.rcParams[\"figure.figsize\"] = (6,5)\n",
    "\n",
    "ax1.plot(i_test[:,0], prediction.detach().numpy(), color='r', linewidth=2, label='Point Prediction')\n",
    "ax1.plot(i_test[:,0], LB, color='g', linewidth=2, label='Prediction Interval')\n",
    "ax1.scatter(i_test[:,0], o_test, color='b',s=1, label='Target')\n",
    "ax1.plot(i_test[:,0], UB, linewidth=2, color='g')\n",
    "\n",
    "leg = ax1.legend(frameon=False, loc='lower left', bbox_to_anchor=(0.45,0));\n",
    "\n",
    "plt.show()\n",
    "\n",
    "\n",
    "\n",
    "\n",
    "PINAW = np.sum(UB-LB)/len(UB)/(np.max(o_test)-np.min(o_test)) \n",
    "# here PINAW= 2*z_95\n",
    "\n",
    "\n",
    "PINC = 0\n",
    "PINAFD =0\n",
    "for iter1 in range(len(UB)):\n",
    "    if UB[iter1]>o_test[iter1] and LB[iter1]<o_test[iter1]:\n",
    "        PINC = PINC+1\n",
    "    else:\n",
    "        PINAFD = PINAFD + np.min([np.abs(UB[iter1]-o_test[iter1]), np.abs(LB[iter1]<o_test[iter1])]) \n",
    "        # PINAFD distance from the nearest interval\n",
    "\n",
    "\n",
    "if PINAFD>0:\n",
    "    PINAFD = PINAFD/(len(UB) - PINC)/(np.max(o_test)-np.min(o_test))         \n",
    "\n",
    "PINC = PINC/len(UB)\n",
    "\n",
    "print(\"PINAW:\",PINAW, \"  PINC:\", PINC, \"  PINAFD:\", PINAFD) "
   ]
  }
 ],
 "metadata": {
  "kernelspec": {
   "display_name": "Python 3",
   "language": "python",
   "name": "python3"
  },
  "language_info": {
   "codemirror_mode": {
    "name": "ipython",
    "version": 3
   },
   "file_extension": ".py",
   "mimetype": "text/x-python",
   "name": "python",
   "nbconvert_exporter": "python",
   "pygments_lexer": "ipython3",
   "version": "3.7.10"
  },
  "papermill": {
   "default_parameters": {},
   "duration": 17.744439,
   "end_time": "2021-07-26T02:42:49.639594",
   "environment_variables": {},
   "exception": null,
   "input_path": "__notebook__.ipynb",
   "output_path": "__notebook__.ipynb",
   "parameters": {},
   "start_time": "2021-07-26T02:42:31.895155",
   "version": "2.3.3"
  }
 },
 "nbformat": 4,
 "nbformat_minor": 5
}
