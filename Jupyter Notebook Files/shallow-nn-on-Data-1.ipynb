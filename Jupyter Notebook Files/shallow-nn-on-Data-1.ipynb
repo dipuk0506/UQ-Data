{
 "cells": [
  {
   "cell_type": "code",
   "execution_count": 1,
   "id": "armed-evanescence",
   "metadata": {
    "_cell_guid": "b1076dfc-b9ad-4769-8c92-a6c4dae69d19",
    "_uuid": "8f2839f25d086af736a60e9eeb907d3b93b6e0e5",
    "execution": {
     "iopub.execute_input": "2021-04-26T00:16:47.494248Z",
     "iopub.status.busy": "2021-04-26T00:16:47.493510Z",
     "iopub.status.idle": "2021-04-26T00:16:47.581088Z",
     "shell.execute_reply": "2021-04-26T00:16:47.580486Z"
    },
    "papermill": {
     "duration": 0.10152,
     "end_time": "2021-04-26T00:16:47.581229",
     "exception": false,
     "start_time": "2021-04-26T00:16:47.479709",
     "status": "completed"
    },
    "tags": []
   },
   "outputs": [
    {
     "data": {
      "text/html": [
       "<div>\n",
       "<style scoped>\n",
       "    .dataframe tbody tr th:only-of-type {\n",
       "        vertical-align: middle;\n",
       "    }\n",
       "\n",
       "    .dataframe tbody tr th {\n",
       "        vertical-align: top;\n",
       "    }\n",
       "\n",
       "    .dataframe thead th {\n",
       "        text-align: right;\n",
       "    }\n",
       "</style>\n",
       "<table border=\"1\" class=\"dataframe\">\n",
       "  <thead>\n",
       "    <tr style=\"text-align: right;\">\n",
       "      <th></th>\n",
       "      <th>Input1</th>\n",
       "      <th>Output</th>\n",
       "    </tr>\n",
       "  </thead>\n",
       "  <tbody>\n",
       "    <tr>\n",
       "      <th>0</th>\n",
       "      <td>0.000000</td>\n",
       "      <td>0.037112</td>\n",
       "    </tr>\n",
       "    <tr>\n",
       "      <th>1</th>\n",
       "      <td>0.001257</td>\n",
       "      <td>0.005684</td>\n",
       "    </tr>\n",
       "    <tr>\n",
       "      <th>2</th>\n",
       "      <td>0.002513</td>\n",
       "      <td>-0.017941</td>\n",
       "    </tr>\n",
       "    <tr>\n",
       "      <th>3</th>\n",
       "      <td>0.003770</td>\n",
       "      <td>0.020993</td>\n",
       "    </tr>\n",
       "    <tr>\n",
       "      <th>4</th>\n",
       "      <td>0.005027</td>\n",
       "      <td>-0.016084</td>\n",
       "    </tr>\n",
       "  </tbody>\n",
       "</table>\n",
       "</div>"
      ],
      "text/plain": [
       "     Input1    Output\n",
       "0  0.000000  0.037112\n",
       "1  0.001257  0.005684\n",
       "2  0.002513 -0.017941\n",
       "3  0.003770  0.020993\n",
       "4  0.005027 -0.016084"
      ]
     },
     "execution_count": 1,
     "metadata": {},
     "output_type": "execute_result"
    }
   ],
   "source": [
    "train_csv_path = '../input/toy-dataset-for-regression-and-uq/Data1_Train.csv'\n",
    "test_csv_path = '../input/toy-dataset-for-regression-and-uq/Data1_Test.csv'\n",
    "val_csv_path = '../input/toy-dataset-for-regression-and-uq/Data1_Val.csv'\n",
    "\n",
    "\n",
    "\n",
    "import pandas as pd\n",
    "train_df = pd.read_csv(train_csv_path)\n",
    "val_df = pd.read_csv(val_csv_path)\n",
    "train_df.head()"
   ]
  },
  {
   "cell_type": "code",
   "execution_count": 2,
   "id": "atmospheric-grove",
   "metadata": {
    "execution": {
     "iopub.execute_input": "2021-04-26T00:16:47.606820Z",
     "iopub.status.busy": "2021-04-26T00:16:47.601410Z",
     "iopub.status.idle": "2021-04-26T00:16:51.331586Z",
     "shell.execute_reply": "2021-04-26T00:16:51.331135Z"
    },
    "papermill": {
     "duration": 3.744668,
     "end_time": "2021-04-26T00:16:51.331720",
     "exception": false,
     "start_time": "2021-04-26T00:16:47.587052",
     "status": "completed"
    },
    "tags": []
   },
   "outputs": [
    {
     "name": "stdout",
     "output_type": "stream",
     "text": [
      "1\n",
      "tensor(1.0487) tensor(-1.0480) tensor([6.2819]) tensor([0.])\n",
      "tensor([6.2819]) tensor(2.0967)\n"
     ]
    }
   ],
   "source": [
    "input_=[]\n",
    "output_=[]\n",
    "for row in train_df.iloc:\n",
    "    input_.append((row[0:len(row)-1]).astype(float))\n",
    "    output_.append(row[-1])\n",
    "    \n",
    "i_val=[]\n",
    "o_val=[]\n",
    "for row in val_df.iloc:\n",
    "    i_val.append((row[0:len(row)-1]).astype(float))\n",
    "    o_val.append(row[-1])\n",
    "    \n",
    "num_input = len(row)-1;\n",
    "print(num_input)\n",
    "\n",
    "####################################################\n",
    "#\n",
    "# This code is written with the help of the demo:\n",
    "# https://medium.com/@benjamin.phillips22/simple-regression-with-neural-networks-in-pytorch-313f06910379\n",
    "#\n",
    "####################################################\n",
    "import torch\n",
    "from torch.autograd import Variable\n",
    "import torch.nn.functional as F\n",
    "import torch.utils.data as Data\n",
    "\n",
    "import matplotlib.pyplot as plt\n",
    "%matplotlib inline\n",
    "\n",
    "import numpy as np\n",
    "import imageio\n",
    "\n",
    "\n",
    "torch.manual_seed(1)    # reproducible\n",
    "\n",
    "x = torch.tensor(input_).float()  \n",
    "y = torch.tensor(output_).float()   \n",
    "new_shape = (len(y), 1)\n",
    "y = y.view(new_shape)\n",
    "\n",
    "\n",
    "i_val = torch.tensor(i_val).float()  \n",
    "o_val = torch.tensor(o_val).float()   \n",
    "new_shape = (len(o_val), 1)\n",
    "o_val = o_val.view(new_shape)\n",
    "\n",
    "\n",
    "\n",
    "max_y = torch.max(y[:,0])\n",
    "min_y =torch.min(y[:,0])\n",
    "\n",
    "max_x = torch.max(x,dim=0)\n",
    "min_x = torch.min(x,dim=0)\n",
    "\n",
    "print(max_y, min_y, max_x.values, min_x.values)\n",
    "\n",
    "range_y = max_y - min_y\n",
    "range_x = max_x.values - min_x.values\n",
    "\n",
    "print(range_x, range_y)\n",
    "\n",
    "    #Normalizing\n",
    "x = (x - min_x.values)/range_x\n",
    "y = (y - min_y)/range_y\n",
    "\n",
    "    #Normalizing\n",
    "i_val = (i_val - min_x.values)/range_x\n",
    "o_val = (o_val - min_y)/range_y"
   ]
  },
  {
   "cell_type": "code",
   "execution_count": 3,
   "id": "surprised-calvin",
   "metadata": {
    "execution": {
     "iopub.execute_input": "2021-04-26T00:16:51.353295Z",
     "iopub.status.busy": "2021-04-26T00:16:51.352799Z",
     "iopub.status.idle": "2021-04-26T00:19:30.242695Z",
     "shell.execute_reply": "2021-04-26T00:19:30.243105Z"
    },
    "papermill": {
     "duration": 158.905491,
     "end_time": "2021-04-26T00:19:30.243254",
     "exception": false,
     "start_time": "2021-04-26T00:16:51.337763",
     "status": "completed"
    },
    "tags": []
   },
   "outputs": [
    {
     "name": "stdout",
     "output_type": "stream",
     "text": [
      "Net(\n",
      "  (hidden): Linear(in_features=1, out_features=300, bias=True)\n",
      "  (hidden2): Linear(in_features=300, out_features=300, bias=True)\n",
      "  (predict): Linear(in_features=300, out_features=1, bias=True)\n",
      ")\n",
      "Epoch [200/2000], Loss: 0.0041, Minimum Loss 0.004070, Val Loss 0.003548  \n",
      "Epoch [400/2000], Loss: 0.0012, Minimum Loss 0.001230, Val Loss 0.001213  \n",
      "Epoch [600/2000], Loss: 0.0009, Minimum Loss 0.000565, Val Loss 0.000533  \n",
      "Epoch [800/2000], Loss: 0.0009, Minimum Loss 0.000372, Val Loss 0.000533  \n",
      "Epoch [1000/2000], Loss: 0.0042, Minimum Loss 0.000326, Val Loss 0.000533  \n",
      "Epoch [1200/2000], Loss: 0.0011, Minimum Loss 0.000292, Val Loss 0.000434  \n",
      "Epoch [1400/2000], Loss: 0.0003, Minimum Loss 0.000267, Val Loss 0.000285  \n",
      "Epoch [1600/2000], Loss: 0.0024, Minimum Loss 0.000253, Val Loss 0.000285  \n",
      "Epoch [1800/2000], Loss: 0.0002, Minimum Loss 0.000242, Val Loss 0.000232  \n",
      "Epoch [2000/2000], Loss: 0.0002, Minimum Loss 0.000237, Val Loss 0.000232  \n"
     ]
    }
   ],
   "source": [
    "# torch can only train on Variable, so convert them to Variable\n",
    "x, y = Variable(x), Variable(y)\n",
    " \n",
    "class Net(torch.nn.Module):\n",
    "    def __init__(self, n_feature, n_hidden, n_output):\n",
    "        super(Net, self).__init__()\n",
    "        self.hidden = torch.nn.Linear(n_feature, n_hidden)   # hidden layer\n",
    "        self.hidden2 = torch.nn.Linear(n_hidden, n_hidden)   # hidden layer\n",
    "        self.predict = torch.nn.Linear(n_hidden, n_output)   # output layer\n",
    "\n",
    "    def forward(self, x):\n",
    "        x = F.relu(self.hidden(x))      # activation function for hidden layer\n",
    "        x = F.relu(self.hidden2(x))\n",
    "        x = self.predict(x)             # linear output\n",
    "        return x\n",
    "\n",
    "# use the same net as before      \n",
    "net = Net(n_feature=num_input, n_hidden=300, n_output=1)     # define the network\n",
    "print(net)  # net architecture\n",
    "optimizer = torch.optim.Adam(net.parameters(), lr=0.05)\n",
    "loss_func = torch.nn.MSELoss()  # this is for regression mean squared loss\n",
    "\n",
    "\n",
    "minimum_train_loss = 1e5\n",
    "minimum_val_loss = 1e5\n",
    "EPOCH = 2000\n",
    "\n",
    "# start training\n",
    "for epoch in range(EPOCH):\n",
    "  \n",
    "    prediction = net(x)     # input x and predict based on x\n",
    "\n",
    "    loss = loss_func(prediction, y)     # must be (1. nn output, 2. target)\n",
    "\n",
    "    optimizer.zero_grad()   # clear gradients for next train\n",
    "    loss.backward()         # backpropagation, compute gradients\n",
    "    optimizer.step()        # apply gradients\n",
    "    \n",
    "    if loss<minimum_train_loss:\n",
    "        minimum_train_loss =loss\n",
    "        net_opt = net\n",
    "    \n",
    "    if epoch%200 == 199:\n",
    "      prediction = net_opt(i_val)\n",
    "      loss_val = loss_func(prediction, o_val)\n",
    "      if loss_val<minimum_val_loss:\n",
    "        minimum_val_loss = loss_val\n",
    "        net_opt_val = net_opt\n",
    "      print (\"Epoch [{}/{}], Loss: {:.4f}, Minimum Loss {:.6f}, Val Loss {:.6f}  \"  .format(epoch+1, EPOCH, loss, minimum_train_loss, minimum_val_loss))"
   ]
  },
  {
   "cell_type": "code",
   "execution_count": 4,
   "id": "false-violation",
   "metadata": {
    "execution": {
     "iopub.execute_input": "2021-04-26T00:19:30.268924Z",
     "iopub.status.busy": "2021-04-26T00:19:30.268376Z",
     "iopub.status.idle": "2021-04-26T00:19:30.725363Z",
     "shell.execute_reply": "2021-04-26T00:19:30.724779Z"
    },
    "papermill": {
     "duration": 0.473308,
     "end_time": "2021-04-26T00:19:30.725501",
     "exception": false,
     "start_time": "2021-04-26T00:19:30.252193",
     "status": "completed"
    },
    "tags": []
   },
   "outputs": [
    {
     "name": "stdout",
     "output_type": "stream",
     "text": [
      "Normalized Test Loss 0.00023627802\n",
      "Test Loss 0.001038707\n"
     ]
    }
   ],
   "source": [
    "test_df = pd.read_csv(test_csv_path)\n",
    "\n",
    "i_test=[]\n",
    "o_test=[]\n",
    "for row in val_df.iloc:\n",
    "    i_test.append((row[0:len(row)-1]).astype(float))\n",
    "    o_test.append(row[-1])\n",
    "\n",
    "\n",
    "   \n",
    "i_test, o_test = Variable(torch.tensor(i_test)).float(), Variable(torch.tensor(o_test).float())\n",
    "new_shape = (len(o_test), 1)\n",
    "o_test = o_test.view(new_shape)\n",
    "\n",
    "    #Normalizing\n",
    "i_test = (i_test - min_x.values)/range_x\n",
    "o_test = (o_test - min_y)/range_y\n",
    "\n",
    "prediction = net_opt_val(i_test)\n",
    "loss_test = loss_func(prediction, o_test)\n",
    "\n",
    "print(\"Normalized Test Loss\",loss_test.detach().numpy())\n",
    "\n",
    "loss_test = loss_test*range_y*range_y # As the loss function returns MSE\n",
    "\n",
    "print(\"Test Loss\",loss_test.detach().numpy())\n",
    "\n"
   ]
  },
  {
   "cell_type": "code",
   "execution_count": 5,
   "id": "personalized-effectiveness",
   "metadata": {
    "execution": {
     "iopub.execute_input": "2021-04-26T00:19:30.752301Z",
     "iopub.status.busy": "2021-04-26T00:19:30.751717Z",
     "iopub.status.idle": "2021-04-26T00:19:30.759038Z",
     "shell.execute_reply": "2021-04-26T00:19:30.758450Z"
    },
    "papermill": {
     "duration": 0.023115,
     "end_time": "2021-04-26T00:19:30.759163",
     "exception": false,
     "start_time": "2021-04-26T00:19:30.736048",
     "status": "completed"
    },
    "tags": []
   },
   "outputs": [],
   "source": [
    "import math\n",
    "standard_deviation = math.sqrt(minimum_val_loss)\n",
    "z_95 = 1.96*standard_deviation\n",
    "LB = prediction.detach().numpy() - z_95\n",
    "UB = prediction.detach().numpy() + z_95\n",
    "o_test = o_test.detach().numpy()\n",
    "\n",
    "\n",
    "#Denormalization\n",
    "i_test = i_test*range_x + min_x.values\n",
    "o_test = o_test*range_y.detach().numpy() + min_y.detach().numpy()\n",
    "LB = LB*range_y.detach().numpy() + min_y.detach().numpy()\n",
    "UB = UB*range_y.detach().numpy() + min_y.detach().numpy()\n",
    "prediction = prediction*range_y + min_y"
   ]
  },
  {
   "cell_type": "code",
   "execution_count": 6,
   "id": "executive-baker",
   "metadata": {
    "execution": {
     "iopub.execute_input": "2021-04-26T00:19:30.805019Z",
     "iopub.status.busy": "2021-04-26T00:19:30.788964Z",
     "iopub.status.idle": "2021-04-26T00:19:31.054767Z",
     "shell.execute_reply": "2021-04-26T00:19:31.054145Z"
    },
    "papermill": {
     "duration": 0.284662,
     "end_time": "2021-04-26T00:19:31.054928",
     "exception": false,
     "start_time": "2021-04-26T00:19:30.770266",
     "status": "completed"
    },
    "tags": []
   },
   "outputs": [
    {
     "data": {
      "image/png": "[encoded data removed]",
      "text/plain": [
       "<Figure size 432x288 with 1 Axes>"
      ]
     },
     "metadata": {
      "needs_background": "light"
     },
     "output_type": "display_data"
    },
    {
     "name": "stdout",
     "output_type": "stream",
     "text": [
      "PINAW: 0.059843724682155354   PINC: 0.9685   PINAFD: 0.002963611035432458\n"
     ]
    }
   ],
   "source": [
    "\n",
    "\n",
    "\n",
    "fig, (ax1) = plt.subplots(1, 1)\n",
    "\n",
    "ax1.set(xlabel=\"Input (X1, Arbitrary Unit)\", ylabel=\"Target and Predictions (Arbitrary Unit)\", ylim = (-1.1, 1.1), xlim = (0, 6))\n",
    "plt.rcParams[\"figure.figsize\"] = (6,5)\n",
    "\n",
    "ax1.plot(i_test[:,0], prediction.detach().numpy(), color='r', linewidth=2, label='Point Prediction')\n",
    "ax1.plot(i_test[:,0], LB, color='g', linewidth=2, label='Prediction Interval')\n",
    "ax1.scatter(i_test[:,0], o_test, color='b',s=1, label='Target')\n",
    "ax1.plot(i_test[:,0], UB, linewidth=2, color='g')\n",
    "\n",
    "leg = ax1.legend(frameon=False, loc='lower left', bbox_to_anchor=(0.45,0));\n",
    "\n",
    "plt.show()\n",
    "\n",
    "\n",
    "\n",
    "\n",
    "PINAW = np.sum(UB-LB)/len(UB)/(np.max(o_test)-np.min(o_test)) \n",
    "# here PINAW= 2*z_95\n",
    "\n",
    "\n",
    "PINC = 0\n",
    "PINAFD =0\n",
    "for iter1 in range(len(UB)):\n",
    "    if UB[iter1]>o_test[iter1] and LB[iter1]<o_test[iter1]:\n",
    "        PINC = PINC+1\n",
    "    else:\n",
    "        PINAFD = PINAFD + np.min([np.abs(UB[iter1]-o_test[iter1]), np.abs(LB[iter1]<o_test[iter1])]) \n",
    "        # PINAFD distance from the nearest interval\n",
    "\n",
    "\n",
    "if PINAFD>0:\n",
    "    PINAFD = PINAFD/(len(UB) - PINC)/(np.max(o_test)-np.min(o_test))         \n",
    "\n",
    "PINC = PINC/len(UB)\n",
    "\n",
    "print(\"PINAW:\",PINAW, \"  PINC:\", PINC, \"  PINAFD:\", PINAFD) \n"
   ]
  }
 ],
 "metadata": {
  "kernelspec": {
   "display_name": "Python 3",
   "language": "python",
   "name": "python3"
  },
  "language_info": {
   "codemirror_mode": {
    "name": "ipython",
    "version": 3
   },
   "file_extension": ".py",
   "mimetype": "text/x-python",
   "name": "python",
   "nbconvert_exporter": "python",
   "pygments_lexer": "ipython3",
   "version": "3.7.9"
  },
  "papermill": {
   "default_parameters": {},
   "duration": 171.510731,
   "end_time": "2021-04-26T00:19:31.884481",
   "environment_variables": {},
   "exception": null,
   "input_path": "__notebook__.ipynb",
   "output_path": "__notebook__.ipynb",
   "parameters": {},
   "start_time": "2021-04-26T00:16:40.373750",
   "version": "2.3.2"
  }
 },
 "nbformat": 4,
 "nbformat_minor": 5
}
