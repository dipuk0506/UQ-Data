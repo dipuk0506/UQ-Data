{
 "cells": [
  {
   "cell_type": "markdown",
   "id": "cda7b891",
   "metadata": {
    "papermill": {
     "duration": 0.0124,
     "end_time": "2021-07-26T03:23:40.946741",
     "exception": false,
     "start_time": "2021-07-26T03:23:40.934341",
     "status": "completed"
    },
    "tags": []
   },
   "source": [
    "# Random Vector Functional Link (RVFL)\n",
    "\n",
    "The dataset is also available at: https://github.com/dipuk0506/UQ-Data"
   ]
  },
  {
   "cell_type": "markdown",
   "id": "06e3a62d",
   "metadata": {
    "papermill": {
     "duration": 0.010966,
     "end_time": "2021-07-26T03:23:40.969584",
     "exception": false,
     "start_time": "2021-07-26T03:23:40.958618",
     "status": "completed"
    },
    "tags": []
   },
   "source": [
    "## Loading CSV files"
   ]
  },
  {
   "cell_type": "code",
   "execution_count": 1,
   "id": "6479e81d",
   "metadata": {
    "execution": {
     "iopub.execute_input": "2021-07-26T03:23:41.007625Z",
     "iopub.status.busy": "2021-07-26T03:23:41.006901Z",
     "iopub.status.idle": "2021-07-26T03:23:42.339255Z",
     "shell.execute_reply": "2021-07-26T03:23:42.339801Z",
     "shell.execute_reply.started": "2021-07-26T03:22:42.144759Z"
    },
    "papermill": {
     "duration": 1.35927,
     "end_time": "2021-07-26T03:23:42.340156",
     "exception": false,
     "start_time": "2021-07-26T03:23:40.980886",
     "status": "completed"
    },
    "tags": []
   },
   "outputs": [
    {
     "data": {
      "text/html": [
       "<div>\n",
       "<style scoped>\n",
       "    .dataframe tbody tr th:only-of-type {\n",
       "        vertical-align: middle;\n",
       "    }\n",
       "\n",
       "    .dataframe tbody tr th {\n",
       "        vertical-align: top;\n",
       "    }\n",
       "\n",
       "    .dataframe thead th {\n",
       "        text-align: right;\n",
       "    }\n",
       "</style>\n",
       "<table border=\"1\" class=\"dataframe\">\n",
       "  <thead>\n",
       "    <tr style=\"text-align: right;\">\n",
       "      <th></th>\n",
       "      <th>Input1</th>\n",
       "      <th>Output</th>\n",
       "    </tr>\n",
       "  </thead>\n",
       "  <tbody>\n",
       "    <tr>\n",
       "      <th>0</th>\n",
       "      <td>-1.000000</td>\n",
       "      <td>-0.373270</td>\n",
       "    </tr>\n",
       "    <tr>\n",
       "      <th>1</th>\n",
       "      <td>-0.999733</td>\n",
       "      <td>-0.037757</td>\n",
       "    </tr>\n",
       "    <tr>\n",
       "      <th>2</th>\n",
       "      <td>-0.999467</td>\n",
       "      <td>-0.132093</td>\n",
       "    </tr>\n",
       "    <tr>\n",
       "      <th>3</th>\n",
       "      <td>-0.999200</td>\n",
       "      <td>-0.184022</td>\n",
       "    </tr>\n",
       "    <tr>\n",
       "      <th>4</th>\n",
       "      <td>-0.998933</td>\n",
       "      <td>-0.334794</td>\n",
       "    </tr>\n",
       "  </tbody>\n",
       "</table>\n",
       "</div>"
      ],
      "text/plain": [
       "     Input1    Output\n",
       "0 -1.000000 -0.373270\n",
       "1 -0.999733 -0.037757\n",
       "2 -0.999467 -0.132093\n",
       "3 -0.999200 -0.184022\n",
       "4 -0.998933 -0.334794"
      ]
     },
     "execution_count": 1,
     "metadata": {},
     "output_type": "execute_result"
    }
   ],
   "source": [
    "train_csv_path = '../input/toy-dataset-for-regression-and-uq/Data7_Train.csv'\n",
    "test_csv_path = '../input/toy-dataset-for-regression-and-uq/Data7_Test.csv'\n",
    "val_csv_path = '../input/toy-dataset-for-regression-and-uq/Data7_Val.csv'\n",
    "\n",
    "\n",
    "import pandas as pd\n",
    "import torch\n",
    "from torch.autograd import Variable\n",
    "import torch.nn.functional as F\n",
    "import torch.utils.data as Data\n",
    "\n",
    "import matplotlib.pyplot as plt\n",
    "%matplotlib inline\n",
    "\n",
    "import numpy as np\n",
    "import imageio\n",
    "import math\n",
    "\n",
    "\n",
    "train_df = pd.read_csv(train_csv_path)\n",
    "val_df = pd.read_csv(val_csv_path)\n",
    "train_df.head()"
   ]
  },
  {
   "cell_type": "markdown",
   "id": "4eba1999",
   "metadata": {
    "papermill": {
     "duration": 0.011168,
     "end_time": "2021-07-26T03:23:42.363285",
     "exception": false,
     "start_time": "2021-07-26T03:23:42.352117",
     "status": "completed"
    },
    "tags": []
   },
   "source": [
    "## Normalizing training and validation data"
   ]
  },
  {
   "cell_type": "code",
   "execution_count": 2,
   "id": "a43a5ae3",
   "metadata": {
    "execution": {
     "iopub.execute_input": "2021-07-26T03:23:43.961855Z",
     "iopub.status.busy": "2021-07-26T03:23:43.179254Z",
     "iopub.status.idle": "2021-07-26T03:23:44.178618Z",
     "shell.execute_reply": "2021-07-26T03:23:44.179081Z",
     "shell.execute_reply.started": "2021-07-26T03:22:42.176647Z"
    },
    "papermill": {
     "duration": 1.804232,
     "end_time": "2021-07-26T03:23:44.179297",
     "exception": false,
     "start_time": "2021-07-26T03:23:42.375065",
     "status": "completed"
    },
    "tags": []
   },
   "outputs": [
    {
     "name": "stdout",
     "output_type": "stream",
     "text": [
      "1\n",
      "tensor(1.2477) tensor(-1.2388) tensor([0.9997]) tensor([-1.])\n",
      "tensor([1.9997]) tensor(2.4865)\n"
     ]
    }
   ],
   "source": [
    "input_=[]\n",
    "output_=[]\n",
    "for row in train_df.iloc:\n",
    "    input_.append((row[0:len(row)-1]).astype(float))\n",
    "    output_.append(row[-1])\n",
    "    \n",
    "i_val=[]\n",
    "o_val=[]\n",
    "for row in val_df.iloc:\n",
    "    i_val.append((row[0:len(row)-1]).astype(float))\n",
    "    o_val.append(row[-1])\n",
    "    \n",
    "num_input = len(row)-1;\n",
    "print(num_input)\n",
    "\n",
    "\n",
    "torch.manual_seed(1)    # reproducible\n",
    "\n",
    "x = torch.tensor(input_).float()  \n",
    "y = torch.tensor(output_).float()   \n",
    "new_shape = (len(y), 1)\n",
    "y = y.view(new_shape)\n",
    "\n",
    "\n",
    "i_val = torch.tensor(i_val).float()  \n",
    "o_val = torch.tensor(o_val).float()   \n",
    "new_shape = (len(o_val), 1)\n",
    "o_val = o_val.view(new_shape)\n",
    "\n",
    "\n",
    "\n",
    "max_y = torch.max(y[:,0])\n",
    "min_y =torch.min(y[:,0])\n",
    "\n",
    "max_x = torch.max(x,dim=0)\n",
    "min_x = torch.min(x,dim=0)\n",
    "\n",
    "print(max_y, min_y, max_x.values, min_x.values)\n",
    "\n",
    "range_y = max_y - min_y\n",
    "range_x = max_x.values - min_x.values\n",
    "\n",
    "print(range_x, range_y)\n",
    "\n",
    "    #Normalizing\n",
    "x = (x - min_x.values)/range_x\n",
    "y = (y - min_y)/range_y\n",
    "\n",
    "    #Normalizing\n",
    "i_val = (i_val - min_x.values)/range_x\n",
    "o_val = (o_val - min_y)/range_y"
   ]
  },
  {
   "cell_type": "markdown",
   "id": "f42d99c5",
   "metadata": {
    "papermill": {
     "duration": 0.012155,
     "end_time": "2021-07-26T03:23:44.204006",
     "exception": false,
     "start_time": "2021-07-26T03:23:44.191851",
     "status": "completed"
    },
    "tags": []
   },
   "source": [
    "## RVFL Network"
   ]
  },
  {
   "cell_type": "code",
   "execution_count": 3,
   "id": "cd0e54d4",
   "metadata": {
    "execution": {
     "iopub.execute_input": "2021-07-26T03:23:44.240225Z",
     "iopub.status.busy": "2021-07-26T03:23:44.239476Z",
     "iopub.status.idle": "2021-07-26T03:23:44.374475Z",
     "shell.execute_reply": "2021-07-26T03:23:44.375007Z",
     "shell.execute_reply.started": "2021-07-26T03:22:43.792521Z"
    },
    "papermill": {
     "duration": 0.158356,
     "end_time": "2021-07-26T03:23:44.375215",
     "exception": false,
     "start_time": "2021-07-26T03:23:44.216859",
     "status": "completed"
    },
    "tags": []
   },
   "outputs": [
    {
     "name": "stdout",
     "output_type": "stream",
     "text": [
      "torch.Size([1, 1000])\n",
      "torch.Size([5000, 1])\n",
      "torch.Size([5000, 1000])\n",
      "torch.Size([5000, 1001])\n",
      "Linear(in_features=1001, out_features=1, bias=True)\n"
     ]
    }
   ],
   "source": [
    "# torch can only train on Variable, so convert them to Variable\n",
    "x, y = Variable(x), Variable(y)\n",
    "\n",
    "# Make RVFL code Here\n",
    "num_RVFL_HL = 1000\n",
    "# num_input by num_RVFL_HL sized weight matrix\n",
    "Const_Weight_RVFL = torch.rand((num_input,num_RVFL_HL))-.5\n",
    "print(Const_Weight_RVFL.shape)\n",
    "# num_RVFL_HL by 1 sized hidden bias\n",
    "Const_bias_RVFL = torch.rand((1,num_RVFL_HL))-.5\n",
    "\n",
    "print(x.shape)\n",
    "x2=F.relu(torch.matmul(x,Const_Weight_RVFL) + Const_bias_RVFL)\n",
    "print(x2.shape)\n",
    "x_RVFL = torch.cat([x,x2],1)\n",
    "print(x_RVFL.shape)\n",
    "\n",
    "\n",
    "i_val2 = F.relu(torch.matmul(i_val,Const_Weight_RVFL) + Const_bias_RVFL)\n",
    "i_val_RVFL = torch.cat([i_val,i_val2],1)\n",
    "\n",
    "\n",
    "#Connection to output layer\n",
    "NN_out = torch.nn.Linear(num_input+num_RVFL_HL, 1)\n",
    "\n",
    "\n",
    "# use the same net as before      \n",
    "net = NN_out     # define the network\n",
    "print(net)  # net architecture\n",
    "optimizer = torch.optim.Adam(net.parameters(), lr=0.05)\n",
    "loss_func = torch.nn.MSELoss()  # this is for regression mean squared loss"
   ]
  },
  {
   "cell_type": "markdown",
   "id": "94195edd",
   "metadata": {
    "papermill": {
     "duration": 0.012579,
     "end_time": "2021-07-26T03:23:44.400931",
     "exception": false,
     "start_time": "2021-07-26T03:23:44.388352",
     "status": "completed"
    },
    "tags": []
   },
   "source": [
    "## Network Training"
   ]
  },
  {
   "cell_type": "code",
   "execution_count": 4,
   "id": "066578f3",
   "metadata": {
    "execution": {
     "iopub.execute_input": "2021-07-26T03:23:44.436231Z",
     "iopub.status.busy": "2021-07-26T03:23:44.435486Z",
     "iopub.status.idle": "2021-07-26T03:23:48.077327Z",
     "shell.execute_reply": "2021-07-26T03:23:48.077865Z",
     "shell.execute_reply.started": "2021-07-26T03:22:43.856607Z"
    },
    "papermill": {
     "duration": 3.663631,
     "end_time": "2021-07-26T03:23:48.078084",
     "exception": false,
     "start_time": "2021-07-26T03:23:44.414453",
     "status": "completed"
    },
    "tags": []
   },
   "outputs": [
    {
     "name": "stdout",
     "output_type": "stream",
     "text": [
      "Epoch [200/2000], Loss: 0.0398, Minimum Loss 0.039821, Val Loss 0.061555  \n",
      "Epoch [400/2000], Loss: 0.0267, Minimum Loss 0.026678, Val Loss 0.044833  \n",
      "Epoch [600/2000], Loss: 0.0181, Minimum Loss 0.018135, Val Loss 0.030207  \n",
      "Epoch [800/2000], Loss: 0.0129, Minimum Loss 0.012853, Val Loss 0.020644  \n",
      "Epoch [1000/2000], Loss: 0.0096, Minimum Loss 0.009581, Val Loss 0.014748  \n",
      "Epoch [1200/2000], Loss: 0.0075, Minimum Loss 0.007510, Val Loss 0.011069  \n",
      "Epoch [1400/2000], Loss: 0.0062, Minimum Loss 0.006190, Val Loss 0.008723  \n",
      "Epoch [1600/2000], Loss: 0.0053, Minimum Loss 0.005343, Val Loss 0.007192  \n",
      "Epoch [1800/2000], Loss: 0.0048, Minimum Loss 0.004786, Val Loss 0.006166  \n",
      "Epoch [2000/2000], Loss: 0.0044, Minimum Loss 0.004449, Val Loss 0.005526  \n"
     ]
    }
   ],
   "source": [
    "#initial values. These values will be replaced with smaller values\n",
    "minimum_train_loss = 1e5\n",
    "minimum_val_loss = 1e5\n",
    "EPOCH = 2000\n",
    "\n",
    "# start training\n",
    "for epoch in range(EPOCH):\n",
    "  \n",
    "    prediction = net(x_RVFL)     # input x and predict based on x\n",
    "\n",
    "    loss = loss_func(prediction, y)     # must be (1. nn output, 2. target)\n",
    "\n",
    "    optimizer.zero_grad()   # clear gradients for next train\n",
    "    loss.backward()         # backpropagation, compute gradients\n",
    "    optimizer.step()        # apply gradients\n",
    "    \n",
    "    if loss<minimum_train_loss:\n",
    "        minimum_train_loss =loss\n",
    "        net_opt = net\n",
    "    \n",
    "    if epoch%200 == 199:\n",
    "      prediction = net_opt(i_val_RVFL)\n",
    "      loss_val = loss_func(prediction, o_val)\n",
    "      if loss_val<minimum_val_loss:\n",
    "        minimum_val_loss = loss_val\n",
    "        net_opt_val = net_opt\n",
    "      print (\"Epoch [{}/{}], Loss: {:.4f}, Minimum Loss {:.6f}, Val Loss {:.6f}  \"  .format(epoch+1, EPOCH, loss, minimum_train_loss, minimum_val_loss))"
   ]
  },
  {
   "cell_type": "markdown",
   "id": "d14a4bf5",
   "metadata": {
    "papermill": {
     "duration": 0.015754,
     "end_time": "2021-07-26T03:23:48.112576",
     "exception": false,
     "start_time": "2021-07-26T03:23:48.096822",
     "status": "completed"
    },
    "tags": []
   },
   "source": [
    "## Network on Test Data"
   ]
  },
  {
   "cell_type": "code",
   "execution_count": 5,
   "id": "563a99a4",
   "metadata": {
    "execution": {
     "iopub.execute_input": "2021-07-26T03:23:48.155325Z",
     "iopub.status.busy": "2021-07-26T03:23:48.154615Z",
     "iopub.status.idle": "2021-07-26T03:23:48.827673Z",
     "shell.execute_reply": "2021-07-26T03:23:48.827049Z",
     "shell.execute_reply.started": "2021-07-26T03:22:48.041719Z"
    },
    "papermill": {
     "duration": 0.699059,
     "end_time": "2021-07-26T03:23:48.827847",
     "exception": false,
     "start_time": "2021-07-26T03:23:48.128788",
     "status": "completed"
    },
    "tags": []
   },
   "outputs": [
    {
     "name": "stdout",
     "output_type": "stream",
     "text": [
      "Normalized Test Loss 0.005525531\n",
      "Test Loss 0.034162924\n"
     ]
    }
   ],
   "source": [
    "test_df = pd.read_csv(test_csv_path)\n",
    "\n",
    "i_test=[]\n",
    "o_test=[]\n",
    "for row in val_df.iloc:\n",
    "    i_test.append((row[0:len(row)-1]).astype(float))\n",
    "    o_test.append(row[-1])\n",
    "\n",
    "\n",
    "   \n",
    "i_test, o_test = Variable(torch.tensor(i_test)).float(), Variable(torch.tensor(o_test).float())\n",
    "new_shape = (len(o_test), 1)\n",
    "o_test = o_test.view(new_shape)\n",
    "\n",
    "    #Normalizing\n",
    "i_test = (i_test - min_x.values)/range_x\n",
    "o_test = (o_test - min_y)/range_y\n",
    "\n",
    "i_test2 = F.relu(torch.matmul(i_test,Const_Weight_RVFL) + Const_bias_RVFL)\n",
    "i_test_RVFL = torch.cat([i_test,i_test2],1)\n",
    "prediction = net_opt_val(i_test_RVFL)\n",
    "\n",
    "loss_test = loss_func(prediction, o_test)\n",
    "\n",
    "print(\"Normalized Test Loss\",loss_test.detach().numpy())\n",
    "\n",
    "loss_test = loss_test*range_y*range_y # As the loss function returns MSE\n",
    "\n",
    "print(\"Test Loss\",loss_test.detach().numpy())"
   ]
  },
  {
   "cell_type": "markdown",
   "id": "9351a594",
   "metadata": {
    "papermill": {
     "duration": 0.016311,
     "end_time": "2021-07-26T03:23:48.860797",
     "exception": false,
     "start_time": "2021-07-26T03:23:48.844486",
     "status": "completed"
    },
    "tags": []
   },
   "source": [
    "## Denormalization"
   ]
  },
  {
   "cell_type": "code",
   "execution_count": 6,
   "id": "6d21522d",
   "metadata": {
    "execution": {
     "iopub.execute_input": "2021-07-26T03:23:48.903577Z",
     "iopub.status.busy": "2021-07-26T03:23:48.902764Z",
     "iopub.status.idle": "2021-07-26T03:23:48.907159Z",
     "shell.execute_reply": "2021-07-26T03:23:48.906627Z",
     "shell.execute_reply.started": "2021-07-26T03:22:48.520508Z"
    },
    "papermill": {
     "duration": 0.029878,
     "end_time": "2021-07-26T03:23:48.907313",
     "exception": false,
     "start_time": "2021-07-26T03:23:48.877435",
     "status": "completed"
    },
    "tags": []
   },
   "outputs": [],
   "source": [
    "standard_deviation = math.sqrt(minimum_val_loss)\n",
    "z_95 = 1.96*standard_deviation\n",
    "LB = prediction.detach().numpy() - z_95\n",
    "UB = prediction.detach().numpy() + z_95\n",
    "o_test = o_test.detach().numpy()\n",
    "\n",
    "\n",
    "#Denormalization\n",
    "i_test = i_test*range_x + min_x.values\n",
    "o_test = o_test*range_y.detach().numpy() + min_y.detach().numpy()\n",
    "LB = LB*range_y.detach().numpy() + min_y.detach().numpy()\n",
    "UB = UB*range_y.detach().numpy() + min_y.detach().numpy()\n",
    "prediction = prediction*range_y + min_y"
   ]
  },
  {
   "cell_type": "markdown",
   "id": "28d7b843",
   "metadata": {
    "papermill": {
     "duration": 0.01617,
     "end_time": "2021-07-26T03:23:48.940240",
     "exception": false,
     "start_time": "2021-07-26T03:23:48.924070",
     "status": "completed"
    },
    "tags": []
   },
   "source": [
    "## Plotting"
   ]
  },
  {
   "cell_type": "code",
   "execution_count": 7,
   "id": "9cf87e14",
   "metadata": {
    "execution": {
     "iopub.execute_input": "2021-07-26T03:23:48.990564Z",
     "iopub.status.busy": "2021-07-26T03:23:48.983709Z",
     "iopub.status.idle": "2021-07-26T03:23:49.328297Z",
     "shell.execute_reply": "2021-07-26T03:23:49.327632Z",
     "shell.execute_reply.started": "2021-07-26T03:22:48.530829Z"
    },
    "papermill": {
     "duration": 0.371383,
     "end_time": "2021-07-26T03:23:49.328449",
     "exception": false,
     "start_time": "2021-07-26T03:23:48.957066",
     "status": "completed"
    },
    "tags": []
   },
   "outputs": [
    {
     "name": "stdout",
     "output_type": "stream",
     "text": [
      "PINAW: 0.2930058795959864   PINC: 0.9545   PINAFD:  0.024747589663753764\n"
     ]
    },
    {
     "data": {
      "image/png": "[encoded data removed]",
      "text/plain": [
       "<Figure size 432x288 with 1 Axes>"
      ]
     },
     "metadata": {
      "needs_background": "light"
     },
     "output_type": "display_data"
    }
   ],
   "source": [
    "fig, (ax1) = plt.subplots(1, 1)\n",
    "\n",
    "ax1.set(xlabel=\"Input (X1, Arbitrary Unit)\", ylabel=\"Target and Predictions (Arbitrary Unit)\" , ylim = (-1.5, 1.8), xlim = (-1, 1))\n",
    "plt.rcParams[\"figure.figsize\"] = (6,5)\n",
    "\n",
    "ax1.plot(i_test[:,0], prediction.detach().numpy(), color='r', linewidth=2, label='Point Prediction')\n",
    "ax1.plot(i_test[:,0], LB, color='g', linewidth=2, label='Prediction Interval')\n",
    "ax1.scatter(i_test[:,0], o_test, color='b',s=.5, label='Target')\n",
    "ax1.plot(i_test[:,0], UB, linewidth=2, color='g')\n",
    "\n",
    "leg = ax1.legend(frameon=False, loc='lower left', bbox_to_anchor=(0.55,0.75));\n",
    "\n",
    "fig.show()\n",
    "\n",
    "\n",
    "\n",
    "\n",
    "PINAW = np.sum(UB-LB)/len(UB)/(np.max(o_test)-np.min(o_test)) \n",
    "# here PINAW= 2*z_95\n",
    "\n",
    "\n",
    "PINC = 0\n",
    "PINAFD =0\n",
    "for iter1 in range(len(UB)):\n",
    "    if UB[iter1]>=o_test[iter1] and LB[iter1]<=o_test[iter1]:\n",
    "        PINC = PINC+1\n",
    "    else:\n",
    "        PINAFD = PINAFD + np.min([np.abs(UB[iter1]-o_test[iter1]), np.abs(LB[iter1]<o_test[iter1])]) \n",
    "        # PINAFD distance from the nearest interval\n",
    "\n",
    "\n",
    "if PINAFD>0:\n",
    "    PINAFD = PINAFD/(len(UB) - PINC)/(np.max(o_test)-np.min(o_test))         \n",
    "\n",
    "PINC = PINC/len(UB)\n",
    "\n",
    "print(\"PINAW:\",PINAW, \"  PINC:\", PINC, \"  PINAFD: \", PINAFD) "
   ]
  }
 ],
 "metadata": {
  "kernelspec": {
   "display_name": "Python 3",
   "language": "python",
   "name": "python3"
  },
  "language_info": {
   "codemirror_mode": {
    "name": "ipython",
    "version": 3
   },
   "file_extension": ".py",
   "mimetype": "text/x-python",
   "name": "python",
   "nbconvert_exporter": "python",
   "pygments_lexer": "ipython3",
   "version": "3.7.10"
  },
  "papermill": {
   "default_parameters": {},
   "duration": 17.653852,
   "end_time": "2021-07-26T03:23:50.360735",
   "environment_variables": {},
   "exception": null,
   "input_path": "__notebook__.ipynb",
   "output_path": "__notebook__.ipynb",
   "parameters": {},
   "start_time": "2021-07-26T03:23:32.706883",
   "version": "2.3.3"
  }
 },
 "nbformat": 4,
 "nbformat_minor": 5
}
