{
 "cells": [
  {
   "cell_type": "code",
   "execution_count": 1,
   "id": "limited-collaboration",
   "metadata": {
    "_cell_guid": "b1076dfc-b9ad-4769-8c92-a6c4dae69d19",
    "_uuid": "8f2839f25d086af736a60e9eeb907d3b93b6e0e5",
    "execution": {
     "iopub.execute_input": "2021-04-26T01:01:20.435392Z",
     "iopub.status.busy": "2021-04-26T01:01:20.433554Z",
     "iopub.status.idle": "2021-04-26T01:01:20.508177Z",
     "shell.execute_reply": "2021-04-26T01:01:20.508724Z"
    },
    "papermill": {
     "duration": 0.086868,
     "end_time": "2021-04-26T01:01:20.509060",
     "exception": false,
     "start_time": "2021-04-26T01:01:20.422192",
     "status": "completed"
    },
    "tags": []
   },
   "outputs": [
    {
     "data": {
      "text/html": [
       "<div>\n",
       "<style scoped>\n",
       "    .dataframe tbody tr th:only-of-type {\n",
       "        vertical-align: middle;\n",
       "    }\n",
       "\n",
       "    .dataframe tbody tr th {\n",
       "        vertical-align: top;\n",
       "    }\n",
       "\n",
       "    .dataframe thead th {\n",
       "        text-align: right;\n",
       "    }\n",
       "</style>\n",
       "<table border=\"1\" class=\"dataframe\">\n",
       "  <thead>\n",
       "    <tr style=\"text-align: right;\">\n",
       "      <th></th>\n",
       "      <th>Input1</th>\n",
       "      <th>Input2</th>\n",
       "      <th>Input3</th>\n",
       "      <th>Output</th>\n",
       "    </tr>\n",
       "  </thead>\n",
       "  <tbody>\n",
       "    <tr>\n",
       "      <th>0</th>\n",
       "      <td>2.006329</td>\n",
       "      <td>3.630961</td>\n",
       "      <td>1.641932</td>\n",
       "      <td>0.006329</td>\n",
       "    </tr>\n",
       "    <tr>\n",
       "      <th>1</th>\n",
       "      <td>1.870451</td>\n",
       "      <td>0.909980</td>\n",
       "      <td>1.831040</td>\n",
       "      <td>0.129549</td>\n",
       "    </tr>\n",
       "    <tr>\n",
       "      <th>2</th>\n",
       "      <td>0.095940</td>\n",
       "      <td>2.247507</td>\n",
       "      <td>1.954916</td>\n",
       "      <td>0.214289</td>\n",
       "    </tr>\n",
       "    <tr>\n",
       "      <th>3</th>\n",
       "      <td>0.228630</td>\n",
       "      <td>2.545430</td>\n",
       "      <td>0.829244</td>\n",
       "      <td>0.228630</td>\n",
       "    </tr>\n",
       "    <tr>\n",
       "      <th>4</th>\n",
       "      <td>0.159893</td>\n",
       "      <td>0.744155</td>\n",
       "      <td>1.786343</td>\n",
       "      <td>0.159893</td>\n",
       "    </tr>\n",
       "  </tbody>\n",
       "</table>\n",
       "</div>"
      ],
      "text/plain": [
       "     Input1    Input2    Input3    Output\n",
       "0  2.006329  3.630961  1.641932  0.006329\n",
       "1  1.870451  0.909980  1.831040  0.129549\n",
       "2  0.095940  2.247507  1.954916  0.214289\n",
       "3  0.228630  2.545430  0.829244  0.228630\n",
       "4  0.159893  0.744155  1.786343  0.159893"
      ]
     },
     "execution_count": 1,
     "metadata": {},
     "output_type": "execute_result"
    }
   ],
   "source": [
    "train_csv_path = '../input/toy-dataset-for-regression-and-uq/Data5_Train.csv'\n",
    "test_csv_path = '../input/toy-dataset-for-regression-and-uq/Data5_Test.csv'\n",
    "val_csv_path = '../input/toy-dataset-for-regression-and-uq/Data5_Val.csv'\n",
    "\n",
    "\n",
    "\n",
    "import pandas as pd\n",
    "train_df = pd.read_csv(train_csv_path)\n",
    "val_df = pd.read_csv(val_csv_path)\n",
    "train_df.head()"
   ]
  },
  {
   "cell_type": "code",
   "execution_count": 2,
   "id": "quantitative-sword",
   "metadata": {
    "execution": {
     "iopub.execute_input": "2021-04-26T01:01:20.527643Z",
     "iopub.status.busy": "2021-04-26T01:01:20.526654Z",
     "iopub.status.idle": "2021-04-26T01:01:23.642170Z",
     "shell.execute_reply": "2021-04-26T01:01:23.642816Z"
    },
    "papermill": {
     "duration": 3.126097,
     "end_time": "2021-04-26T01:01:23.643117",
     "exception": false,
     "start_time": "2021-04-26T01:01:20.517020",
     "status": "completed"
    },
    "tags": []
   },
   "outputs": [
    {
     "name": "stdout",
     "output_type": "stream",
     "text": [
      "3\n",
      "tensor(4.4512) tensor(0.0005) tensor([2.9994, 4.9996, 1.9994]) tensor([0.0002, 0.0012, 0.0009])\n",
      "tensor([2.9993, 4.9984, 1.9985]) tensor(4.4507)\n"
     ]
    }
   ],
   "source": [
    "input_=[]\n",
    "output_=[]\n",
    "for row in train_df.iloc:\n",
    "    input_.append((row[0:len(row)-1]).astype(float))\n",
    "    output_.append(row[-1])\n",
    "    \n",
    "i_val=[]\n",
    "o_val=[]\n",
    "for row in val_df.iloc:\n",
    "    i_val.append((row[0:len(row)-1]).astype(float))\n",
    "    o_val.append(row[-1])\n",
    "    \n",
    "num_input = len(row)-1;\n",
    "print(num_input)\n",
    "\n",
    "####################################################\n",
    "#\n",
    "# This code is written with the help of the demo:\n",
    "# https://medium.com/@benjamin.phillips22/simple-regression-with-neural-networks-in-pytorch-313f06910379\n",
    "#\n",
    "####################################################\n",
    "import torch\n",
    "from torch.autograd import Variable\n",
    "import torch.nn.functional as F\n",
    "import torch.utils.data as Data\n",
    "\n",
    "import matplotlib.pyplot as plt\n",
    "%matplotlib inline\n",
    "\n",
    "import numpy as np\n",
    "import imageio\n",
    "\n",
    "\n",
    "torch.manual_seed(1)    # reproducible\n",
    "\n",
    "x = torch.tensor(input_).float()  \n",
    "y = torch.tensor(output_).float()   \n",
    "new_shape = (len(y), 1)\n",
    "y = y.view(new_shape)\n",
    "\n",
    "\n",
    "i_val = torch.tensor(i_val).float()  \n",
    "o_val = torch.tensor(o_val).float()   \n",
    "new_shape = (len(o_val), 1)\n",
    "o_val = o_val.view(new_shape)\n",
    "\n",
    "\n",
    "\n",
    "max_y = torch.max(y[:,0])\n",
    "min_y =torch.min(y[:,0])\n",
    "\n",
    "max_x = torch.max(x,dim=0)\n",
    "min_x = torch.min(x,dim=0)\n",
    "\n",
    "print(max_y, min_y, max_x.values, min_x.values)\n",
    "\n",
    "range_y = max_y - min_y\n",
    "range_x = max_x.values - min_x.values\n",
    "\n",
    "print(range_x, range_y)\n",
    "\n",
    "    #Normalizing\n",
    "x = (x - min_x.values)/range_x\n",
    "y = (y - min_y)/range_y\n",
    "\n",
    "    #Normalizing\n",
    "i_val = (i_val - min_x.values)/range_x\n",
    "o_val = (o_val - min_y)/range_y"
   ]
  },
  {
   "cell_type": "code",
   "execution_count": 3,
   "id": "featured-welcome",
   "metadata": {
    "execution": {
     "iopub.execute_input": "2021-04-26T01:01:23.661756Z",
     "iopub.status.busy": "2021-04-26T01:01:23.660745Z",
     "iopub.status.idle": "2021-04-26T01:03:32.884467Z",
     "shell.execute_reply": "2021-04-26T01:03:32.885415Z"
    },
    "papermill": {
     "duration": 129.235324,
     "end_time": "2021-04-26T01:03:32.885739",
     "exception": false,
     "start_time": "2021-04-26T01:01:23.650415",
     "status": "completed"
    },
    "tags": []
   },
   "outputs": [
    {
     "name": "stdout",
     "output_type": "stream",
     "text": [
      "Net(\n",
      "  (hidden): Linear(in_features=3, out_features=500, bias=True)\n",
      "  (hidden2): Linear(in_features=500, out_features=500, bias=True)\n",
      "  (predict): Linear(in_features=500, out_features=1, bias=True)\n",
      ")\n",
      "Epoch [200/2000], Loss: 0.0584, Minimum Loss 0.058359, Val Loss 0.057645  \n",
      "Epoch [400/2000], Loss: 0.0571, Minimum Loss 0.056895, Val Loss 0.057645  \n",
      "Epoch [600/2000], Loss: 0.0561, Minimum Loss 0.055953, Val Loss 0.057362  \n",
      "Epoch [800/2000], Loss: 0.0563, Minimum Loss 0.054787, Val Loss 0.056740  \n",
      "Epoch [1000/2000], Loss: 0.0534, Minimum Loss 0.053353, Val Loss 0.055353  \n",
      "Epoch [1200/2000], Loss: 0.0512, Minimum Loss 0.051239, Val Loss 0.053730  \n",
      "Epoch [1400/2000], Loss: 0.0504, Minimum Loss 0.049833, Val Loss 0.053730  \n",
      "Epoch [1600/2000], Loss: 0.0495, Minimum Loss 0.048960, Val Loss 0.052722  \n",
      "Epoch [1800/2000], Loss: 0.0484, Minimum Loss 0.048260, Val Loss 0.052722  \n",
      "Epoch [2000/2000], Loss: 0.0485, Minimum Loss 0.047603, Val Loss 0.052002  \n"
     ]
    }
   ],
   "source": [
    "# torch can only train on Variable, so convert them to Variable\n",
    "x, y = Variable(x), Variable(y)\n",
    " \n",
    "class Net(torch.nn.Module):\n",
    "    def __init__(self, n_feature, n_hidden, n_output):\n",
    "        super(Net, self).__init__()\n",
    "        self.hidden = torch.nn.Linear(n_feature, n_hidden)   # hidden layer\n",
    "        self.hidden2 = torch.nn.Linear(n_hidden, n_hidden)   # hidden layer\n",
    "        self.predict = torch.nn.Linear(n_hidden, n_output)   # output layer\n",
    "\n",
    "    def forward(self, x):\n",
    "        x = F.relu(self.hidden(x))      # activation function for hidden layer\n",
    "        x = F.relu(self.hidden2(x))\n",
    "        x = self.predict(x)             # linear output\n",
    "        return x\n",
    "\n",
    "# use the same net as before      \n",
    "net = Net(n_feature=num_input, n_hidden=500, n_output=1)     # define the network\n",
    "print(net)  # net architecture\n",
    "optimizer = torch.optim.Adam(net.parameters(), lr=0.05)\n",
    "loss_func = torch.nn.MSELoss()  # this is for regression mean squared loss\n",
    "\n",
    "\n",
    "minimum_train_loss = 1e5\n",
    "minimum_val_loss = 1e5\n",
    "EPOCH = 2000\n",
    "\n",
    "# start training\n",
    "for epoch in range(EPOCH):\n",
    "  \n",
    "    prediction = net(x)     # input x and predict based on x\n",
    "\n",
    "    loss = loss_func(prediction, y)     # must be (1. nn output, 2. target)\n",
    "\n",
    "    optimizer.zero_grad()   # clear gradients for next train\n",
    "    loss.backward()         # backpropagation, compute gradients\n",
    "    optimizer.step()        # apply gradients\n",
    "    \n",
    "    if loss<minimum_train_loss:\n",
    "        minimum_train_loss =loss\n",
    "        net_opt = net\n",
    "    \n",
    "    if epoch%200 == 199:\n",
    "      prediction = net_opt(i_val)\n",
    "      loss_val = loss_func(prediction, o_val)\n",
    "      if loss_val<minimum_val_loss:\n",
    "        minimum_val_loss = loss_val\n",
    "        net_opt_val = net_opt\n",
    "      print (\"Epoch [{}/{}], Loss: {:.4f}, Minimum Loss {:.6f}, Val Loss {:.6f}  \"  .format(epoch+1, EPOCH, loss, minimum_train_loss, minimum_val_loss))"
   ]
  },
  {
   "cell_type": "code",
   "execution_count": 4,
   "id": "familiar-richmond",
   "metadata": {
    "execution": {
     "iopub.execute_input": "2021-04-26T01:03:32.914992Z",
     "iopub.status.busy": "2021-04-26T01:03:32.913902Z",
     "iopub.status.idle": "2021-04-26T01:03:33.430189Z",
     "shell.execute_reply": "2021-04-26T01:03:33.429538Z"
    },
    "papermill": {
     "duration": 0.532329,
     "end_time": "2021-04-26T01:03:33.430376",
     "exception": false,
     "start_time": "2021-04-26T01:03:32.898047",
     "status": "completed"
    },
    "tags": []
   },
   "outputs": [
    {
     "name": "stdout",
     "output_type": "stream",
     "text": [
      "Normalized Test Loss 0.052001655\n",
      "Test Loss 1.0300868\n"
     ]
    }
   ],
   "source": [
    "test_df = pd.read_csv(test_csv_path)\n",
    "\n",
    "i_test=[]\n",
    "o_test=[]\n",
    "for row in val_df.iloc:\n",
    "    i_test.append((row[0:len(row)-1]).astype(float))\n",
    "    o_test.append(row[-1])\n",
    "\n",
    "\n",
    "   \n",
    "i_test, o_test = Variable(torch.tensor(i_test)).float(), Variable(torch.tensor(o_test).float())\n",
    "new_shape = (len(o_test), 1)\n",
    "o_test = o_test.view(new_shape)\n",
    "\n",
    "    #Normalizing\n",
    "i_test = (i_test - min_x.values)/range_x\n",
    "o_test = (o_test - min_y)/range_y\n",
    "\n",
    "prediction = net_opt_val(i_test)\n",
    "loss_test = loss_func(prediction, o_test)\n",
    "\n",
    "print(\"Normalized Test Loss\",loss_test.detach().numpy())\n",
    "\n",
    "loss_test = loss_test*range_y*range_y # As the loss function returns MSE\n",
    "\n",
    "print(\"Test Loss\",loss_test.detach().numpy())\n",
    "\n"
   ]
  },
  {
   "cell_type": "code",
   "execution_count": 5,
   "id": "killing-effect",
   "metadata": {
    "execution": {
     "iopub.execute_input": "2021-04-26T01:03:33.463313Z",
     "iopub.status.busy": "2021-04-26T01:03:33.462582Z",
     "iopub.status.idle": "2021-04-26T01:03:33.466773Z",
     "shell.execute_reply": "2021-04-26T01:03:33.467292Z"
    },
    "papermill": {
     "duration": 0.024287,
     "end_time": "2021-04-26T01:03:33.467481",
     "exception": false,
     "start_time": "2021-04-26T01:03:33.443194",
     "status": "completed"
    },
    "tags": []
   },
   "outputs": [],
   "source": [
    "import math\n",
    "standard_deviation = math.sqrt(minimum_val_loss)\n",
    "z_95 = 1.96*standard_deviation\n",
    "LB = prediction.detach().numpy() - z_95\n",
    "UB = prediction.detach().numpy() + z_95\n",
    "o_test = o_test.detach().numpy()\n",
    "\n",
    "\n",
    "#Denormalization\n",
    "i_test = i_test*range_x + min_x.values\n",
    "o_test = o_test*range_y.detach().numpy() + min_y.detach().numpy()\n",
    "LB = LB*range_y.detach().numpy() + min_y.detach().numpy()\n",
    "UB = UB*range_y.detach().numpy() + min_y.detach().numpy()\n",
    "prediction = prediction*range_y + min_y"
   ]
  },
  {
   "cell_type": "code",
   "execution_count": 6,
   "id": "fantastic-white",
   "metadata": {
    "execution": {
     "iopub.execute_input": "2021-04-26T01:03:33.526366Z",
     "iopub.status.busy": "2021-04-26T01:03:33.502203Z",
     "iopub.status.idle": "2021-04-26T01:03:33.932634Z",
     "shell.execute_reply": "2021-04-26T01:03:33.931677Z"
    },
    "papermill": {
     "duration": 0.451617,
     "end_time": "2021-04-26T01:03:33.932824",
     "exception": false,
     "start_time": "2021-04-26T01:03:33.481207",
     "status": "completed"
    },
    "tags": []
   },
   "outputs": [
    {
     "name": "stdout",
     "output_type": "stream",
     "text": [
      "PINAW: 0.8971955948364408   PINC: 0.9275   PINAFD: 0.11810808027227536\n"
     ]
    },
    {
     "data": {
      "image/png": "[encoded data removed]",
      "text/plain": [
       "<Figure size 432x288 with 1 Axes>"
      ]
     },
     "metadata": {
      "needs_background": "light"
     },
     "output_type": "display_data"
    }
   ],
   "source": [
    "\n",
    "\n",
    "\n",
    "fig, (ax1) = plt.subplots(1, 1)\n",
    "\n",
    "ax1.set(xlabel=\"Input (X1, Arbitrary Unit)\", ylabel=\"Target and Predictions (Arbitrary Unit)\" , ylim = (-3, 6), xlim = (0, 3))\n",
    "plt.rcParams[\"figure.figsize\"] = (6,5)\n",
    "\n",
    "ax1.scatter(i_test[:,0], prediction.detach().numpy(), color='r', s=.5, label='Point Prediction')\n",
    "ax1.scatter(i_test[:,0], LB, color='g', s=.5, label='Prediction Interval')\n",
    "ax1.scatter(i_test[:,0], o_test, color='b',s=.5, label='Target')\n",
    "ax1.scatter(i_test[:,0], UB, s=.5, color='g')\n",
    "\n",
    "leg = ax1.legend(frameon=False, loc='lower left', bbox_to_anchor=(0.3,0));\n",
    "\n",
    "fig.show()\n",
    "\n",
    "\n",
    "\n",
    "\n",
    "PINAW = np.sum(UB-LB)/len(UB)/(np.max(o_test)-np.min(o_test)) \n",
    "# here PINAW= 2*z_95\n",
    "\n",
    "\n",
    "PINC = 0\n",
    "PINAFD =0\n",
    "for iter1 in range(len(UB)):\n",
    "    if UB[iter1]>o_test[iter1] and LB[iter1]<o_test[iter1]:\n",
    "        PINC = PINC+1\n",
    "    else:\n",
    "        PINAFD = PINAFD + np.min([np.abs(UB[iter1]-o_test[iter1]), np.abs(LB[iter1]<o_test[iter1])]) \n",
    "        # PINAFD distance from the nearest interval\n",
    "\n",
    "\n",
    "if PINAFD>0:\n",
    "    PINAFD = PINAFD/(len(UB) - PINC)/(np.max(o_test)-np.min(o_test))         \n",
    "\n",
    "PINC = PINC/len(UB)\n",
    "\n",
    "print(\"PINAW:\",PINAW, \"  PINC:\", PINC, \"  PINAFD:\", PINAFD) \n"
   ]
  }
 ],
 "metadata": {
  "kernelspec": {
   "display_name": "Python 3",
   "language": "python",
   "name": "python3"
  },
  "language_info": {
   "codemirror_mode": {
    "name": "ipython",
    "version": 3
   },
   "file_extension": ".py",
   "mimetype": "text/x-python",
   "name": "python",
   "nbconvert_exporter": "python",
   "pygments_lexer": "ipython3",
   "version": "3.7.9"
  },
  "papermill": {
   "default_parameters": {},
   "duration": 141.942622,
   "end_time": "2021-04-26T01:03:34.761654",
   "environment_variables": {},
   "exception": null,
   "input_path": "__notebook__.ipynb",
   "output_path": "__notebook__.ipynb",
   "parameters": {},
   "start_time": "2021-04-26T01:01:12.819032",
   "version": "2.3.2"
  }
 },
 "nbformat": 4,
 "nbformat_minor": 5
}
