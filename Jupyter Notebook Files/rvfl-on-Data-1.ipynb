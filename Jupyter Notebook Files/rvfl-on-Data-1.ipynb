{
 "cells": [
  {
   "cell_type": "markdown",
   "id": "e8142af0",
   "metadata": {
    "papermill": {
     "duration": 0.014234,
     "end_time": "2021-07-26T02:40:13.839601",
     "exception": false,
     "start_time": "2021-07-26T02:40:13.825367",
     "status": "completed"
    },
    "tags": []
   },
   "source": [
    "# Random Vector Functional Link (RVFL)"
   ]
  },
  {
   "cell_type": "markdown",
   "id": "8be0f4c3",
   "metadata": {
    "papermill": {
     "duration": 0.010426,
     "end_time": "2021-07-26T02:40:13.861441",
     "exception": false,
     "start_time": "2021-07-26T02:40:13.851015",
     "status": "completed"
    },
    "tags": []
   },
   "source": [
    "## Loading CSV files"
   ]
  },
  {
   "cell_type": "code",
   "execution_count": 1,
   "id": "76f26af7",
   "metadata": {
    "execution": {
     "iopub.execute_input": "2021-07-26T02:40:13.898864Z",
     "iopub.status.busy": "2021-07-26T02:40:13.896141Z",
     "iopub.status.idle": "2021-07-26T02:40:15.053731Z",
     "shell.execute_reply": "2021-07-26T02:40:15.053050Z",
     "shell.execute_reply.started": "2021-07-26T02:39:42.925233Z"
    },
    "papermill": {
     "duration": 1.181916,
     "end_time": "2021-07-26T02:40:15.053893",
     "exception": false,
     "start_time": "2021-07-26T02:40:13.871977",
     "status": "completed"
    },
    "tags": []
   },
   "outputs": [
    {
     "data": {
      "text/html": [
       "<div>\n",
       "<style scoped>\n",
       "    .dataframe tbody tr th:only-of-type {\n",
       "        vertical-align: middle;\n",
       "    }\n",
       "\n",
       "    .dataframe tbody tr th {\n",
       "        vertical-align: top;\n",
       "    }\n",
       "\n",
       "    .dataframe thead th {\n",
       "        text-align: right;\n",
       "    }\n",
       "</style>\n",
       "<table border=\"1\" class=\"dataframe\">\n",
       "  <thead>\n",
       "    <tr style=\"text-align: right;\">\n",
       "      <th></th>\n",
       "      <th>Input1</th>\n",
       "      <th>Output</th>\n",
       "    </tr>\n",
       "  </thead>\n",
       "  <tbody>\n",
       "    <tr>\n",
       "      <th>0</th>\n",
       "      <td>0.000000</td>\n",
       "      <td>0.037112</td>\n",
       "    </tr>\n",
       "    <tr>\n",
       "      <th>1</th>\n",
       "      <td>0.001257</td>\n",
       "      <td>0.005684</td>\n",
       "    </tr>\n",
       "    <tr>\n",
       "      <th>2</th>\n",
       "      <td>0.002513</td>\n",
       "      <td>-0.017941</td>\n",
       "    </tr>\n",
       "    <tr>\n",
       "      <th>3</th>\n",
       "      <td>0.003770</td>\n",
       "      <td>0.020993</td>\n",
       "    </tr>\n",
       "    <tr>\n",
       "      <th>4</th>\n",
       "      <td>0.005027</td>\n",
       "      <td>-0.016084</td>\n",
       "    </tr>\n",
       "  </tbody>\n",
       "</table>\n",
       "</div>"
      ],
      "text/plain": [
       "     Input1    Output\n",
       "0  0.000000  0.037112\n",
       "1  0.001257  0.005684\n",
       "2  0.002513 -0.017941\n",
       "3  0.003770  0.020993\n",
       "4  0.005027 -0.016084"
      ]
     },
     "execution_count": 1,
     "metadata": {},
     "output_type": "execute_result"
    }
   ],
   "source": [
    "train_csv_path = '../input/toy-dataset-for-regression-and-uq/Data1_Train.csv'\n",
    "test_csv_path = '../input/toy-dataset-for-regression-and-uq/Data1_Test.csv'\n",
    "val_csv_path = '../input/toy-dataset-for-regression-and-uq/Data1_Val.csv'\n",
    "\n",
    "\n",
    "import pandas as pd\n",
    "import torch\n",
    "from torch.autograd import Variable\n",
    "import torch.nn.functional as F\n",
    "import torch.utils.data as Data\n",
    "\n",
    "import matplotlib.pyplot as plt\n",
    "%matplotlib inline\n",
    "\n",
    "import numpy as np\n",
    "import imageio\n",
    "import math\n",
    "\n",
    "\n",
    "train_df = pd.read_csv(train_csv_path)\n",
    "val_df = pd.read_csv(val_csv_path)\n",
    "train_df.head()"
   ]
  },
  {
   "cell_type": "markdown",
   "id": "f6a58cc6",
   "metadata": {
    "papermill": {
     "duration": 0.010546,
     "end_time": "2021-07-26T02:40:15.075668",
     "exception": false,
     "start_time": "2021-07-26T02:40:15.065122",
     "status": "completed"
    },
    "tags": []
   },
   "source": [
    "## Normalizing training and validation data"
   ]
  },
  {
   "cell_type": "code",
   "execution_count": 2,
   "id": "80c7986f",
   "metadata": {
    "execution": {
     "iopub.execute_input": "2021-07-26T02:40:15.410537Z",
     "iopub.status.busy": "2021-07-26T02:40:15.409631Z",
     "iopub.status.idle": "2021-07-26T02:40:16.679524Z",
     "shell.execute_reply": "2021-07-26T02:40:16.678659Z",
     "shell.execute_reply.started": "2021-07-26T02:39:42.957700Z"
    },
    "papermill": {
     "duration": 1.593799,
     "end_time": "2021-07-26T02:40:16.679756",
     "exception": false,
     "start_time": "2021-07-26T02:40:15.085957",
     "status": "completed"
    },
    "tags": []
   },
   "outputs": [
    {
     "name": "stdout",
     "output_type": "stream",
     "text": [
      "1\n",
      "tensor(1.0487) tensor(-1.0480) tensor([6.2819]) tensor([0.])\n",
      "tensor([6.2819]) tensor(2.0967)\n"
     ]
    }
   ],
   "source": [
    "input_=[]\n",
    "output_=[]\n",
    "for row in train_df.iloc:\n",
    "    input_.append((row[0:len(row)-1]).astype(float))\n",
    "    output_.append(row[-1])\n",
    "    \n",
    "i_val=[]\n",
    "o_val=[]\n",
    "for row in val_df.iloc:\n",
    "    i_val.append((row[0:len(row)-1]).astype(float))\n",
    "    o_val.append(row[-1])\n",
    "    \n",
    "num_input = len(row)-1;\n",
    "print(num_input)\n",
    "\n",
    "\n",
    "torch.manual_seed(1)    # reproducible\n",
    "\n",
    "x = torch.tensor(input_).float()  \n",
    "y = torch.tensor(output_).float()   \n",
    "new_shape = (len(y), 1)\n",
    "y = y.view(new_shape)\n",
    "\n",
    "\n",
    "i_val = torch.tensor(i_val).float()  \n",
    "o_val = torch.tensor(o_val).float()   \n",
    "new_shape = (len(o_val), 1)\n",
    "o_val = o_val.view(new_shape)\n",
    "\n",
    "\n",
    "\n",
    "max_y = torch.max(y[:,0])\n",
    "min_y =torch.min(y[:,0])\n",
    "\n",
    "max_x = torch.max(x,dim=0)\n",
    "min_x = torch.min(x,dim=0)\n",
    "\n",
    "print(max_y, min_y, max_x.values, min_x.values)\n",
    "\n",
    "range_y = max_y - min_y\n",
    "range_x = max_x.values - min_x.values\n",
    "\n",
    "print(range_x, range_y)\n",
    "\n",
    "    #Normalizing\n",
    "x = (x - min_x.values)/range_x\n",
    "y = (y - min_y)/range_y\n",
    "\n",
    "    #Normalizing\n",
    "i_val = (i_val - min_x.values)/range_x\n",
    "o_val = (o_val - min_y)/range_y"
   ]
  },
  {
   "cell_type": "markdown",
   "id": "1b568db7",
   "metadata": {
    "papermill": {
     "duration": 0.011004,
     "end_time": "2021-07-26T02:40:16.702633",
     "exception": false,
     "start_time": "2021-07-26T02:40:16.691629",
     "status": "completed"
    },
    "tags": []
   },
   "source": [
    "## RVFL Network"
   ]
  },
  {
   "cell_type": "code",
   "execution_count": 3,
   "id": "00da3cb5",
   "metadata": {
    "execution": {
     "iopub.execute_input": "2021-07-26T02:40:16.735794Z",
     "iopub.status.busy": "2021-07-26T02:40:16.735110Z",
     "iopub.status.idle": "2021-07-26T02:40:16.830857Z",
     "shell.execute_reply": "2021-07-26T02:40:16.831429Z",
     "shell.execute_reply.started": "2021-07-26T02:39:44.441969Z"
    },
    "papermill": {
     "duration": 0.117556,
     "end_time": "2021-07-26T02:40:16.831632",
     "exception": false,
     "start_time": "2021-07-26T02:40:16.714076",
     "status": "completed"
    },
    "tags": []
   },
   "outputs": [
    {
     "name": "stdout",
     "output_type": "stream",
     "text": [
      "torch.Size([1, 1000])\n",
      "torch.Size([5000, 1])\n",
      "torch.Size([5000, 1000])\n",
      "torch.Size([5000, 1001])\n",
      "Linear(in_features=1001, out_features=1, bias=True)\n"
     ]
    }
   ],
   "source": [
    "# torch can only train on Variable, so convert them to Variable\n",
    "x, y = Variable(x), Variable(y)\n",
    "\n",
    "# Make RVFL code Here\n",
    "num_RVFL_HL = 1000\n",
    "# num_input by num_RVFL_HL sized weight matrix\n",
    "Const_Weight_RVFL = torch.rand((num_input,num_RVFL_HL))-.5\n",
    "print(Const_Weight_RVFL.shape)\n",
    "# num_RVFL_HL by 1 sized hidden bias\n",
    "Const_bias_RVFL = torch.rand((1,num_RVFL_HL))-.5\n",
    "\n",
    "print(x.shape)\n",
    "x2=F.relu(torch.matmul(x,Const_Weight_RVFL) + Const_bias_RVFL)\n",
    "print(x2.shape)\n",
    "x_RVFL = torch.cat([x,x2],1)\n",
    "print(x_RVFL.shape)\n",
    "\n",
    "\n",
    "i_val2 = F.relu(torch.matmul(i_val,Const_Weight_RVFL) + Const_bias_RVFL)\n",
    "i_val_RVFL = torch.cat([i_val,i_val2],1)\n",
    "\n",
    "\n",
    "#Connection to output layer\n",
    "NN_out = torch.nn.Linear(num_input+num_RVFL_HL, 1)\n",
    "\n",
    "\n",
    "# use the same net as before      \n",
    "net = NN_out     # define the network\n",
    "print(net)  # net architecture\n",
    "optimizer = torch.optim.Adam(net.parameters(), lr=0.05)\n",
    "loss_func = torch.nn.MSELoss()  # this is for regression mean squared loss"
   ]
  },
  {
   "cell_type": "markdown",
   "id": "ba495984",
   "metadata": {
    "papermill": {
     "duration": 0.011282,
     "end_time": "2021-07-26T02:40:16.856827",
     "exception": false,
     "start_time": "2021-07-26T02:40:16.845545",
     "status": "completed"
    },
    "tags": []
   },
   "source": [
    "## Network Training"
   ]
  },
  {
   "cell_type": "code",
   "execution_count": 4,
   "id": "ca3f2892",
   "metadata": {
    "execution": {
     "iopub.execute_input": "2021-07-26T02:40:16.883020Z",
     "iopub.status.busy": "2021-07-26T02:40:16.882436Z",
     "iopub.status.idle": "2021-07-26T02:40:20.111832Z",
     "shell.execute_reply": "2021-07-26T02:40:20.112312Z",
     "shell.execute_reply.started": "2021-07-26T02:39:44.489593Z"
    },
    "papermill": {
     "duration": 3.244112,
     "end_time": "2021-07-26T02:40:20.112499",
     "exception": false,
     "start_time": "2021-07-26T02:40:16.868387",
     "status": "completed"
    },
    "tags": []
   },
   "outputs": [
    {
     "name": "stdout",
     "output_type": "stream",
     "text": [
      "Epoch [200/2000], Loss: 0.0364, Minimum Loss 0.036426, Val Loss 0.036051  \n",
      "Epoch [400/2000], Loss: 0.0117, Minimum Loss 0.011737, Val Loss 0.011619  \n",
      "Epoch [600/2000], Loss: 0.0050, Minimum Loss 0.005017, Val Loss 0.004972  \n",
      "Epoch [800/2000], Loss: 0.0024, Minimum Loss 0.002387, Val Loss 0.002362  \n",
      "Epoch [1000/2000], Loss: 0.0012, Minimum Loss 0.001212, Val Loss 0.001194  \n",
      "Epoch [1200/2000], Loss: 0.0007, Minimum Loss 0.000705, Val Loss 0.000691  \n",
      "Epoch [1400/2000], Loss: 0.0005, Minimum Loss 0.000483, Val Loss 0.000471  \n",
      "Epoch [1600/2000], Loss: 0.0004, Minimum Loss 0.000377, Val Loss 0.000367  \n",
      "Epoch [1800/2000], Loss: 0.0003, Minimum Loss 0.000320, Val Loss 0.000312  \n",
      "Epoch [2000/2000], Loss: 0.0003, Minimum Loss 0.000291, Val Loss 0.000285  \n"
     ]
    }
   ],
   "source": [
    "#initial values. These values will be replaced with smaller values\n",
    "minimum_train_loss = 1e5\n",
    "minimum_val_loss = 1e5\n",
    "EPOCH = 2000\n",
    "\n",
    "# start training\n",
    "for epoch in range(EPOCH):\n",
    "  \n",
    "    prediction = net(x_RVFL)     # input x and predict based on x\n",
    "\n",
    "    loss = loss_func(prediction, y)     # must be (1. nn output, 2. target)\n",
    "\n",
    "    optimizer.zero_grad()   # clear gradients for next train\n",
    "    loss.backward()         # backpropagation, compute gradients\n",
    "    optimizer.step()        # apply gradients\n",
    "    \n",
    "    if loss<minimum_train_loss:\n",
    "        minimum_train_loss =loss\n",
    "        net_opt = net\n",
    "    \n",
    "    if epoch%200 == 199:\n",
    "      prediction = net_opt(i_val_RVFL)\n",
    "      loss_val = loss_func(prediction, o_val)\n",
    "      if loss_val<minimum_val_loss:\n",
    "        minimum_val_loss = loss_val\n",
    "        net_opt_val = net_opt\n",
    "      print (\"Epoch [{}/{}], Loss: {:.4f}, Minimum Loss {:.6f}, Val Loss {:.6f}  \"  .format(epoch+1, EPOCH, loss, minimum_train_loss, minimum_val_loss))"
   ]
  },
  {
   "cell_type": "markdown",
   "id": "14183ae9",
   "metadata": {
    "papermill": {
     "duration": 0.014064,
     "end_time": "2021-07-26T02:40:20.141556",
     "exception": false,
     "start_time": "2021-07-26T02:40:20.127492",
     "status": "completed"
    },
    "tags": []
   },
   "source": [
    "## Network on Test Data"
   ]
  },
  {
   "cell_type": "code",
   "execution_count": 5,
   "id": "28a8983e",
   "metadata": {
    "execution": {
     "iopub.execute_input": "2021-07-26T02:40:20.174529Z",
     "iopub.status.busy": "2021-07-26T02:40:20.173605Z",
     "iopub.status.idle": "2021-07-26T02:40:20.708453Z",
     "shell.execute_reply": "2021-07-26T02:40:20.709366Z",
     "shell.execute_reply.started": "2021-07-26T02:39:47.868491Z"
    },
    "papermill": {
     "duration": 0.553344,
     "end_time": "2021-07-26T02:40:20.709652",
     "exception": false,
     "start_time": "2021-07-26T02:40:20.156308",
     "status": "completed"
    },
    "tags": []
   },
   "outputs": [
    {
     "name": "stdout",
     "output_type": "stream",
     "text": [
      "Normalized Test Loss 0.0002854801\n",
      "Test Loss 0.0012550054\n"
     ]
    }
   ],
   "source": [
    "test_df = pd.read_csv(test_csv_path)\n",
    "\n",
    "i_test=[]\n",
    "o_test=[]\n",
    "for row in val_df.iloc:\n",
    "    i_test.append((row[0:len(row)-1]).astype(float))\n",
    "    o_test.append(row[-1])\n",
    "\n",
    "\n",
    "   \n",
    "i_test, o_test = Variable(torch.tensor(i_test)).float(), Variable(torch.tensor(o_test).float())\n",
    "new_shape = (len(o_test), 1)\n",
    "o_test = o_test.view(new_shape)\n",
    "\n",
    "    #Normalizing\n",
    "i_test = (i_test - min_x.values)/range_x\n",
    "o_test = (o_test - min_y)/range_y\n",
    "\n",
    "i_test2 = F.relu(torch.matmul(i_test,Const_Weight_RVFL) + Const_bias_RVFL)\n",
    "i_test_RVFL = torch.cat([i_test,i_test2],1)\n",
    "prediction = net_opt_val(i_test_RVFL)\n",
    "\n",
    "loss_test = loss_func(prediction, o_test)\n",
    "\n",
    "print(\"Normalized Test Loss\",loss_test.detach().numpy())\n",
    "\n",
    "loss_test = loss_test*range_y*range_y # As the loss function returns MSE\n",
    "\n",
    "print(\"Test Loss\",loss_test.detach().numpy())"
   ]
  },
  {
   "cell_type": "markdown",
   "id": "524953be",
   "metadata": {
    "papermill": {
     "duration": 0.014869,
     "end_time": "2021-07-26T02:40:20.741798",
     "exception": false,
     "start_time": "2021-07-26T02:40:20.726929",
     "status": "completed"
    },
    "tags": []
   },
   "source": [
    "## Denormalization"
   ]
  },
  {
   "cell_type": "code",
   "execution_count": 6,
   "id": "1a78fa95",
   "metadata": {
    "execution": {
     "iopub.execute_input": "2021-07-26T02:40:20.776533Z",
     "iopub.status.busy": "2021-07-26T02:40:20.775604Z",
     "iopub.status.idle": "2021-07-26T02:40:20.782713Z",
     "shell.execute_reply": "2021-07-26T02:40:20.783202Z",
     "shell.execute_reply.started": "2021-07-26T02:39:48.289690Z"
    },
    "papermill": {
     "duration": 0.026002,
     "end_time": "2021-07-26T02:40:20.783376",
     "exception": false,
     "start_time": "2021-07-26T02:40:20.757374",
     "status": "completed"
    },
    "tags": []
   },
   "outputs": [],
   "source": [
    "standard_deviation = math.sqrt(minimum_val_loss)\n",
    "z_95 = 1.96*standard_deviation\n",
    "LB = prediction.detach().numpy() - z_95\n",
    "UB = prediction.detach().numpy() + z_95\n",
    "o_test = o_test.detach().numpy()\n",
    "\n",
    "\n",
    "#Denormalization\n",
    "i_test = i_test*range_x + min_x.values\n",
    "o_test = o_test*range_y.detach().numpy() + min_y.detach().numpy()\n",
    "LB = LB*range_y.detach().numpy() + min_y.detach().numpy()\n",
    "UB = UB*range_y.detach().numpy() + min_y.detach().numpy()\n",
    "prediction = prediction*range_y + min_y"
   ]
  },
  {
   "cell_type": "markdown",
   "id": "219643bb",
   "metadata": {
    "papermill": {
     "duration": 0.01487,
     "end_time": "2021-07-26T02:40:20.813450",
     "exception": false,
     "start_time": "2021-07-26T02:40:20.798580",
     "status": "completed"
    },
    "tags": []
   },
   "source": [
    "## Plotting"
   ]
  },
  {
   "cell_type": "code",
   "execution_count": 7,
   "id": "53795b94",
   "metadata": {
    "execution": {
     "iopub.execute_input": "2021-07-26T02:40:20.848079Z",
     "iopub.status.busy": "2021-07-26T02:40:20.847119Z",
     "iopub.status.idle": "2021-07-26T02:40:21.129242Z",
     "shell.execute_reply": "2021-07-26T02:40:21.129728Z",
     "shell.execute_reply.started": "2021-07-26T02:39:48.298305Z"
    },
    "papermill": {
     "duration": 0.300883,
     "end_time": "2021-07-26T02:40:21.129889",
     "exception": false,
     "start_time": "2021-07-26T02:40:20.829006",
     "status": "completed"
    },
    "tags": []
   },
   "outputs": [
    {
     "data": {
      "image/png": "[encoded data removed]",
      "text/plain": [
       "<Figure size 432x288 with 1 Axes>"
      ]
     },
     "metadata": {
      "needs_background": "light"
     },
     "output_type": "display_data"
    },
    {
     "name": "stdout",
     "output_type": "stream",
     "text": [
      "PINAW: 0.06633329256284862   PINC: 0.9585   PINAFD: 0.0009827362147745119\n"
     ]
    }
   ],
   "source": [
    "fig, (ax1) = plt.subplots(1, 1)\n",
    "\n",
    "ax1.set(xlabel=\"Input (X1, Arbitrary Unit)\", ylabel=\"Target and Predictions (Arbitrary Unit)\", ylim = (-1.1, 1.1), xlim = (0, 6))\n",
    "plt.rcParams[\"figure.figsize\"] = (6,5)\n",
    "\n",
    "ax1.plot(i_test[:,0], prediction.detach().numpy(), color='r', linewidth=2, label='Point Prediction')\n",
    "ax1.plot(i_test[:,0], LB, color='g', linewidth=2, label='Prediction Interval')\n",
    "ax1.scatter(i_test[:,0], o_test, color='b',s=1, label='Target')\n",
    "ax1.plot(i_test[:,0], UB, linewidth=2, color='g')\n",
    "\n",
    "leg = ax1.legend(frameon=False, loc='lower left', bbox_to_anchor=(0.45,0));\n",
    "\n",
    "plt.show()\n",
    "\n",
    "\n",
    "\n",
    "\n",
    "PINAW = np.sum(UB-LB)/len(UB)/(np.max(o_test)-np.min(o_test)) \n",
    "# here PINAW= 2*z_95\n",
    "\n",
    "\n",
    "PINC = 0\n",
    "PINAFD =0\n",
    "for iter1 in range(len(UB)):\n",
    "    if UB[iter1]>o_test[iter1] and LB[iter1]<o_test[iter1]:\n",
    "        PINC = PINC+1\n",
    "    else:\n",
    "        PINAFD = PINAFD + np.min([np.abs(UB[iter1]-o_test[iter1]), np.abs(LB[iter1]<o_test[iter1])]) \n",
    "        # PINAFD distance from the nearest interval\n",
    "\n",
    "\n",
    "if PINAFD>0:\n",
    "    PINAFD = PINAFD/(len(UB) - PINC)/(np.max(o_test)-np.min(o_test))         \n",
    "\n",
    "PINC = PINC/len(UB)\n",
    "\n",
    "print(\"PINAW:\",PINAW, \"  PINC:\", PINC, \"  PINAFD:\", PINAFD) "
   ]
  }
 ],
 "metadata": {
  "kernelspec": {
   "display_name": "Python 3",
   "language": "python",
   "name": "python3"
  },
  "language_info": {
   "codemirror_mode": {
    "name": "ipython",
    "version": 3
   },
   "file_extension": ".py",
   "mimetype": "text/x-python",
   "name": "python",
   "nbconvert_exporter": "python",
   "pygments_lexer": "ipython3",
   "version": "3.7.10"
  },
  "papermill": {
   "default_parameters": {},
   "duration": 16.753162,
   "end_time": "2021-07-26T02:40:22.721428",
   "environment_variables": {},
   "exception": null,
   "input_path": "__notebook__.ipynb",
   "output_path": "__notebook__.ipynb",
   "parameters": {},
   "start_time": "2021-07-26T02:40:05.968266",
   "version": "2.3.3"
  }
 },
 "nbformat": 4,
 "nbformat_minor": 5
}
