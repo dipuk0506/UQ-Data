{
 "cells": [
  {
   "cell_type": "markdown",
   "id": "41988427",
   "metadata": {
    "papermill": {
     "duration": 0.009179,
     "end_time": "2021-07-26T03:34:01.634532",
     "exception": false,
     "start_time": "2021-07-26T03:34:01.625353",
     "status": "completed"
    },
    "tags": []
   },
   "source": [
    "# Random Vector Functional Link (RVFL)\n",
    "\n",
    "The dataset is also available at: https://github.com/dipuk0506/UQ-Data"
   ]
  },
  {
   "cell_type": "markdown",
   "id": "b35c11ae",
   "metadata": {
    "papermill": {
     "duration": 0.007927,
     "end_time": "2021-07-26T03:34:01.651334",
     "exception": false,
     "start_time": "2021-07-26T03:34:01.643407",
     "status": "completed"
    },
    "tags": []
   },
   "source": [
    "## Loading CSV files"
   ]
  },
  {
   "cell_type": "code",
   "execution_count": 1,
   "id": "84e46a81",
   "metadata": {
    "execution": {
     "iopub.execute_input": "2021-07-26T03:34:01.671898Z",
     "iopub.status.busy": "2021-07-26T03:34:01.670843Z",
     "iopub.status.idle": "2021-07-26T03:34:02.970959Z",
     "shell.execute_reply": "2021-07-26T03:34:02.970048Z",
     "shell.execute_reply.started": "2021-07-26T03:32:48.700843Z"
    },
    "papermill": {
     "duration": 1.311298,
     "end_time": "2021-07-26T03:34:02.971217",
     "exception": false,
     "start_time": "2021-07-26T03:34:01.659919",
     "status": "completed"
    },
    "tags": []
   },
   "outputs": [
    {
     "data": {
      "text/html": [
       "<div>\n",
       "<style scoped>\n",
       "    .dataframe tbody tr th:only-of-type {\n",
       "        vertical-align: middle;\n",
       "    }\n",
       "\n",
       "    .dataframe tbody tr th {\n",
       "        vertical-align: top;\n",
       "    }\n",
       "\n",
       "    .dataframe thead th {\n",
       "        text-align: right;\n",
       "    }\n",
       "</style>\n",
       "<table border=\"1\" class=\"dataframe\">\n",
       "  <thead>\n",
       "    <tr style=\"text-align: right;\">\n",
       "      <th></th>\n",
       "      <th>Input1</th>\n",
       "      <th>Output</th>\n",
       "    </tr>\n",
       "  </thead>\n",
       "  <tbody>\n",
       "    <tr>\n",
       "      <th>0</th>\n",
       "      <td>-5.000</td>\n",
       "      <td>-0.698398</td>\n",
       "    </tr>\n",
       "    <tr>\n",
       "      <th>1</th>\n",
       "      <td>-4.998</td>\n",
       "      <td>-0.665240</td>\n",
       "    </tr>\n",
       "    <tr>\n",
       "      <th>2</th>\n",
       "      <td>-4.996</td>\n",
       "      <td>-0.558790</td>\n",
       "    </tr>\n",
       "    <tr>\n",
       "      <th>3</th>\n",
       "      <td>-4.994</td>\n",
       "      <td>-0.538358</td>\n",
       "    </tr>\n",
       "    <tr>\n",
       "      <th>4</th>\n",
       "      <td>-4.992</td>\n",
       "      <td>-0.550490</td>\n",
       "    </tr>\n",
       "  </tbody>\n",
       "</table>\n",
       "</div>"
      ],
      "text/plain": [
       "   Input1    Output\n",
       "0  -5.000 -0.698398\n",
       "1  -4.998 -0.665240\n",
       "2  -4.996 -0.558790\n",
       "3  -4.994 -0.538358\n",
       "4  -4.992 -0.550490"
      ]
     },
     "execution_count": 1,
     "metadata": {},
     "output_type": "execute_result"
    }
   ],
   "source": [
    "train_csv_path = '../input/toy-dataset-for-regression-and-uq/Data8_Train.csv'\n",
    "test_csv_path = '../input/toy-dataset-for-regression-and-uq/Data8_Test.csv'\n",
    "val_csv_path = '../input/toy-dataset-for-regression-and-uq/Data8_Val.csv'\n",
    "\n",
    "\n",
    "import pandas as pd\n",
    "import torch\n",
    "from torch.autograd import Variable\n",
    "import torch.nn.functional as F\n",
    "import torch.utils.data as Data\n",
    "\n",
    "import matplotlib.pyplot as plt\n",
    "%matplotlib inline\n",
    "\n",
    "import numpy as np\n",
    "import imageio\n",
    "import math\n",
    "\n",
    "\n",
    "train_df = pd.read_csv(train_csv_path)\n",
    "val_df = pd.read_csv(val_csv_path)\n",
    "train_df.head()"
   ]
  },
  {
   "cell_type": "markdown",
   "id": "7d3eb2a8",
   "metadata": {
    "papermill": {
     "duration": 0.009609,
     "end_time": "2021-07-26T03:34:02.990831",
     "exception": false,
     "start_time": "2021-07-26T03:34:02.981222",
     "status": "completed"
    },
    "tags": []
   },
   "source": [
    "## Normalizing training and validation data"
   ]
  },
  {
   "cell_type": "code",
   "execution_count": 2,
   "id": "979c8d6b",
   "metadata": {
    "execution": {
     "iopub.execute_input": "2021-07-26T03:34:03.043772Z",
     "iopub.status.busy": "2021-07-26T03:34:03.042681Z",
     "iopub.status.idle": "2021-07-26T03:34:04.502627Z",
     "shell.execute_reply": "2021-07-26T03:34:04.503310Z",
     "shell.execute_reply.started": "2021-07-26T03:32:50.165636Z"
    },
    "papermill": {
     "duration": 1.498263,
     "end_time": "2021-07-26T03:34:04.503529",
     "exception": false,
     "start_time": "2021-07-26T03:34:03.005266",
     "status": "completed"
    },
    "tags": []
   },
   "outputs": [
    {
     "name": "stdout",
     "output_type": "stream",
     "text": [
      "1\n",
      "tensor(1.0980) tensor(-1.0985) tensor([4.9980]) tensor([-5.])\n",
      "tensor([9.9980]) tensor(2.1965)\n"
     ]
    }
   ],
   "source": [
    "input_=[]\n",
    "output_=[]\n",
    "for row in train_df.iloc:\n",
    "    input_.append((row[0:len(row)-1]).astype(float))\n",
    "    output_.append(row[-1])\n",
    "    \n",
    "i_val=[]\n",
    "o_val=[]\n",
    "for row in val_df.iloc:\n",
    "    i_val.append((row[0:len(row)-1]).astype(float))\n",
    "    o_val.append(row[-1])\n",
    "    \n",
    "num_input = len(row)-1;\n",
    "print(num_input)\n",
    "\n",
    "\n",
    "torch.manual_seed(1)    # reproducible\n",
    "\n",
    "x = torch.tensor(input_).float()  \n",
    "y = torch.tensor(output_).float()   \n",
    "new_shape = (len(y), 1)\n",
    "y = y.view(new_shape)\n",
    "\n",
    "\n",
    "i_val = torch.tensor(i_val).float()  \n",
    "o_val = torch.tensor(o_val).float()   \n",
    "new_shape = (len(o_val), 1)\n",
    "o_val = o_val.view(new_shape)\n",
    "\n",
    "\n",
    "\n",
    "max_y = torch.max(y[:,0])\n",
    "min_y =torch.min(y[:,0])\n",
    "\n",
    "max_x = torch.max(x,dim=0)\n",
    "min_x = torch.min(x,dim=0)\n",
    "\n",
    "print(max_y, min_y, max_x.values, min_x.values)\n",
    "\n",
    "range_y = max_y - min_y\n",
    "range_x = max_x.values - min_x.values\n",
    "\n",
    "print(range_x, range_y)\n",
    "\n",
    "    #Normalizing\n",
    "x = (x - min_x.values)/range_x\n",
    "y = (y - min_y)/range_y\n",
    "\n",
    "    #Normalizing\n",
    "i_val = (i_val - min_x.values)/range_x\n",
    "o_val = (o_val - min_y)/range_y"
   ]
  },
  {
   "cell_type": "markdown",
   "id": "9182a567",
   "metadata": {
    "papermill": {
     "duration": 0.011288,
     "end_time": "2021-07-26T03:34:04.525362",
     "exception": false,
     "start_time": "2021-07-26T03:34:04.514074",
     "status": "completed"
    },
    "tags": []
   },
   "source": [
    "## RVFL Network"
   ]
  },
  {
   "cell_type": "code",
   "execution_count": 3,
   "id": "e4edb299",
   "metadata": {
    "execution": {
     "iopub.execute_input": "2021-07-26T03:34:04.559650Z",
     "iopub.status.busy": "2021-07-26T03:34:04.558690Z",
     "iopub.status.idle": "2021-07-26T03:34:04.669764Z",
     "shell.execute_reply": "2021-07-26T03:34:04.670205Z",
     "shell.execute_reply.started": "2021-07-26T03:32:51.938550Z"
    },
    "papermill": {
     "duration": 0.129857,
     "end_time": "2021-07-26T03:34:04.670380",
     "exception": false,
     "start_time": "2021-07-26T03:34:04.540523",
     "status": "completed"
    },
    "tags": []
   },
   "outputs": [
    {
     "name": "stdout",
     "output_type": "stream",
     "text": [
      "torch.Size([1, 1000])\n",
      "torch.Size([5000, 1])\n",
      "torch.Size([5000, 1000])\n",
      "torch.Size([5000, 1001])\n",
      "Linear(in_features=1001, out_features=1, bias=True)\n"
     ]
    }
   ],
   "source": [
    "# torch can only train on Variable, so convert them to Variable\n",
    "x, y = Variable(x), Variable(y)\n",
    "\n",
    "# Make RVFL code Here\n",
    "num_RVFL_HL = 1000\n",
    "# num_input by num_RVFL_HL sized weight matrix\n",
    "Const_Weight_RVFL = torch.rand((num_input,num_RVFL_HL))-.5\n",
    "print(Const_Weight_RVFL.shape)\n",
    "# num_RVFL_HL by 1 sized hidden bias\n",
    "Const_bias_RVFL = torch.rand((1,num_RVFL_HL))-.5\n",
    "\n",
    "print(x.shape)\n",
    "x2=F.relu(torch.matmul(x,Const_Weight_RVFL) + Const_bias_RVFL)\n",
    "print(x2.shape)\n",
    "x_RVFL = torch.cat([x,x2],1)\n",
    "print(x_RVFL.shape)\n",
    "\n",
    "\n",
    "i_val2 = F.relu(torch.matmul(i_val,Const_Weight_RVFL) + Const_bias_RVFL)\n",
    "i_val_RVFL = torch.cat([i_val,i_val2],1)\n",
    "\n",
    "\n",
    "#Connection to output layer\n",
    "NN_out = torch.nn.Linear(num_input+num_RVFL_HL, 1)\n",
    "\n",
    "\n",
    "# use the same net as before      \n",
    "net = NN_out     # define the network\n",
    "print(net)  # net architecture\n",
    "optimizer = torch.optim.Adam(net.parameters(), lr=0.05)\n",
    "loss_func = torch.nn.MSELoss()  # this is for regression mean squared loss"
   ]
  },
  {
   "cell_type": "markdown",
   "id": "e6720382",
   "metadata": {
    "papermill": {
     "duration": 0.008947,
     "end_time": "2021-07-26T03:34:04.688584",
     "exception": false,
     "start_time": "2021-07-26T03:34:04.679637",
     "status": "completed"
    },
    "tags": []
   },
   "source": [
    "## Network Training"
   ]
  },
  {
   "cell_type": "code",
   "execution_count": 4,
   "id": "64e03174",
   "metadata": {
    "execution": {
     "iopub.execute_input": "2021-07-26T03:34:04.714938Z",
     "iopub.status.busy": "2021-07-26T03:34:04.714275Z",
     "iopub.status.idle": "2021-07-26T03:34:08.476566Z",
     "shell.execute_reply": "2021-07-26T03:34:08.475822Z",
     "shell.execute_reply.started": "2021-07-26T03:32:52.074284Z"
    },
    "papermill": {
     "duration": 3.778846,
     "end_time": "2021-07-26T03:34:08.476769",
     "exception": false,
     "start_time": "2021-07-26T03:34:04.697923",
     "status": "completed"
    },
    "tags": []
   },
   "outputs": [
    {
     "name": "stdout",
     "output_type": "stream",
     "text": [
      "Epoch [200/2000], Loss: 0.1019, Minimum Loss 0.101879, Val Loss 0.101570  \n",
      "Epoch [400/2000], Loss: 0.1011, Minimum Loss 0.101105, Val Loss 0.100799  \n",
      "Epoch [600/2000], Loss: 0.1002, Minimum Loss 0.100247, Val Loss 0.099940  \n",
      "Epoch [800/2000], Loss: 0.0993, Minimum Loss 0.099313, Val Loss 0.099005  \n",
      "Epoch [1000/2000], Loss: 0.0983, Minimum Loss 0.098326, Val Loss 0.098015  \n",
      "Epoch [1200/2000], Loss: 0.0973, Minimum Loss 0.097301, Val Loss 0.096989  \n",
      "Epoch [1400/2000], Loss: 0.0963, Minimum Loss 0.096252, Val Loss 0.095939  \n",
      "Epoch [1600/2000], Loss: 0.0952, Minimum Loss 0.095184, Val Loss 0.094873  \n",
      "Epoch [1800/2000], Loss: 0.0941, Minimum Loss 0.094101, Val Loss 0.093793  \n",
      "Epoch [2000/2000], Loss: 0.0931, Minimum Loss 0.093124, Val Loss 0.092819  \n"
     ]
    }
   ],
   "source": [
    "#initial values. These values will be replaced with smaller values\n",
    "minimum_train_loss = 1e5\n",
    "minimum_val_loss = 1e5\n",
    "EPOCH = 2000\n",
    "\n",
    "# start training\n",
    "for epoch in range(EPOCH):\n",
    "  \n",
    "    prediction = net(x_RVFL)     # input x and predict based on x\n",
    "\n",
    "    loss = loss_func(prediction, y)     # must be (1. nn output, 2. target)\n",
    "\n",
    "    optimizer.zero_grad()   # clear gradients for next train\n",
    "    loss.backward()         # backpropagation, compute gradients\n",
    "    optimizer.step()        # apply gradients\n",
    "    \n",
    "    if loss<minimum_train_loss:\n",
    "        minimum_train_loss =loss\n",
    "        net_opt = net\n",
    "    \n",
    "    if epoch%200 == 199:\n",
    "      prediction = net_opt(i_val_RVFL)\n",
    "      loss_val = loss_func(prediction, o_val)\n",
    "      if loss_val<minimum_val_loss:\n",
    "        minimum_val_loss = loss_val\n",
    "        net_opt_val = net_opt\n",
    "      print (\"Epoch [{}/{}], Loss: {:.4f}, Minimum Loss {:.6f}, Val Loss {:.6f}  \"  .format(epoch+1, EPOCH, loss, minimum_train_loss, minimum_val_loss))"
   ]
  },
  {
   "cell_type": "markdown",
   "id": "2916847b",
   "metadata": {
    "papermill": {
     "duration": 0.011546,
     "end_time": "2021-07-26T03:34:08.500669",
     "exception": false,
     "start_time": "2021-07-26T03:34:08.489123",
     "status": "completed"
    },
    "tags": []
   },
   "source": [
    "## Network on Test Data"
   ]
  },
  {
   "cell_type": "code",
   "execution_count": 5,
   "id": "22149379",
   "metadata": {
    "execution": {
     "iopub.execute_input": "2021-07-26T03:34:08.531601Z",
     "iopub.status.busy": "2021-07-26T03:34:08.530979Z",
     "iopub.status.idle": "2021-07-26T03:34:09.033782Z",
     "shell.execute_reply": "2021-07-26T03:34:09.033234Z",
     "shell.execute_reply.started": "2021-07-26T03:32:55.728697Z"
    },
    "papermill": {
     "duration": 0.521696,
     "end_time": "2021-07-26T03:34:09.033922",
     "exception": false,
     "start_time": "2021-07-26T03:34:08.512226",
     "status": "completed"
    },
    "tags": []
   },
   "outputs": [
    {
     "name": "stdout",
     "output_type": "stream",
     "text": [
      "Normalized Test Loss 0.092819065\n",
      "Test Loss 0.4478313\n"
     ]
    }
   ],
   "source": [
    "test_df = pd.read_csv(test_csv_path)\n",
    "\n",
    "i_test=[]\n",
    "o_test=[]\n",
    "for row in val_df.iloc:\n",
    "    i_test.append((row[0:len(row)-1]).astype(float))\n",
    "    o_test.append(row[-1])\n",
    "\n",
    "\n",
    "   \n",
    "i_test, o_test = Variable(torch.tensor(i_test)).float(), Variable(torch.tensor(o_test).float())\n",
    "new_shape = (len(o_test), 1)\n",
    "o_test = o_test.view(new_shape)\n",
    "\n",
    "    #Normalizing\n",
    "i_test = (i_test - min_x.values)/range_x\n",
    "o_test = (o_test - min_y)/range_y\n",
    "\n",
    "i_test2 = F.relu(torch.matmul(i_test,Const_Weight_RVFL) + Const_bias_RVFL)\n",
    "i_test_RVFL = torch.cat([i_test,i_test2],1)\n",
    "prediction = net_opt_val(i_test_RVFL)\n",
    "\n",
    "loss_test = loss_func(prediction, o_test)\n",
    "\n",
    "print(\"Normalized Test Loss\",loss_test.detach().numpy())\n",
    "\n",
    "loss_test = loss_test*range_y*range_y # As the loss function returns MSE\n",
    "\n",
    "print(\"Test Loss\",loss_test.detach().numpy())"
   ]
  },
  {
   "cell_type": "markdown",
   "id": "f0f75706",
   "metadata": {
    "papermill": {
     "duration": 0.011363,
     "end_time": "2021-07-26T03:34:09.057010",
     "exception": false,
     "start_time": "2021-07-26T03:34:09.045647",
     "status": "completed"
    },
    "tags": []
   },
   "source": [
    "## Denormalization"
   ]
  },
  {
   "cell_type": "code",
   "execution_count": 6,
   "id": "077ed160",
   "metadata": {
    "execution": {
     "iopub.execute_input": "2021-07-26T03:34:09.087626Z",
     "iopub.status.busy": "2021-07-26T03:34:09.086871Z",
     "iopub.status.idle": "2021-07-26T03:34:09.090018Z",
     "shell.execute_reply": "2021-07-26T03:34:09.090429Z",
     "shell.execute_reply.started": "2021-07-26T03:32:56.313028Z"
    },
    "papermill": {
     "duration": 0.021888,
     "end_time": "2021-07-26T03:34:09.090600",
     "exception": false,
     "start_time": "2021-07-26T03:34:09.068712",
     "status": "completed"
    },
    "tags": []
   },
   "outputs": [],
   "source": [
    "standard_deviation = math.sqrt(minimum_val_loss)\n",
    "z_95 = 1.96*standard_deviation\n",
    "LB = prediction.detach().numpy() - z_95\n",
    "UB = prediction.detach().numpy() + z_95\n",
    "o_test = o_test.detach().numpy()\n",
    "\n",
    "\n",
    "#Denormalization\n",
    "i_test = i_test*range_x + min_x.values\n",
    "o_test = o_test*range_y.detach().numpy() + min_y.detach().numpy()\n",
    "LB = LB*range_y.detach().numpy() + min_y.detach().numpy()\n",
    "UB = UB*range_y.detach().numpy() + min_y.detach().numpy()\n",
    "prediction = prediction*range_y + min_y"
   ]
  },
  {
   "cell_type": "markdown",
   "id": "b61c2a4b",
   "metadata": {
    "papermill": {
     "duration": 0.011234,
     "end_time": "2021-07-26T03:34:09.114183",
     "exception": false,
     "start_time": "2021-07-26T03:34:09.102949",
     "status": "completed"
    },
    "tags": []
   },
   "source": [
    "## Plotting"
   ]
  },
  {
   "cell_type": "code",
   "execution_count": 7,
   "id": "ed8b0436",
   "metadata": {
    "execution": {
     "iopub.execute_input": "2021-07-26T03:34:09.141214Z",
     "iopub.status.busy": "2021-07-26T03:34:09.140523Z",
     "iopub.status.idle": "2021-07-26T03:34:09.433557Z",
     "shell.execute_reply": "2021-07-26T03:34:09.433084Z",
     "shell.execute_reply.started": "2021-07-26T03:32:56.322178Z"
    },
    "papermill": {
     "duration": 0.307769,
     "end_time": "2021-07-26T03:34:09.433694",
     "exception": false,
     "start_time": "2021-07-26T03:34:09.125925",
     "status": "completed"
    },
    "tags": []
   },
   "outputs": [
    {
     "name": "stdout",
     "output_type": "stream",
     "text": [
      "PINAW: 1.1955975964607148   PINC: 1.0   PINAFD:  0\n"
     ]
    },
    {
     "data": {
      "image/png": "[encoded data removed]",
      "text/plain": [
       "<Figure size 432x288 with 1 Axes>"
      ]
     },
     "metadata": {
      "needs_background": "light"
     },
     "output_type": "display_data"
    }
   ],
   "source": [
    "fig, (ax1) = plt.subplots(1, 1)\n",
    "\n",
    "ax1.set(xlabel=\"Input (X1, Arbitrary Unit)\", ylabel=\"Target and Predictions (Arbitrary Unit)\" , ylim = (-1.7, 2.2), xlim = (-5,5))\n",
    "plt.rcParams[\"figure.figsize\"] = (6,5)\n",
    "\n",
    "ax1.plot(i_test[:,0], prediction.detach().numpy(), color='r', linewidth=2, label='Point Prediction')\n",
    "ax1.plot(i_test[:,0], LB, color='g', linewidth=2, label='Prediction Interval')\n",
    "ax1.scatter(i_test[:,0], o_test, color='b',s=.5, label='Target')\n",
    "ax1.plot(i_test[:,0], UB, linewidth=2, color='g')\n",
    "\n",
    "leg = ax1.legend(frameon=False, loc='lower left', bbox_to_anchor=(0.55,0.75));\n",
    "\n",
    "fig.show()\n",
    "\n",
    "\n",
    "\n",
    "\n",
    "PINAW = np.sum(UB-LB)/len(UB)/(np.max(o_test)-np.min(o_test)) \n",
    "# here PINAW= 2*z_95\n",
    "\n",
    "\n",
    "PINC = 0\n",
    "PINAFD =0\n",
    "for iter1 in range(len(UB)):\n",
    "    if UB[iter1]>=o_test[iter1] and LB[iter1]<=o_test[iter1]:\n",
    "        PINC = PINC+1\n",
    "    else:\n",
    "        PINAFD = PINAFD + np.min([np.abs(UB[iter1]-o_test[iter1]), np.abs(LB[iter1]<o_test[iter1])]) \n",
    "        # PINAFD distance from the nearest interval\n",
    "\n",
    "\n",
    "if PINAFD>0:\n",
    "    PINAFD = PINAFD/(len(UB) - PINC)/(np.max(o_test)-np.min(o_test))         \n",
    "\n",
    "PINC = PINC/len(UB)\n",
    "\n",
    "print(\"PINAW:\",PINAW, \"  PINC:\", PINC, \"  PINAFD: \", PINAFD) "
   ]
  }
 ],
 "metadata": {
  "kernelspec": {
   "display_name": "Python 3",
   "language": "python",
   "name": "python3"
  },
  "language_info": {
   "codemirror_mode": {
    "name": "ipython",
    "version": 3
   },
   "file_extension": ".py",
   "mimetype": "text/x-python",
   "name": "python",
   "nbconvert_exporter": "python",
   "pygments_lexer": "ipython3",
   "version": "3.7.10"
  },
  "papermill": {
   "default_parameters": {},
   "duration": 15.637742,
   "end_time": "2021-07-26T03:34:10.257830",
   "environment_variables": {},
   "exception": null,
   "input_path": "__notebook__.ipynb",
   "output_path": "__notebook__.ipynb",
   "parameters": {},
   "start_time": "2021-07-26T03:33:54.620088",
   "version": "2.3.3"
  }
 },
 "nbformat": 4,
 "nbformat_minor": 5
}
