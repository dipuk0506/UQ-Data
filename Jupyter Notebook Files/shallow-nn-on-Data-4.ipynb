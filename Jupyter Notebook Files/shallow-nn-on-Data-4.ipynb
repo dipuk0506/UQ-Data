{
 "cells": [
  {
   "cell_type": "code",
   "execution_count": 1,
   "id": "documented-tanzania",
   "metadata": {
    "_cell_guid": "b1076dfc-b9ad-4769-8c92-a6c4dae69d19",
    "_uuid": "8f2839f25d086af736a60e9eeb907d3b93b6e0e5",
    "execution": {
     "iopub.execute_input": "2021-04-26T00:54:21.324845Z",
     "iopub.status.busy": "2021-04-26T00:54:21.323540Z",
     "iopub.status.idle": "2021-04-26T00:54:21.397727Z",
     "shell.execute_reply": "2021-04-26T00:54:21.398186Z"
    },
    "papermill": {
     "duration": 0.084281,
     "end_time": "2021-04-26T00:54:21.398455",
     "exception": false,
     "start_time": "2021-04-26T00:54:21.314174",
     "status": "completed"
    },
    "tags": []
   },
   "outputs": [
    {
     "data": {
      "text/html": [
       "<div>\n",
       "<style scoped>\n",
       "    .dataframe tbody tr th:only-of-type {\n",
       "        vertical-align: middle;\n",
       "    }\n",
       "\n",
       "    .dataframe tbody tr th {\n",
       "        vertical-align: top;\n",
       "    }\n",
       "\n",
       "    .dataframe thead th {\n",
       "        text-align: right;\n",
       "    }\n",
       "</style>\n",
       "<table border=\"1\" class=\"dataframe\">\n",
       "  <thead>\n",
       "    <tr style=\"text-align: right;\">\n",
       "      <th></th>\n",
       "      <th>Input1</th>\n",
       "      <th>Input2</th>\n",
       "      <th>Input3</th>\n",
       "      <th>Output</th>\n",
       "    </tr>\n",
       "  </thead>\n",
       "  <tbody>\n",
       "    <tr>\n",
       "      <th>0</th>\n",
       "      <td>3.711367</td>\n",
       "      <td>0.535668</td>\n",
       "      <td>4.276316</td>\n",
       "      <td>34.717091</td>\n",
       "    </tr>\n",
       "    <tr>\n",
       "      <th>1</th>\n",
       "      <td>5.152339</td>\n",
       "      <td>0.261720</td>\n",
       "      <td>4.220678</td>\n",
       "      <td>25.090022</td>\n",
       "    </tr>\n",
       "    <tr>\n",
       "      <th>2</th>\n",
       "      <td>6.721850</td>\n",
       "      <td>0.723462</td>\n",
       "      <td>5.707892</td>\n",
       "      <td>22.038826</td>\n",
       "    </tr>\n",
       "    <tr>\n",
       "      <th>3</th>\n",
       "      <td>4.957375</td>\n",
       "      <td>0.606124</td>\n",
       "      <td>1.153642</td>\n",
       "      <td>25.440498</td>\n",
       "    </tr>\n",
       "    <tr>\n",
       "      <th>4</th>\n",
       "      <td>0.856404</td>\n",
       "      <td>0.730655</td>\n",
       "      <td>1.317854</td>\n",
       "      <td>12.121563</td>\n",
       "    </tr>\n",
       "  </tbody>\n",
       "</table>\n",
       "</div>"
      ],
      "text/plain": [
       "     Input1    Input2    Input3     Output\n",
       "0  3.711367  0.535668  4.276316  34.717091\n",
       "1  5.152339  0.261720  4.220678  25.090022\n",
       "2  6.721850  0.723462  5.707892  22.038826\n",
       "3  4.957375  0.606124  1.153642  25.440498\n",
       "4  0.856404  0.730655  1.317854  12.121563"
      ]
     },
     "execution_count": 1,
     "metadata": {},
     "output_type": "execute_result"
    }
   ],
   "source": [
    "train_csv_path = '../input/toy-dataset-for-regression-and-uq/Data4_Train.csv'\n",
    "test_csv_path = '../input/toy-dataset-for-regression-and-uq/Data4_Test.csv'\n",
    "val_csv_path = '../input/toy-dataset-for-regression-and-uq/Data4_Val.csv'\n",
    "\n",
    "\n",
    "\n",
    "import pandas as pd\n",
    "train_df = pd.read_csv(train_csv_path)\n",
    "val_df = pd.read_csv(val_csv_path)\n",
    "train_df.head()"
   ]
  },
  {
   "cell_type": "code",
   "execution_count": 2,
   "id": "capable-introduction",
   "metadata": {
    "execution": {
     "iopub.execute_input": "2021-04-26T00:54:21.412475Z",
     "iopub.status.busy": "2021-04-26T00:54:21.411892Z",
     "iopub.status.idle": "2021-04-26T00:54:24.161771Z",
     "shell.execute_reply": "2021-04-26T00:54:24.161256Z"
    },
    "papermill": {
     "duration": 2.757709,
     "end_time": "2021-04-26T00:54:24.161915",
     "exception": false,
     "start_time": "2021-04-26T00:54:21.404206",
     "status": "completed"
    },
    "tags": []
   },
   "outputs": [
    {
     "name": "stdout",
     "output_type": "stream",
     "text": [
      "3\n",
      "tensor(43.5668) tensor(0.0219) tensor([9.9987, 0.9998, 6.2827]) tensor([0.0031, 0.0002, 0.0004])\n",
      "tensor([9.9955, 0.9996, 6.2823]) tensor(43.5449)\n"
     ]
    }
   ],
   "source": [
    "input_=[]\n",
    "output_=[]\n",
    "for row in train_df.iloc:\n",
    "    input_.append((row[0:len(row)-1]).astype(float))\n",
    "    output_.append(row[-1])\n",
    "    \n",
    "i_val=[]\n",
    "o_val=[]\n",
    "for row in val_df.iloc:\n",
    "    i_val.append((row[0:len(row)-1]).astype(float))\n",
    "    o_val.append(row[-1])\n",
    "    \n",
    "num_input = len(row)-1;\n",
    "print(num_input)\n",
    "\n",
    "####################################################\n",
    "#\n",
    "# This code is written with the help of the demo:\n",
    "# https://medium.com/@benjamin.phillips22/simple-regression-with-neural-networks-in-pytorch-313f06910379\n",
    "#\n",
    "####################################################\n",
    "import torch\n",
    "from torch.autograd import Variable\n",
    "import torch.nn.functional as F\n",
    "import torch.utils.data as Data\n",
    "\n",
    "import matplotlib.pyplot as plt\n",
    "%matplotlib inline\n",
    "\n",
    "import numpy as np\n",
    "import imageio\n",
    "\n",
    "\n",
    "torch.manual_seed(1)    # reproducible\n",
    "\n",
    "x = torch.tensor(input_).float()  \n",
    "y = torch.tensor(output_).float()   \n",
    "new_shape = (len(y), 1)\n",
    "y = y.view(new_shape)\n",
    "\n",
    "\n",
    "i_val = torch.tensor(i_val).float()  \n",
    "o_val = torch.tensor(o_val).float()   \n",
    "new_shape = (len(o_val), 1)\n",
    "o_val = o_val.view(new_shape)\n",
    "\n",
    "\n",
    "\n",
    "max_y = torch.max(y[:,0])\n",
    "min_y =torch.min(y[:,0])\n",
    "\n",
    "max_x = torch.max(x,dim=0)\n",
    "min_x = torch.min(x,dim=0)\n",
    "\n",
    "print(max_y, min_y, max_x.values, min_x.values)\n",
    "\n",
    "range_y = max_y - min_y\n",
    "range_x = max_x.values - min_x.values\n",
    "\n",
    "print(range_x, range_y)\n",
    "\n",
    "    #Normalizing\n",
    "x = (x - min_x.values)/range_x\n",
    "y = (y - min_y)/range_y\n",
    "\n",
    "    #Normalizing\n",
    "i_val = (i_val - min_x.values)/range_x\n",
    "o_val = (o_val - min_y)/range_y"
   ]
  },
  {
   "cell_type": "code",
   "execution_count": 3,
   "id": "numerical-seller",
   "metadata": {
    "execution": {
     "iopub.execute_input": "2021-04-26T00:54:24.184426Z",
     "iopub.status.busy": "2021-04-26T00:54:24.183771Z",
     "iopub.status.idle": "2021-04-26T00:56:52.246322Z",
     "shell.execute_reply": "2021-04-26T00:56:52.245608Z"
    },
    "papermill": {
     "duration": 148.078394,
     "end_time": "2021-04-26T00:56:52.246494",
     "exception": false,
     "start_time": "2021-04-26T00:54:24.168100",
     "status": "completed"
    },
    "tags": []
   },
   "outputs": [
    {
     "name": "stdout",
     "output_type": "stream",
     "text": [
      "Net(\n",
      "  (hidden): Linear(in_features=3, out_features=500, bias=True)\n",
      "  (hidden2): Linear(in_features=500, out_features=500, bias=True)\n",
      "  (predict): Linear(in_features=500, out_features=1, bias=True)\n",
      ")\n",
      "Epoch [200/2000], Loss: 0.0058, Minimum Loss 0.005083, Val Loss 0.005048  \n",
      "Epoch [400/2000], Loss: 0.0063, Minimum Loss 0.004961, Val Loss 0.005048  \n",
      "Epoch [600/2000], Loss: 0.0050, Minimum Loss 0.004913, Val Loss 0.004822  \n",
      "Epoch [800/2000], Loss: 0.0049, Minimum Loss 0.004884, Val Loss 0.004747  \n",
      "Epoch [1000/2000], Loss: 0.0049, Minimum Loss 0.004860, Val Loss 0.004747  \n",
      "Epoch [1200/2000], Loss: 0.0049, Minimum Loss 0.004846, Val Loss 0.004747  \n",
      "Epoch [1400/2000], Loss: 0.0055, Minimum Loss 0.004832, Val Loss 0.004747  \n",
      "Epoch [1600/2000], Loss: 0.0049, Minimum Loss 0.004818, Val Loss 0.004747  \n",
      "Epoch [1800/2000], Loss: 0.0048, Minimum Loss 0.004805, Val Loss 0.004747  \n",
      "Epoch [2000/2000], Loss: 0.0050, Minimum Loss 0.004794, Val Loss 0.004747  \n"
     ]
    }
   ],
   "source": [
    "# torch can only train on Variable, so convert them to Variable\n",
    "x, y = Variable(x), Variable(y)\n",
    " \n",
    "class Net(torch.nn.Module):\n",
    "    def __init__(self, n_feature, n_hidden, n_output):\n",
    "        super(Net, self).__init__()\n",
    "        self.hidden = torch.nn.Linear(n_feature, n_hidden)   # hidden layer\n",
    "        self.hidden2 = torch.nn.Linear(n_hidden, n_hidden)   # hidden layer\n",
    "        self.predict = torch.nn.Linear(n_hidden, n_output)   # output layer\n",
    "\n",
    "    def forward(self, x):\n",
    "        x = F.relu(self.hidden(x))      # activation function for hidden layer\n",
    "        x = F.relu(self.hidden2(x))\n",
    "        x = self.predict(x)             # linear output\n",
    "        return x\n",
    "\n",
    "# use the same net as before      \n",
    "net = Net(n_feature=num_input, n_hidden=500, n_output=1)     # define the network\n",
    "print(net)  # net architecture\n",
    "optimizer = torch.optim.Adam(net.parameters(), lr=0.05)\n",
    "loss_func = torch.nn.MSELoss()  # this is for regression mean squared loss\n",
    "\n",
    "\n",
    "minimum_train_loss = 1e5\n",
    "minimum_val_loss = 1e5\n",
    "EPOCH = 2000\n",
    "\n",
    "# start training\n",
    "for epoch in range(EPOCH):\n",
    "  \n",
    "    prediction = net(x)     # input x and predict based on x\n",
    "\n",
    "    loss = loss_func(prediction, y)     # must be (1. nn output, 2. target)\n",
    "\n",
    "    optimizer.zero_grad()   # clear gradients for next train\n",
    "    loss.backward()         # backpropagation, compute gradients\n",
    "    optimizer.step()        # apply gradients\n",
    "    \n",
    "    if loss<minimum_train_loss:\n",
    "        minimum_train_loss =loss\n",
    "        net_opt = net\n",
    "    \n",
    "    if epoch%200 == 199:\n",
    "      prediction = net_opt(i_val)\n",
    "      loss_val = loss_func(prediction, o_val)\n",
    "      if loss_val<minimum_val_loss:\n",
    "        minimum_val_loss = loss_val\n",
    "        net_opt_val = net_opt\n",
    "      print (\"Epoch [{}/{}], Loss: {:.4f}, Minimum Loss {:.6f}, Val Loss {:.6f}  \"  .format(epoch+1, EPOCH, loss, minimum_train_loss, minimum_val_loss))"
   ]
  },
  {
   "cell_type": "code",
   "execution_count": 4,
   "id": "fifty-maximum",
   "metadata": {
    "execution": {
     "iopub.execute_input": "2021-04-26T00:56:52.270703Z",
     "iopub.status.busy": "2021-04-26T00:56:52.270060Z",
     "iopub.status.idle": "2021-04-26T00:56:52.717041Z",
     "shell.execute_reply": "2021-04-26T00:56:52.717467Z"
    },
    "papermill": {
     "duration": 0.462727,
     "end_time": "2021-04-26T00:56:52.717691",
     "exception": false,
     "start_time": "2021-04-26T00:56:52.254964",
     "status": "completed"
    },
    "tags": []
   },
   "outputs": [
    {
     "name": "stdout",
     "output_type": "stream",
     "text": [
      "Normalized Test Loss 0.004940279\n",
      "Test Loss 9.367547\n"
     ]
    }
   ],
   "source": [
    "test_df = pd.read_csv(test_csv_path)\n",
    "\n",
    "i_test=[]\n",
    "o_test=[]\n",
    "for row in val_df.iloc:\n",
    "    i_test.append((row[0:len(row)-1]).astype(float))\n",
    "    o_test.append(row[-1])\n",
    "\n",
    "\n",
    "   \n",
    "i_test, o_test = Variable(torch.tensor(i_test)).float(), Variable(torch.tensor(o_test).float())\n",
    "new_shape = (len(o_test), 1)\n",
    "o_test = o_test.view(new_shape)\n",
    "\n",
    "    #Normalizing\n",
    "i_test = (i_test - min_x.values)/range_x\n",
    "o_test = (o_test - min_y)/range_y\n",
    "\n",
    "prediction = net_opt_val(i_test)\n",
    "loss_test = loss_func(prediction, o_test)\n",
    "\n",
    "print(\"Normalized Test Loss\",loss_test.detach().numpy())\n",
    "\n",
    "loss_test = loss_test*range_y*range_y # As the loss function returns MSE\n",
    "\n",
    "print(\"Test Loss\",loss_test.detach().numpy())\n",
    "\n"
   ]
  },
  {
   "cell_type": "code",
   "execution_count": 5,
   "id": "arctic-shock",
   "metadata": {
    "execution": {
     "iopub.execute_input": "2021-04-26T00:56:52.742237Z",
     "iopub.status.busy": "2021-04-26T00:56:52.741638Z",
     "iopub.status.idle": "2021-04-26T00:56:52.744338Z",
     "shell.execute_reply": "2021-04-26T00:56:52.743898Z"
    },
    "papermill": {
     "duration": 0.018026,
     "end_time": "2021-04-26T00:56:52.744473",
     "exception": false,
     "start_time": "2021-04-26T00:56:52.726447",
     "status": "completed"
    },
    "tags": []
   },
   "outputs": [],
   "source": [
    "import math\n",
    "standard_deviation = math.sqrt(minimum_val_loss)\n",
    "z_95 = 1.96*standard_deviation\n",
    "LB = prediction.detach().numpy() - z_95\n",
    "UB = prediction.detach().numpy() + z_95\n",
    "o_test = o_test.detach().numpy()\n",
    "\n",
    "\n",
    "#Denormalization\n",
    "i_test = i_test*range_x + min_x.values\n",
    "o_test = o_test*range_y.detach().numpy() + min_y.detach().numpy()\n",
    "LB = LB*range_y.detach().numpy() + min_y.detach().numpy()\n",
    "UB = UB*range_y.detach().numpy() + min_y.detach().numpy()\n",
    "prediction = prediction*range_y + min_y"
   ]
  },
  {
   "cell_type": "code",
   "execution_count": 6,
   "id": "entitled-imagination",
   "metadata": {
    "execution": {
     "iopub.execute_input": "2021-04-26T00:56:52.784783Z",
     "iopub.status.busy": "2021-04-26T00:56:52.783955Z",
     "iopub.status.idle": "2021-04-26T00:56:53.055844Z",
     "shell.execute_reply": "2021-04-26T00:56:53.055299Z"
    },
    "papermill": {
     "duration": 0.302844,
     "end_time": "2021-04-26T00:56:53.055987",
     "exception": false,
     "start_time": "2021-04-26T00:56:52.753143",
     "status": "completed"
    },
    "tags": []
   },
   "outputs": [
    {
     "name": "stdout",
     "output_type": "stream",
     "text": [
      "PINAW: 0.27522116483808023   PINC: 0.9395   PINAFD: 0.013843356880752732\n"
     ]
    },
    {
     "data": {
      "image/png": "[encoded data removed]",
      "text/plain": [
       "<Figure size 432x288 with 1 Axes>"
      ]
     },
     "metadata": {
      "needs_background": "light"
     },
     "output_type": "display_data"
    }
   ],
   "source": [
    "\n",
    "\n",
    "\n",
    "fig, (ax1) = plt.subplots(1, 1)\n",
    "\n",
    "ax1.set(xlabel=\"Input (X1, Arbitrary Unit)\", ylabel=\"Target and Predictions (Arbitrary Unit)\" , ylim = (-10, 50), xlim = (0, 10))\n",
    "plt.rcParams[\"figure.figsize\"] = (6,5)\n",
    "\n",
    "ax1.scatter(i_test[:,0], prediction.detach().numpy(), color='r', s=.5, label='Point Prediction')\n",
    "ax1.scatter(i_test[:,0], LB, color='g', s=.5, label='Prediction Interval')\n",
    "ax1.scatter(i_test[:,0], o_test, color='b',s=.5, label='Target')\n",
    "ax1.scatter(i_test[:,0], UB, s=.5, color='g')\n",
    "\n",
    "leg = ax1.legend(frameon=False, loc='lower left', bbox_to_anchor=(0.3,0));\n",
    "\n",
    "fig.show()\n",
    "\n",
    "\n",
    "\n",
    "\n",
    "PINAW = np.sum(UB-LB)/len(UB)/(np.max(o_test)-np.min(o_test)) \n",
    "# here PINAW= 2*z_95\n",
    "\n",
    "\n",
    "PINC = 0\n",
    "PINAFD =0\n",
    "for iter1 in range(len(UB)):\n",
    "    if UB[iter1]>o_test[iter1] and LB[iter1]<o_test[iter1]:\n",
    "        PINC = PINC+1\n",
    "    else:\n",
    "        PINAFD = PINAFD + np.min([np.abs(UB[iter1]-o_test[iter1]), np.abs(LB[iter1]<o_test[iter1])]) \n",
    "        # PINAFD distance from the nearest interval\n",
    "\n",
    "\n",
    "if PINAFD>0:\n",
    "    PINAFD = PINAFD/(len(UB) - PINC)/(np.max(o_test)-np.min(o_test))         \n",
    "\n",
    "PINC = PINC/len(UB)\n",
    "\n",
    "print(\"PINAW:\",PINAW, \"  PINC:\", PINC, \"  PINAFD:\", PINAFD) \n"
   ]
  }
 ],
 "metadata": {
  "kernelspec": {
   "display_name": "Python 3",
   "language": "python",
   "name": "python3"
  },
  "language_info": {
   "codemirror_mode": {
    "name": "ipython",
    "version": 3
   },
   "file_extension": ".py",
   "mimetype": "text/x-python",
   "name": "python",
   "nbconvert_exporter": "python",
   "pygments_lexer": "ipython3",
   "version": "3.7.9"
  },
  "papermill": {
   "default_parameters": {},
   "duration": 158.42302,
   "end_time": "2021-04-26T00:56:53.778357",
   "environment_variables": {},
   "exception": null,
   "input_path": "__notebook__.ipynb",
   "output_path": "__notebook__.ipynb",
   "parameters": {},
   "start_time": "2021-04-26T00:54:15.355337",
   "version": "2.3.2"
  }
 },
 "nbformat": 4,
 "nbformat_minor": 5
}
