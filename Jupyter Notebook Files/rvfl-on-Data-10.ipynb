{
 "cells": [
  {
   "cell_type": "markdown",
   "id": "f501b2c7",
   "metadata": {
    "papermill": {
     "duration": 0.011951,
     "end_time": "2021-07-26T03:38:28.833937",
     "exception": false,
     "start_time": "2021-07-26T03:38:28.821986",
     "status": "completed"
    },
    "tags": []
   },
   "source": [
    "# Random Vector Functional Link (RVFL)\n",
    "\n",
    "The dataset is also available at: https://github.com/dipuk0506/UQ-Data"
   ]
  },
  {
   "cell_type": "markdown",
   "id": "713e6cf3",
   "metadata": {
    "papermill": {
     "duration": 0.013343,
     "end_time": "2021-07-26T03:38:28.857876",
     "exception": false,
     "start_time": "2021-07-26T03:38:28.844533",
     "status": "completed"
    },
    "tags": []
   },
   "source": [
    "## Loading CSV files"
   ]
  },
  {
   "cell_type": "code",
   "execution_count": 1,
   "id": "b5a52927",
   "metadata": {
    "execution": {
     "iopub.execute_input": "2021-07-26T03:38:28.893522Z",
     "iopub.status.busy": "2021-07-26T03:38:28.888439Z",
     "iopub.status.idle": "2021-07-26T03:38:30.154722Z",
     "shell.execute_reply": "2021-07-26T03:38:30.154068Z",
     "shell.execute_reply.started": "2021-07-26T03:36:44.577672Z"
    },
    "papermill": {
     "duration": 1.283791,
     "end_time": "2021-07-26T03:38:30.154898",
     "exception": false,
     "start_time": "2021-07-26T03:38:28.871107",
     "status": "completed"
    },
    "tags": []
   },
   "outputs": [
    {
     "data": {
      "text/html": [
       "<div>\n",
       "<style scoped>\n",
       "    .dataframe tbody tr th:only-of-type {\n",
       "        vertical-align: middle;\n",
       "    }\n",
       "\n",
       "    .dataframe tbody tr th {\n",
       "        vertical-align: top;\n",
       "    }\n",
       "\n",
       "    .dataframe thead th {\n",
       "        text-align: right;\n",
       "    }\n",
       "</style>\n",
       "<table border=\"1\" class=\"dataframe\">\n",
       "  <thead>\n",
       "    <tr style=\"text-align: right;\">\n",
       "      <th></th>\n",
       "      <th>Input1</th>\n",
       "      <th>Output</th>\n",
       "    </tr>\n",
       "  </thead>\n",
       "  <tbody>\n",
       "    <tr>\n",
       "      <th>0</th>\n",
       "      <td>-0.900</td>\n",
       "      <td>0.583211</td>\n",
       "    </tr>\n",
       "    <tr>\n",
       "      <th>1</th>\n",
       "      <td>-0.891</td>\n",
       "      <td>0.730880</td>\n",
       "    </tr>\n",
       "    <tr>\n",
       "      <th>2</th>\n",
       "      <td>-0.882</td>\n",
       "      <td>0.809906</td>\n",
       "    </tr>\n",
       "    <tr>\n",
       "      <th>3</th>\n",
       "      <td>-0.873</td>\n",
       "      <td>0.799579</td>\n",
       "    </tr>\n",
       "    <tr>\n",
       "      <th>4</th>\n",
       "      <td>-0.864</td>\n",
       "      <td>0.875990</td>\n",
       "    </tr>\n",
       "  </tbody>\n",
       "</table>\n",
       "</div>"
      ],
      "text/plain": [
       "   Input1    Output\n",
       "0  -0.900  0.583211\n",
       "1  -0.891  0.730880\n",
       "2  -0.882  0.809906\n",
       "3  -0.873  0.799579\n",
       "4  -0.864  0.875990"
      ]
     },
     "execution_count": 1,
     "metadata": {},
     "output_type": "execute_result"
    }
   ],
   "source": [
    "train_csv_path = '../input/toy-dataset-for-regression-and-uq/Data10_Train.csv'\n",
    "test_csv_path = '../input/toy-dataset-for-regression-and-uq/Data10_Test.csv'\n",
    "val_csv_path = '../input/toy-dataset-for-regression-and-uq/Data10_Val.csv'\n",
    "\n",
    "\n",
    "import pandas as pd\n",
    "import torch\n",
    "from torch.autograd import Variable\n",
    "import torch.nn.functional as F\n",
    "import torch.utils.data as Data\n",
    "\n",
    "import matplotlib.pyplot as plt\n",
    "%matplotlib inline\n",
    "\n",
    "import numpy as np\n",
    "import imageio\n",
    "import math\n",
    "\n",
    "\n",
    "train_df = pd.read_csv(train_csv_path)\n",
    "val_df = pd.read_csv(val_csv_path)\n",
    "train_df.head()"
   ]
  },
  {
   "cell_type": "markdown",
   "id": "60605d16",
   "metadata": {
    "papermill": {
     "duration": 0.01051,
     "end_time": "2021-07-26T03:38:30.176885",
     "exception": false,
     "start_time": "2021-07-26T03:38:30.166375",
     "status": "completed"
    },
    "tags": []
   },
   "source": [
    "## Normalizing training and validation data"
   ]
  },
  {
   "cell_type": "code",
   "execution_count": 2,
   "id": "ac1e34b1",
   "metadata": {
    "execution": {
     "iopub.execute_input": "2021-07-26T03:38:30.290033Z",
     "iopub.status.busy": "2021-07-26T03:38:30.289249Z",
     "iopub.status.idle": "2021-07-26T03:38:30.384595Z",
     "shell.execute_reply": "2021-07-26T03:38:30.383588Z",
     "shell.execute_reply.started": "2021-07-26T03:36:44.621286Z"
    },
    "papermill": {
     "duration": 0.197098,
     "end_time": "2021-07-26T03:38:30.384771",
     "exception": false,
     "start_time": "2021-07-26T03:38:30.187673",
     "status": "completed"
    },
    "tags": []
   },
   "outputs": [
    {
     "name": "stdout",
     "output_type": "stream",
     "text": [
      "1\n",
      "tensor(1.0968) tensor(-1.0774) tensor([0.8910]) tensor([-0.9000])\n",
      "tensor([1.7910]) tensor(2.1742)\n"
     ]
    }
   ],
   "source": [
    "input_=[]\n",
    "output_=[]\n",
    "for row in train_df.iloc:\n",
    "    input_.append((row[0:len(row)-1]).astype(float))\n",
    "    output_.append(row[-1])\n",
    "    \n",
    "i_val=[]\n",
    "o_val=[]\n",
    "for row in val_df.iloc:\n",
    "    i_val.append((row[0:len(row)-1]).astype(float))\n",
    "    o_val.append(row[-1])\n",
    "    \n",
    "num_input = len(row)-1;\n",
    "print(num_input)\n",
    "\n",
    "\n",
    "torch.manual_seed(1)    # reproducible\n",
    "\n",
    "x = torch.tensor(input_).float()  \n",
    "y = torch.tensor(output_).float()   \n",
    "new_shape = (len(y), 1)\n",
    "y = y.view(new_shape)\n",
    "\n",
    "\n",
    "i_val = torch.tensor(i_val).float()  \n",
    "o_val = torch.tensor(o_val).float()   \n",
    "new_shape = (len(o_val), 1)\n",
    "o_val = o_val.view(new_shape)\n",
    "\n",
    "\n",
    "\n",
    "max_y = torch.max(y[:,0])\n",
    "min_y =torch.min(y[:,0])\n",
    "\n",
    "max_x = torch.max(x,dim=0)\n",
    "min_x = torch.min(x,dim=0)\n",
    "\n",
    "print(max_y, min_y, max_x.values, min_x.values)\n",
    "\n",
    "range_y = max_y - min_y\n",
    "range_x = max_x.values - min_x.values\n",
    "\n",
    "print(range_x, range_y)\n",
    "\n",
    "    #Normalizing\n",
    "x = (x - min_x.values)/range_x\n",
    "y = (y - min_y)/range_y\n",
    "\n",
    "    #Normalizing\n",
    "i_val = (i_val - min_x.values)/range_x\n",
    "o_val = (o_val - min_y)/range_y"
   ]
  },
  {
   "cell_type": "markdown",
   "id": "13dc8aac",
   "metadata": {
    "papermill": {
     "duration": 0.010949,
     "end_time": "2021-07-26T03:38:30.407123",
     "exception": false,
     "start_time": "2021-07-26T03:38:30.396174",
     "status": "completed"
    },
    "tags": []
   },
   "source": [
    "## RVFL Network"
   ]
  },
  {
   "cell_type": "code",
   "execution_count": 3,
   "id": "364de74c",
   "metadata": {
    "execution": {
     "iopub.execute_input": "2021-07-26T03:38:30.439305Z",
     "iopub.status.busy": "2021-07-26T03:38:30.438609Z",
     "iopub.status.idle": "2021-07-26T03:38:30.488187Z",
     "shell.execute_reply": "2021-07-26T03:38:30.488763Z",
     "shell.execute_reply.started": "2021-07-26T03:36:44.743951Z"
    },
    "papermill": {
     "duration": 0.07064,
     "end_time": "2021-07-26T03:38:30.488954",
     "exception": false,
     "start_time": "2021-07-26T03:38:30.418314",
     "status": "completed"
    },
    "tags": []
   },
   "outputs": [
    {
     "name": "stdout",
     "output_type": "stream",
     "text": [
      "torch.Size([1, 1000])\n",
      "torch.Size([200, 1])\n",
      "torch.Size([200, 1000])\n",
      "torch.Size([200, 1001])\n",
      "Linear(in_features=1001, out_features=1, bias=True)\n"
     ]
    }
   ],
   "source": [
    "# torch can only train on Variable, so convert them to Variable\n",
    "x, y = Variable(x), Variable(y)\n",
    "\n",
    "# Make RVFL code Here\n",
    "num_RVFL_HL = 1000\n",
    "# num_input by num_RVFL_HL sized weight matrix\n",
    "Const_Weight_RVFL = torch.rand((num_input,num_RVFL_HL))-.5\n",
    "print(Const_Weight_RVFL.shape)\n",
    "# num_RVFL_HL by 1 sized hidden bias\n",
    "Const_bias_RVFL = torch.rand((1,num_RVFL_HL))-.5\n",
    "\n",
    "print(x.shape)\n",
    "x2=F.relu(torch.matmul(x,Const_Weight_RVFL) + Const_bias_RVFL)\n",
    "print(x2.shape)\n",
    "x_RVFL = torch.cat([x,x2],1)\n",
    "print(x_RVFL.shape)\n",
    "\n",
    "\n",
    "i_val2 = F.relu(torch.matmul(i_val,Const_Weight_RVFL) + Const_bias_RVFL)\n",
    "i_val_RVFL = torch.cat([i_val,i_val2],1)\n",
    "\n",
    "\n",
    "#Connection to output layer\n",
    "NN_out = torch.nn.Linear(num_input+num_RVFL_HL, 1)\n",
    "\n",
    "\n",
    "# use the same net as before      \n",
    "net = NN_out     # define the network\n",
    "print(net)  # net architecture\n",
    "optimizer = torch.optim.Adam(net.parameters(), lr=0.05)\n",
    "loss_func = torch.nn.MSELoss()  # this is for regression mean squared loss"
   ]
  },
  {
   "cell_type": "markdown",
   "id": "ec4db013",
   "metadata": {
    "papermill": {
     "duration": 0.011327,
     "end_time": "2021-07-26T03:38:30.514199",
     "exception": false,
     "start_time": "2021-07-26T03:38:30.502872",
     "status": "completed"
    },
    "tags": []
   },
   "source": [
    "## Network Training"
   ]
  },
  {
   "cell_type": "code",
   "execution_count": 4,
   "id": "eb803858",
   "metadata": {
    "execution": {
     "iopub.execute_input": "2021-07-26T03:38:30.546719Z",
     "iopub.status.busy": "2021-07-26T03:38:30.546049Z",
     "iopub.status.idle": "2021-07-26T03:38:31.776820Z",
     "shell.execute_reply": "2021-07-26T03:38:31.777269Z",
     "shell.execute_reply.started": "2021-07-26T03:36:44.757938Z"
    },
    "papermill": {
     "duration": 1.251739,
     "end_time": "2021-07-26T03:38:31.777449",
     "exception": false,
     "start_time": "2021-07-26T03:38:30.525710",
     "status": "completed"
    },
    "tags": []
   },
   "outputs": [
    {
     "name": "stdout",
     "output_type": "stream",
     "text": [
      "Epoch [200/2000], Loss: 0.0474, Minimum Loss 0.047416, Val Loss 0.047374  \n",
      "Epoch [400/2000], Loss: 0.0208, Minimum Loss 0.020778, Val Loss 0.020890  \n",
      "Epoch [600/2000], Loss: 0.0091, Minimum Loss 0.009140, Val Loss 0.009369  \n",
      "Epoch [800/2000], Loss: 0.0047, Minimum Loss 0.004673, Val Loss 0.004924  \n",
      "Epoch [1000/2000], Loss: 0.0028, Minimum Loss 0.002777, Val Loss 0.003008  \n",
      "Epoch [1200/2000], Loss: 0.0018, Minimum Loss 0.001847, Val Loss 0.002045  \n",
      "Epoch [1400/2000], Loss: 0.0014, Minimum Loss 0.001357, Val Loss 0.001523  \n",
      "Epoch [1600/2000], Loss: 0.0011, Minimum Loss 0.001086, Val Loss 0.001226  \n",
      "Epoch [1800/2000], Loss: 0.0009, Minimum Loss 0.000925, Val Loss 0.001048  \n",
      "Epoch [2000/2000], Loss: 0.0008, Minimum Loss 0.000834, Val Loss 0.000949  \n"
     ]
    }
   ],
   "source": [
    "#initial values. These values will be replaced with smaller values\n",
    "minimum_train_loss = 1e5\n",
    "minimum_val_loss = 1e5\n",
    "EPOCH = 2000\n",
    "\n",
    "# start training\n",
    "for epoch in range(EPOCH):\n",
    "  \n",
    "    prediction = net(x_RVFL)     # input x and predict based on x\n",
    "\n",
    "    loss = loss_func(prediction, y)     # must be (1. nn output, 2. target)\n",
    "\n",
    "    optimizer.zero_grad()   # clear gradients for next train\n",
    "    loss.backward()         # backpropagation, compute gradients\n",
    "    optimizer.step()        # apply gradients\n",
    "    \n",
    "    if loss<minimum_train_loss:\n",
    "        minimum_train_loss =loss\n",
    "        net_opt = net\n",
    "    \n",
    "    if epoch%200 == 199:\n",
    "      prediction = net_opt(i_val_RVFL)\n",
    "      loss_val = loss_func(prediction, o_val)\n",
    "      if loss_val<minimum_val_loss:\n",
    "        minimum_val_loss = loss_val\n",
    "        net_opt_val = net_opt\n",
    "      print (\"Epoch [{}/{}], Loss: {:.4f}, Minimum Loss {:.6f}, Val Loss {:.6f}  \"  .format(epoch+1, EPOCH, loss, minimum_train_loss, minimum_val_loss))"
   ]
  },
  {
   "cell_type": "markdown",
   "id": "6b19ed4d",
   "metadata": {
    "papermill": {
     "duration": 0.012893,
     "end_time": "2021-07-26T03:38:31.803624",
     "exception": false,
     "start_time": "2021-07-26T03:38:31.790731",
     "status": "completed"
    },
    "tags": []
   },
   "source": [
    "## Network on Test Data"
   ]
  },
  {
   "cell_type": "code",
   "execution_count": 5,
   "id": "cf13e9b9",
   "metadata": {
    "execution": {
     "iopub.execute_input": "2021-07-26T03:38:31.839012Z",
     "iopub.status.busy": "2021-07-26T03:38:31.838306Z",
     "iopub.status.idle": "2021-07-26T03:38:31.895778Z",
     "shell.execute_reply": "2021-07-26T03:38:31.895144Z",
     "shell.execute_reply.started": "2021-07-26T03:36:46.003711Z"
    },
    "papermill": {
     "duration": 0.079093,
     "end_time": "2021-07-26T03:38:31.895939",
     "exception": false,
     "start_time": "2021-07-26T03:38:31.816846",
     "status": "completed"
    },
    "tags": []
   },
   "outputs": [
    {
     "name": "stdout",
     "output_type": "stream",
     "text": [
      "Normalized Test Loss 0.0009487676\n",
      "Test Loss 0.004484813\n"
     ]
    }
   ],
   "source": [
    "test_df = pd.read_csv(test_csv_path)\n",
    "\n",
    "i_test=[]\n",
    "o_test=[]\n",
    "for row in val_df.iloc:\n",
    "    i_test.append((row[0:len(row)-1]).astype(float))\n",
    "    o_test.append(row[-1])\n",
    "\n",
    "\n",
    "   \n",
    "i_test, o_test = Variable(torch.tensor(i_test)).float(), Variable(torch.tensor(o_test).float())\n",
    "new_shape = (len(o_test), 1)\n",
    "o_test = o_test.view(new_shape)\n",
    "\n",
    "    #Normalizing\n",
    "i_test = (i_test - min_x.values)/range_x\n",
    "o_test = (o_test - min_y)/range_y\n",
    "\n",
    "i_test2 = F.relu(torch.matmul(i_test,Const_Weight_RVFL) + Const_bias_RVFL)\n",
    "i_test_RVFL = torch.cat([i_test,i_test2],1)\n",
    "prediction = net_opt_val(i_test_RVFL)\n",
    "\n",
    "loss_test = loss_func(prediction, o_test)\n",
    "\n",
    "print(\"Normalized Test Loss\",loss_test.detach().numpy())\n",
    "\n",
    "loss_test = loss_test*range_y*range_y # As the loss function returns MSE\n",
    "\n",
    "print(\"Test Loss\",loss_test.detach().numpy())"
   ]
  },
  {
   "cell_type": "markdown",
   "id": "4fa3a965",
   "metadata": {
    "papermill": {
     "duration": 0.012835,
     "end_time": "2021-07-26T03:38:31.924848",
     "exception": false,
     "start_time": "2021-07-26T03:38:31.912013",
     "status": "completed"
    },
    "tags": []
   },
   "source": [
    "## Denormalization"
   ]
  },
  {
   "cell_type": "code",
   "execution_count": 6,
   "id": "024a70a9",
   "metadata": {
    "execution": {
     "iopub.execute_input": "2021-07-26T03:38:31.958684Z",
     "iopub.status.busy": "2021-07-26T03:38:31.958035Z",
     "iopub.status.idle": "2021-07-26T03:38:31.960629Z",
     "shell.execute_reply": "2021-07-26T03:38:31.961140Z",
     "shell.execute_reply.started": "2021-07-26T03:36:46.075216Z"
    },
    "papermill": {
     "duration": 0.022996,
     "end_time": "2021-07-26T03:38:31.961309",
     "exception": false,
     "start_time": "2021-07-26T03:38:31.938313",
     "status": "completed"
    },
    "tags": []
   },
   "outputs": [],
   "source": [
    "standard_deviation = math.sqrt(minimum_val_loss)\n",
    "z_95 = 1.96*standard_deviation\n",
    "LB = prediction.detach().numpy() - z_95\n",
    "UB = prediction.detach().numpy() + z_95\n",
    "o_test = o_test.detach().numpy()\n",
    "\n",
    "\n",
    "#Denormalization\n",
    "i_test = i_test*range_x + min_x.values\n",
    "o_test = o_test*range_y.detach().numpy() + min_y.detach().numpy()\n",
    "LB = LB*range_y.detach().numpy() + min_y.detach().numpy()\n",
    "UB = UB*range_y.detach().numpy() + min_y.detach().numpy()\n",
    "prediction = prediction*range_y + min_y"
   ]
  },
  {
   "cell_type": "markdown",
   "id": "e23fb675",
   "metadata": {
    "papermill": {
     "duration": 0.013426,
     "end_time": "2021-07-26T03:38:31.988491",
     "exception": false,
     "start_time": "2021-07-26T03:38:31.975065",
     "status": "completed"
    },
    "tags": []
   },
   "source": [
    "## Plotting"
   ]
  },
  {
   "cell_type": "code",
   "execution_count": 7,
   "id": "cd7987c6",
   "metadata": {
    "execution": {
     "iopub.execute_input": "2021-07-26T03:38:32.044048Z",
     "iopub.status.busy": "2021-07-26T03:38:32.024869Z",
     "iopub.status.idle": "2021-07-26T03:38:32.323083Z",
     "shell.execute_reply": "2021-07-26T03:38:32.322570Z",
     "shell.execute_reply.started": "2021-07-26T03:36:46.086105Z"
    },
    "papermill": {
     "duration": 0.320321,
     "end_time": "2021-07-26T03:38:32.323220",
     "exception": false,
     "start_time": "2021-07-26T03:38:32.002899",
     "status": "completed"
    },
    "tags": []
   },
   "outputs": [
    {
     "name": "stdout",
     "output_type": "stream",
     "text": [
      "PINAW: 0.12111314113091194   PINC: 0.965   PINAFD:  0.0035374801698562454\n"
     ]
    },
    {
     "data": {
      "image/png": "[encoded data removed]",
      "text/plain": [
       "<Figure size 432x288 with 1 Axes>"
      ]
     },
     "metadata": {
      "needs_background": "light"
     },
     "output_type": "display_data"
    }
   ],
   "source": [
    "fig, (ax1) = plt.subplots(1, 1)\n",
    "\n",
    "ax1.set(xlabel=\"Input (X1, Arbitrary Unit)\", ylabel=\"Target and Predictions (Arbitrary Unit)\" , ylim = (-1.5, 2), xlim = (-1,1))\n",
    "plt.rcParams[\"figure.figsize\"] = (6,5)\n",
    "\n",
    "ax1.plot(i_test[:,0], prediction.detach().numpy(), color='r', linewidth=2, label='Point Prediction')\n",
    "ax1.plot(i_test[:,0], LB, color='g', linewidth=2, label='Prediction Interval')\n",
    "ax1.scatter(i_test[:,0], o_test, color='b',s=.5, label='Target')\n",
    "ax1.plot(i_test[:,0], UB, linewidth=2, color='g')\n",
    "\n",
    "leg = ax1.legend(frameon=False, loc='lower left', bbox_to_anchor=(0.50,0.7));\n",
    "\n",
    "fig.show()\n",
    "\n",
    "\n",
    "\n",
    "\n",
    "PINAW = np.sum(UB-LB)/len(UB)/(np.max(o_test)-np.min(o_test)) \n",
    "# here PINAW= 2*z_95\n",
    "\n",
    "\n",
    "PINC = 0\n",
    "PINAFD =0\n",
    "for iter1 in range(len(UB)):\n",
    "    if UB[iter1]>=o_test[iter1] and LB[iter1]<=o_test[iter1]:\n",
    "        PINC = PINC+1\n",
    "    else:\n",
    "        PINAFD = PINAFD + np.min([np.abs(UB[iter1]-o_test[iter1]), np.abs(LB[iter1]<o_test[iter1])]) \n",
    "        # PINAFD distance from the nearest interval\n",
    "\n",
    "\n",
    "if PINAFD>0:\n",
    "    PINAFD = PINAFD/(len(UB) - PINC)/(np.max(o_test)-np.min(o_test))         \n",
    "\n",
    "PINC = PINC/len(UB)\n",
    "\n",
    "print(\"PINAW:\",PINAW, \"  PINC:\", PINC, \"  PINAFD: \", PINAFD) "
   ]
  }
 ],
 "metadata": {
  "kernelspec": {
   "display_name": "Python 3",
   "language": "python",
   "name": "python3"
  },
  "language_info": {
   "codemirror_mode": {
    "name": "ipython",
    "version": 3
   },
   "file_extension": ".py",
   "mimetype": "text/x-python",
   "name": "python",
   "nbconvert_exporter": "python",
   "pygments_lexer": "ipython3",
   "version": "3.7.10"
  },
  "papermill": {
   "default_parameters": {},
   "duration": 12.731278,
   "end_time": "2021-07-26T03:38:33.894837",
   "environment_variables": {},
   "exception": null,
   "input_path": "__notebook__.ipynb",
   "output_path": "__notebook__.ipynb",
   "parameters": {},
   "start_time": "2021-07-26T03:38:21.163559",
   "version": "2.3.3"
  }
 },
 "nbformat": 4,
 "nbformat_minor": 5
}
